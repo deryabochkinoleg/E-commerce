{
 "cells": [
  {
   "cell_type": "markdown",
   "id": "e2126bde",
   "metadata": {
    "id": "e2126bde"
   },
   "source": [
    "# Проект e-commerce\n",
    "### Данные и задания предоставлены Karpov.courses"
   ]
  },
  {
   "cell_type": "markdown",
   "id": "ef72af61",
   "metadata": {
    "id": "ef72af61"
   },
   "source": [
    "# Задания"
   ]
  },
  {
   "cell_type": "markdown",
   "id": "19472d73",
   "metadata": {
    "id": "19472d73"
   },
   "source": [
    "1. Сколько у нас пользователей, которые совершили покупку только один раз? \n",
    "\n",
    "2. Сколько заказов в месяц в среднем не доставляется по разным причинам?\n",
    "\n",
    "3. По каждому товару определить, в какой день недели товар чаще всего покупается.\n",
    "\n",
    "4. Сколько у каждого из пользователей в среднем покупок в неделю (по месяцам)?\n",
    "\n",
    "5. Используя pandas, проведи когортный анализ пользователей. В период с января по декабрь выяви когорту с самым высоким retention на 3й месяц.\n",
    "\n",
    "6. Используя python, построй RFM-сегментацию пользователей, чтобы качественно оценить свою аудиторию. Для каждого RFM-сегмента построй границы метрик recency, frequency и monetary для интерпретации этих кластеров."
   ]
  },
  {
   "cell_type": "markdown",
   "id": "67bb14db",
   "metadata": {
    "id": "67bb14db"
   },
   "source": [
    "# Описание данных"
   ]
  },
  {
   "cell_type": "markdown",
   "id": "5c691564",
   "metadata": {
    "id": "5c691564"
   },
   "source": [
    "#### customers — таблица с уникальными идентификаторами пользователей"
   ]
  },
  {
   "cell_type": "markdown",
   "id": "9175aa7b",
   "metadata": {
    "id": "9175aa7b"
   },
   "source": [
    "- customer_id — позаказный идентификатор пользователя\n",
    "\n",
    "- customer_unique_id —  уникальный идентификатор пользователя  (аналог номера паспорта)\n",
    "\n",
    "- customer_zip_code_prefix —  почтовый индекс пользователя\n",
    "\n",
    "- customer_city —  город доставки пользователя\n",
    "\n",
    "- customer_state —  штат доставки пользователя"
   ]
  },
  {
   "cell_type": "markdown",
   "id": "a48f7c5d",
   "metadata": {
    "id": "a48f7c5d"
   },
   "source": [
    "#### orders —  таблица заказов"
   ]
  },
  {
   "cell_type": "markdown",
   "id": "6d54b0e0",
   "metadata": {
    "id": "6d54b0e0"
   },
   "source": [
    "- order_id —  уникальный идентификатор заказа (номер чека)\n",
    "\n",
    "- customer_id —  позаказный идентификатор пользователя\n",
    "\n",
    "- order_status —  статус заказа\n",
    "\n",
    "- order_purchase_timestamp —  время создания заказа\n",
    "\n",
    "- order_approved_at —  время подтверждения оплаты заказа\n",
    "\n",
    "- order_delivered_carrier_date —  время передачи заказа в логистическую службу\n",
    "\n",
    "- order_delivered_customer_date —  время доставки заказа\n",
    "\n",
    "- order_estimated_delivery_date —  обещанная дата доставки"
   ]
  },
  {
   "cell_type": "markdown",
   "id": "1e21c18d",
   "metadata": {
    "id": "1e21c18d"
   },
   "source": [
    "#### items —  товарные позиции, входящие в заказы"
   ]
  },
  {
   "cell_type": "markdown",
   "id": "b941984d",
   "metadata": {
    "id": "b941984d"
   },
   "source": [
    "- order_id —  уникальный идентификатор заказа (номер чека)\n",
    "\n",
    "- order_item_id —  идентификатор товара внутри одного заказа\n",
    "\n",
    "- product_id —  ид товара (аналог штрихкода)\n",
    "\n",
    "- seller_id — ид производителя товара\n",
    "\n",
    "- shipping_limit_date —  максимальная дата доставки продавцом для передачи заказа партнеру по логистике\n",
    "\n",
    "- price —  цена за единицу товара\n",
    "\n",
    "- freight_value —  вес товара"
   ]
  },
  {
   "cell_type": "markdown",
   "id": "c4a44f7f",
   "metadata": {
    "id": "c4a44f7f"
   },
   "source": [
    "Уникальные статусы заказов в таблице orders:\n",
    "\n",
    "- created —  создан\n",
    "\n",
    "- approved —  подтверждён\n",
    "\n",
    "- invoiced —  выставлен счёт\n",
    "\n",
    "- processing —  в процессе сборки заказа\n",
    "\n",
    "- shipped —  отгружен со склада\n",
    "\n",
    "- delivered —  доставлен пользователю\n",
    "\n",
    "- unavailable —  недоступен\n",
    "\n",
    "- canceled —  отменён"
   ]
  },
  {
   "cell_type": "markdown",
   "id": "3b269218",
   "metadata": {
    "id": "3b269218"
   },
   "source": [
    "### Загрузим данные, сделаем предобработку и определим, что считать покупкой."
   ]
  },
  {
   "cell_type": "code",
   "execution_count": 2,
   "id": "d597ef4f",
   "metadata": {
    "id": "d597ef4f"
   },
   "outputs": [],
   "source": [
    "import pandas as pd\n",
    "import numpy as np\n",
    "import seaborn as sns\n",
    "import matplotlib.pyplot as plt\n",
    "from datetime import timedelta\n",
    "import matplotlib.ticker as ticker\n",
    "\n",
    "import requests\n",
    "from urllib.parse import urlencode\n",
    "\n",
    "from matplotlib.ticker import FuncFormatter\n",
    "\n",
    "import warnings\n",
    "warnings.filterwarnings('ignore')\n",
    "\n",
    "%matplotlib inline"
   ]
  },
  {
   "cell_type": "code",
   "execution_count": null,
   "id": "97f3c626",
   "metadata": {
    "id": "97f3c626"
   },
   "outputs": [],
   "source": []
  },
  {
   "cell_type": "markdown",
   "id": "2d00e57c",
   "metadata": {
    "id": "2d00e57c"
   },
   "source": [
    "Считаем данные и проведем их предобработку."
   ]
  },
  {
   "cell_type": "code",
   "execution_count": 3,
   "id": "5d4af29f",
   "metadata": {
    "id": "5d4af29f"
   },
   "outputs": [],
   "source": [
    "base_url = 'https://cloud-api.yandex.net/v1/disk/public/resources/download?'\n",
    "\n",
    "public_key_customers = 'https://disk.yandex.ru/d/QXrVDUoQvFhIcg'\n",
    "public_key_orders = 'https://disk.yandex.ru/d/0zWmh1bYP6REbw'\n",
    "public_key_items = 'https://disk.yandex.ru/d/xCsQ0FiC-Ue4Lg'"
   ]
  },
  {
   "cell_type": "code",
   "execution_count": 4,
   "id": "bb563bb3",
   "metadata": {
    "id": "bb563bb3"
   },
   "outputs": [],
   "source": [
    "def get_frame(base_url, public_key):\n",
    "\n",
    "    final_url = base_url + urlencode(dict(public_key=public_key))\n",
    "\n",
    "    response = requests.get(final_url)\n",
    "\n",
    "    download_url = response.json()['href']\n",
    "\n",
    "    download_response = requests.get(download_url)\n",
    "\n",
    "    return pd.read_csv(download_url)"
   ]
  },
  {
   "cell_type": "code",
   "execution_count": 5,
   "id": "a15e9a85",
   "metadata": {
    "id": "a15e9a85"
   },
   "outputs": [],
   "source": [
    "customers = get_frame(base_url, public_key_customers)\n",
    "orders = get_frame(base_url, public_key_orders)\n",
    "items = get_frame(base_url, public_key_items)"
   ]
  },
  {
   "cell_type": "code",
   "execution_count": null,
   "id": "16fe3afe",
   "metadata": {
    "id": "16fe3afe"
   },
   "outputs": [],
   "source": []
  },
  {
   "cell_type": "markdown",
   "id": "d877073a",
   "metadata": {
    "id": "d877073a"
   },
   "source": [
    "#### Посмотрим на данные в таблице c клиентами 'Customers'"
   ]
  },
  {
   "cell_type": "code",
   "execution_count": 6,
   "id": "069488dd",
   "metadata": {
    "id": "069488dd",
    "outputId": "e9826c96-c74f-4e9e-f841-414d1ad5b65c"
   },
   "outputs": [
    {
     "data": {
      "text/html": [
       "<div>\n",
       "<style scoped>\n",
       "    .dataframe tbody tr th:only-of-type {\n",
       "        vertical-align: middle;\n",
       "    }\n",
       "\n",
       "    .dataframe tbody tr th {\n",
       "        vertical-align: top;\n",
       "    }\n",
       "\n",
       "    .dataframe thead th {\n",
       "        text-align: right;\n",
       "    }\n",
       "</style>\n",
       "<table border=\"1\" class=\"dataframe\">\n",
       "  <thead>\n",
       "    <tr style=\"text-align: right;\">\n",
       "      <th></th>\n",
       "      <th>customer_id</th>\n",
       "      <th>customer_unique_id</th>\n",
       "      <th>customer_zip_code_prefix</th>\n",
       "      <th>customer_city</th>\n",
       "      <th>customer_state</th>\n",
       "    </tr>\n",
       "  </thead>\n",
       "  <tbody>\n",
       "    <tr>\n",
       "      <th>0</th>\n",
       "      <td>06b8999e2fba1a1fbc88172c00ba8bc7</td>\n",
       "      <td>861eff4711a542e4b93843c6dd7febb0</td>\n",
       "      <td>14409</td>\n",
       "      <td>franca</td>\n",
       "      <td>SP</td>\n",
       "    </tr>\n",
       "    <tr>\n",
       "      <th>1</th>\n",
       "      <td>18955e83d337fd6b2def6b18a428ac77</td>\n",
       "      <td>290c77bc529b7ac935b93aa66c333dc3</td>\n",
       "      <td>9790</td>\n",
       "      <td>sao bernardo do campo</td>\n",
       "      <td>SP</td>\n",
       "    </tr>\n",
       "    <tr>\n",
       "      <th>2</th>\n",
       "      <td>4e7b3e00288586ebd08712fdd0374a03</td>\n",
       "      <td>060e732b5b29e8181a18229c7b0b2b5e</td>\n",
       "      <td>1151</td>\n",
       "      <td>sao paulo</td>\n",
       "      <td>SP</td>\n",
       "    </tr>\n",
       "    <tr>\n",
       "      <th>3</th>\n",
       "      <td>b2b6027bc5c5109e529d4dc6358b12c3</td>\n",
       "      <td>259dac757896d24d7702b9acbbff3f3c</td>\n",
       "      <td>8775</td>\n",
       "      <td>mogi das cruzes</td>\n",
       "      <td>SP</td>\n",
       "    </tr>\n",
       "    <tr>\n",
       "      <th>4</th>\n",
       "      <td>4f2d8ab171c80ec8364f7c12e35b23ad</td>\n",
       "      <td>345ecd01c38d18a9036ed96c73b8d066</td>\n",
       "      <td>13056</td>\n",
       "      <td>campinas</td>\n",
       "      <td>SP</td>\n",
       "    </tr>\n",
       "  </tbody>\n",
       "</table>\n",
       "</div>"
      ],
      "text/plain": [
       "                        customer_id                customer_unique_id  \\\n",
       "0  06b8999e2fba1a1fbc88172c00ba8bc7  861eff4711a542e4b93843c6dd7febb0   \n",
       "1  18955e83d337fd6b2def6b18a428ac77  290c77bc529b7ac935b93aa66c333dc3   \n",
       "2  4e7b3e00288586ebd08712fdd0374a03  060e732b5b29e8181a18229c7b0b2b5e   \n",
       "3  b2b6027bc5c5109e529d4dc6358b12c3  259dac757896d24d7702b9acbbff3f3c   \n",
       "4  4f2d8ab171c80ec8364f7c12e35b23ad  345ecd01c38d18a9036ed96c73b8d066   \n",
       "\n",
       "   customer_zip_code_prefix          customer_city customer_state  \n",
       "0                     14409                 franca             SP  \n",
       "1                      9790  sao bernardo do campo             SP  \n",
       "2                      1151              sao paulo             SP  \n",
       "3                      8775        mogi das cruzes             SP  \n",
       "4                     13056               campinas             SP  "
      ]
     },
     "execution_count": 6,
     "metadata": {},
     "output_type": "execute_result"
    }
   ],
   "source": [
    "customers.head()"
   ]
  },
  {
   "cell_type": "code",
   "execution_count": 7,
   "id": "306a1351",
   "metadata": {
    "id": "306a1351",
    "outputId": "420ce664-e9d3-496a-85b1-1cba9f7efab8"
   },
   "outputs": [
    {
     "data": {
      "text/plain": [
       "(99441, 5)"
      ]
     },
     "execution_count": 7,
     "metadata": {},
     "output_type": "execute_result"
    }
   ],
   "source": [
    "customers.shape"
   ]
  },
  {
   "cell_type": "code",
   "execution_count": 8,
   "id": "1788c155",
   "metadata": {
    "id": "1788c155",
    "outputId": "45b9335a-7b4e-4036-a87c-ed53401faa30"
   },
   "outputs": [
    {
     "data": {
      "text/plain": [
       "customer_id                 object\n",
       "customer_unique_id          object\n",
       "customer_zip_code_prefix     int64\n",
       "customer_city               object\n",
       "customer_state              object\n",
       "dtype: object"
      ]
     },
     "execution_count": 8,
     "metadata": {},
     "output_type": "execute_result"
    }
   ],
   "source": [
    "customers.dtypes"
   ]
  },
  {
   "cell_type": "code",
   "execution_count": 9,
   "id": "0db21053",
   "metadata": {
    "id": "0db21053",
    "outputId": "31e32ec8-b40a-409a-aea7-b5b59c15a0f9"
   },
   "outputs": [
    {
     "data": {
      "text/plain": [
       "customer_id                 0\n",
       "customer_unique_id          0\n",
       "customer_zip_code_prefix    0\n",
       "customer_city               0\n",
       "customer_state              0\n",
       "dtype: int64"
      ]
     },
     "execution_count": 9,
     "metadata": {},
     "output_type": "execute_result"
    }
   ],
   "source": [
    "customers.isna().sum()"
   ]
  },
  {
   "cell_type": "code",
   "execution_count": 10,
   "id": "b9309e36",
   "metadata": {
    "id": "b9309e36",
    "outputId": "c78964c0-9475-4727-8ffe-3f9182515afc"
   },
   "outputs": [
    {
     "data": {
      "text/plain": [
       "0"
      ]
     },
     "execution_count": 10,
     "metadata": {},
     "output_type": "execute_result"
    }
   ],
   "source": [
    "customers.duplicated().sum()"
   ]
  },
  {
   "cell_type": "code",
   "execution_count": 11,
   "id": "f75b9572",
   "metadata": {
    "id": "f75b9572",
    "outputId": "43b3e3b3-af4c-461c-d503-fda4393e735a"
   },
   "outputs": [
    {
     "data": {
      "text/plain": [
       "99441"
      ]
     },
     "execution_count": 11,
     "metadata": {},
     "output_type": "execute_result"
    }
   ],
   "source": [
    "customers.customer_id.nunique()"
   ]
  },
  {
   "cell_type": "code",
   "execution_count": 12,
   "id": "b886ed07",
   "metadata": {
    "id": "b886ed07",
    "outputId": "44d1cb1d-d98d-4878-ef86-600d670cd75b"
   },
   "outputs": [
    {
     "data": {
      "text/plain": [
       "96096"
      ]
     },
     "execution_count": 12,
     "metadata": {},
     "output_type": "execute_result"
    }
   ],
   "source": [
    "customers.customer_unique_id.nunique()"
   ]
  },
  {
   "cell_type": "markdown",
   "id": "9b8a8faa",
   "metadata": {
    "id": "9b8a8faa"
   },
   "source": [
    "В таблице Customers нет пропущенных значений и отсутствуют дубликаты.\n",
    "\n",
    "Всего 96096 уникальных пользователя, которые суммарно оформили 99441 заказ.\n",
    "\n",
    "С каждым новым заказом пользователю присваивается новый позаказный номер 'customer_id'."
   ]
  },
  {
   "cell_type": "markdown",
   "id": "64cb9570",
   "metadata": {
    "id": "64cb9570"
   },
   "source": [
    "#### Посмотрим на данные в таблице заказов 'Orders'"
   ]
  },
  {
   "cell_type": "code",
   "execution_count": 13,
   "id": "42ffbce9",
   "metadata": {
    "id": "42ffbce9",
    "outputId": "6c24d5f9-2d0b-4c4e-a405-fa52d72e3ff4",
    "scrolled": true
   },
   "outputs": [
    {
     "data": {
      "text/html": [
       "<div>\n",
       "<style scoped>\n",
       "    .dataframe tbody tr th:only-of-type {\n",
       "        vertical-align: middle;\n",
       "    }\n",
       "\n",
       "    .dataframe tbody tr th {\n",
       "        vertical-align: top;\n",
       "    }\n",
       "\n",
       "    .dataframe thead th {\n",
       "        text-align: right;\n",
       "    }\n",
       "</style>\n",
       "<table border=\"1\" class=\"dataframe\">\n",
       "  <thead>\n",
       "    <tr style=\"text-align: right;\">\n",
       "      <th></th>\n",
       "      <th>order_id</th>\n",
       "      <th>customer_id</th>\n",
       "      <th>order_status</th>\n",
       "      <th>order_purchase_timestamp</th>\n",
       "      <th>order_approved_at</th>\n",
       "      <th>order_delivered_carrier_date</th>\n",
       "      <th>order_delivered_customer_date</th>\n",
       "      <th>order_estimated_delivery_date</th>\n",
       "    </tr>\n",
       "  </thead>\n",
       "  <tbody>\n",
       "    <tr>\n",
       "      <th>0</th>\n",
       "      <td>e481f51cbdc54678b7cc49136f2d6af7</td>\n",
       "      <td>9ef432eb6251297304e76186b10a928d</td>\n",
       "      <td>delivered</td>\n",
       "      <td>2017-10-02 10:56:33</td>\n",
       "      <td>2017-10-02 11:07:15</td>\n",
       "      <td>2017-10-04 19:55:00</td>\n",
       "      <td>2017-10-10 21:25:13</td>\n",
       "      <td>2017-10-18 00:00:00</td>\n",
       "    </tr>\n",
       "    <tr>\n",
       "      <th>1</th>\n",
       "      <td>53cdb2fc8bc7dce0b6741e2150273451</td>\n",
       "      <td>b0830fb4747a6c6d20dea0b8c802d7ef</td>\n",
       "      <td>delivered</td>\n",
       "      <td>2018-07-24 20:41:37</td>\n",
       "      <td>2018-07-26 03:24:27</td>\n",
       "      <td>2018-07-26 14:31:00</td>\n",
       "      <td>2018-08-07 15:27:45</td>\n",
       "      <td>2018-08-13 00:00:00</td>\n",
       "    </tr>\n",
       "    <tr>\n",
       "      <th>2</th>\n",
       "      <td>47770eb9100c2d0c44946d9cf07ec65d</td>\n",
       "      <td>41ce2a54c0b03bf3443c3d931a367089</td>\n",
       "      <td>delivered</td>\n",
       "      <td>2018-08-08 08:38:49</td>\n",
       "      <td>2018-08-08 08:55:23</td>\n",
       "      <td>2018-08-08 13:50:00</td>\n",
       "      <td>2018-08-17 18:06:29</td>\n",
       "      <td>2018-09-04 00:00:00</td>\n",
       "    </tr>\n",
       "    <tr>\n",
       "      <th>3</th>\n",
       "      <td>949d5b44dbf5de918fe9c16f97b45f8a</td>\n",
       "      <td>f88197465ea7920adcdbec7375364d82</td>\n",
       "      <td>delivered</td>\n",
       "      <td>2017-11-18 19:28:06</td>\n",
       "      <td>2017-11-18 19:45:59</td>\n",
       "      <td>2017-11-22 13:39:59</td>\n",
       "      <td>2017-12-02 00:28:42</td>\n",
       "      <td>2017-12-15 00:00:00</td>\n",
       "    </tr>\n",
       "    <tr>\n",
       "      <th>4</th>\n",
       "      <td>ad21c59c0840e6cb83a9ceb5573f8159</td>\n",
       "      <td>8ab97904e6daea8866dbdbc4fb7aad2c</td>\n",
       "      <td>delivered</td>\n",
       "      <td>2018-02-13 21:18:39</td>\n",
       "      <td>2018-02-13 22:20:29</td>\n",
       "      <td>2018-02-14 19:46:34</td>\n",
       "      <td>2018-02-16 18:17:02</td>\n",
       "      <td>2018-02-26 00:00:00</td>\n",
       "    </tr>\n",
       "  </tbody>\n",
       "</table>\n",
       "</div>"
      ],
      "text/plain": [
       "                           order_id                       customer_id  \\\n",
       "0  e481f51cbdc54678b7cc49136f2d6af7  9ef432eb6251297304e76186b10a928d   \n",
       "1  53cdb2fc8bc7dce0b6741e2150273451  b0830fb4747a6c6d20dea0b8c802d7ef   \n",
       "2  47770eb9100c2d0c44946d9cf07ec65d  41ce2a54c0b03bf3443c3d931a367089   \n",
       "3  949d5b44dbf5de918fe9c16f97b45f8a  f88197465ea7920adcdbec7375364d82   \n",
       "4  ad21c59c0840e6cb83a9ceb5573f8159  8ab97904e6daea8866dbdbc4fb7aad2c   \n",
       "\n",
       "  order_status order_purchase_timestamp    order_approved_at  \\\n",
       "0    delivered      2017-10-02 10:56:33  2017-10-02 11:07:15   \n",
       "1    delivered      2018-07-24 20:41:37  2018-07-26 03:24:27   \n",
       "2    delivered      2018-08-08 08:38:49  2018-08-08 08:55:23   \n",
       "3    delivered      2017-11-18 19:28:06  2017-11-18 19:45:59   \n",
       "4    delivered      2018-02-13 21:18:39  2018-02-13 22:20:29   \n",
       "\n",
       "  order_delivered_carrier_date order_delivered_customer_date  \\\n",
       "0          2017-10-04 19:55:00           2017-10-10 21:25:13   \n",
       "1          2018-07-26 14:31:00           2018-08-07 15:27:45   \n",
       "2          2018-08-08 13:50:00           2018-08-17 18:06:29   \n",
       "3          2017-11-22 13:39:59           2017-12-02 00:28:42   \n",
       "4          2018-02-14 19:46:34           2018-02-16 18:17:02   \n",
       "\n",
       "  order_estimated_delivery_date  \n",
       "0           2017-10-18 00:00:00  \n",
       "1           2018-08-13 00:00:00  \n",
       "2           2018-09-04 00:00:00  \n",
       "3           2017-12-15 00:00:00  \n",
       "4           2018-02-26 00:00:00  "
      ]
     },
     "execution_count": 13,
     "metadata": {},
     "output_type": "execute_result"
    }
   ],
   "source": [
    "orders.head()"
   ]
  },
  {
   "cell_type": "code",
   "execution_count": 14,
   "id": "a6f91eeb",
   "metadata": {
    "id": "a6f91eeb",
    "outputId": "56331ffc-e80b-48c4-e854-ccf3b27e28e9"
   },
   "outputs": [
    {
     "data": {
      "text/plain": [
       "(99441, 8)"
      ]
     },
     "execution_count": 14,
     "metadata": {},
     "output_type": "execute_result"
    }
   ],
   "source": [
    "orders.shape"
   ]
  },
  {
   "cell_type": "code",
   "execution_count": 15,
   "id": "f72afdab",
   "metadata": {
    "id": "f72afdab",
    "outputId": "a3b23b7e-508a-4067-f818-700d2ac00d24"
   },
   "outputs": [
    {
     "data": {
      "text/plain": [
       "order_id                         object\n",
       "customer_id                      object\n",
       "order_status                     object\n",
       "order_purchase_timestamp         object\n",
       "order_approved_at                object\n",
       "order_delivered_carrier_date     object\n",
       "order_delivered_customer_date    object\n",
       "order_estimated_delivery_date    object\n",
       "dtype: object"
      ]
     },
     "execution_count": 15,
     "metadata": {},
     "output_type": "execute_result"
    }
   ],
   "source": [
    "orders.dtypes"
   ]
  },
  {
   "cell_type": "markdown",
   "id": "d7509a9b",
   "metadata": {
    "id": "d7509a9b"
   },
   "source": [
    "Приведем колонки с датой и временем к формату datetime."
   ]
  },
  {
   "cell_type": "code",
   "execution_count": 16,
   "id": "7d24d6c4",
   "metadata": {
    "id": "7d24d6c4"
   },
   "outputs": [],
   "source": [
    "orders['order_purchase_timestamp'] = pd.to_datetime(orders['order_purchase_timestamp'], format='%Y-%m-%d %H:%M:%S')\n",
    "orders['order_approved_at'] = pd.to_datetime(orders['order_approved_at'], format='%Y-%m-%d %H:%M:%S')\n",
    "orders['order_delivered_carrier_date'] = pd.to_datetime(orders['order_delivered_carrier_date'], format='%Y-%m-%d %H:%M:%S')\n",
    "orders['order_delivered_customer_date'] = pd.to_datetime(orders['order_delivered_customer_date'], format='%Y-%m-%d %H:%M:%S')\n",
    "orders['order_estimated_delivery_date'] = pd.to_datetime(orders['order_estimated_delivery_date'], format='%Y-%m-%d %H:%M:%S')"
   ]
  },
  {
   "cell_type": "code",
   "execution_count": 17,
   "id": "bb514a70",
   "metadata": {
    "id": "bb514a70",
    "outputId": "f9a4c1fd-fd3a-4715-d938-ec24453f34f9"
   },
   "outputs": [
    {
     "data": {
      "text/plain": [
       "0"
      ]
     },
     "execution_count": 17,
     "metadata": {},
     "output_type": "execute_result"
    }
   ],
   "source": [
    "orders.duplicated().sum()"
   ]
  },
  {
   "cell_type": "code",
   "execution_count": 18,
   "id": "aba65b6f",
   "metadata": {
    "id": "aba65b6f",
    "outputId": "9f045dc1-b7f8-4b42-a0ab-539dbcf78bff"
   },
   "outputs": [
    {
     "data": {
      "text/plain": [
       "order_id                            0\n",
       "customer_id                         0\n",
       "order_status                        0\n",
       "order_purchase_timestamp            0\n",
       "order_approved_at                 160\n",
       "order_delivered_carrier_date     1783\n",
       "order_delivered_customer_date    2965\n",
       "order_estimated_delivery_date       0\n",
       "dtype: int64"
      ]
     },
     "execution_count": 18,
     "metadata": {},
     "output_type": "execute_result"
    }
   ],
   "source": [
    "orders.isna().sum()"
   ]
  },
  {
   "cell_type": "code",
   "execution_count": 19,
   "id": "7ac83091",
   "metadata": {
    "id": "7ac83091",
    "outputId": "0d2117b4-e0a5-4181-d2ce-f0f1e87af735"
   },
   "outputs": [
    {
     "data": {
      "text/plain": [
       "order_status\n",
       "delivered      96478\n",
       "shipped         1107\n",
       "canceled         625\n",
       "unavailable      609\n",
       "invoiced         314\n",
       "processing       301\n",
       "created            5\n",
       "approved           2\n",
       "Name: count, dtype: int64"
      ]
     },
     "execution_count": 19,
     "metadata": {},
     "output_type": "execute_result"
    }
   ],
   "source": [
    "orders.order_status.value_counts()"
   ]
  },
  {
   "cell_type": "code",
   "execution_count": 20,
   "id": "9278c7c7",
   "metadata": {
    "id": "9278c7c7",
    "outputId": "44ad1f6e-c8be-4f07-a4f1-dd35fee0d655"
   },
   "outputs": [
    {
     "data": {
      "text/plain": [
       "97.02"
      ]
     },
     "execution_count": 20,
     "metadata": {},
     "output_type": "execute_result"
    }
   ],
   "source": [
    "np.round(orders.order_status.value_counts().loc['delivered'] / orders.shape[0] * 100, 2)"
   ]
  },
  {
   "cell_type": "markdown",
   "id": "6eabea4b",
   "metadata": {
    "id": "6eabea4b"
   },
   "source": [
    "Всего был оформлен 99441 заказ.\n",
    "\n",
    "Дубликаты в таблице Orders отсутствуют, однако есть пропущенные значения в колонках:\n",
    "- 'order_approved_at' (160)\n",
    "- 'order_delivered_carrier_date' (1783)\n",
    "- 'order_delivered_customer_date' (2965)\n",
    "\n",
    "97.02% заказов имеют статус 'delivered' - доставлены пользователю."
   ]
  },
  {
   "cell_type": "markdown",
   "id": "d5fb2bec",
   "metadata": {
    "id": "d5fb2bec"
   },
   "source": [
    "#### Посмотрим на данные об отдельных товарах в заказе в таблице 'items'"
   ]
  },
  {
   "cell_type": "code",
   "execution_count": 21,
   "id": "864e4d16",
   "metadata": {
    "id": "864e4d16",
    "outputId": "f320b080-9e0f-4d9e-ea34-e4e9d86b6c2c"
   },
   "outputs": [
    {
     "data": {
      "text/html": [
       "<div>\n",
       "<style scoped>\n",
       "    .dataframe tbody tr th:only-of-type {\n",
       "        vertical-align: middle;\n",
       "    }\n",
       "\n",
       "    .dataframe tbody tr th {\n",
       "        vertical-align: top;\n",
       "    }\n",
       "\n",
       "    .dataframe thead th {\n",
       "        text-align: right;\n",
       "    }\n",
       "</style>\n",
       "<table border=\"1\" class=\"dataframe\">\n",
       "  <thead>\n",
       "    <tr style=\"text-align: right;\">\n",
       "      <th></th>\n",
       "      <th>order_id</th>\n",
       "      <th>order_item_id</th>\n",
       "      <th>product_id</th>\n",
       "      <th>seller_id</th>\n",
       "      <th>shipping_limit_date</th>\n",
       "      <th>price</th>\n",
       "      <th>freight_value</th>\n",
       "    </tr>\n",
       "  </thead>\n",
       "  <tbody>\n",
       "    <tr>\n",
       "      <th>0</th>\n",
       "      <td>00010242fe8c5a6d1ba2dd792cb16214</td>\n",
       "      <td>1</td>\n",
       "      <td>4244733e06e7ecb4970a6e2683c13e61</td>\n",
       "      <td>48436dade18ac8b2bce089ec2a041202</td>\n",
       "      <td>2017-09-19 09:45:35</td>\n",
       "      <td>58.90</td>\n",
       "      <td>13.29</td>\n",
       "    </tr>\n",
       "    <tr>\n",
       "      <th>1</th>\n",
       "      <td>00018f77f2f0320c557190d7a144bdd3</td>\n",
       "      <td>1</td>\n",
       "      <td>e5f2d52b802189ee658865ca93d83a8f</td>\n",
       "      <td>dd7ddc04e1b6c2c614352b383efe2d36</td>\n",
       "      <td>2017-05-03 11:05:13</td>\n",
       "      <td>239.90</td>\n",
       "      <td>19.93</td>\n",
       "    </tr>\n",
       "    <tr>\n",
       "      <th>2</th>\n",
       "      <td>000229ec398224ef6ca0657da4fc703e</td>\n",
       "      <td>1</td>\n",
       "      <td>c777355d18b72b67abbeef9df44fd0fd</td>\n",
       "      <td>5b51032eddd242adc84c38acab88f23d</td>\n",
       "      <td>2018-01-18 14:48:30</td>\n",
       "      <td>199.00</td>\n",
       "      <td>17.87</td>\n",
       "    </tr>\n",
       "    <tr>\n",
       "      <th>3</th>\n",
       "      <td>00024acbcdf0a6daa1e931b038114c75</td>\n",
       "      <td>1</td>\n",
       "      <td>7634da152a4610f1595efa32f14722fc</td>\n",
       "      <td>9d7a1d34a5052409006425275ba1c2b4</td>\n",
       "      <td>2018-08-15 10:10:18</td>\n",
       "      <td>12.99</td>\n",
       "      <td>12.79</td>\n",
       "    </tr>\n",
       "    <tr>\n",
       "      <th>4</th>\n",
       "      <td>00042b26cf59d7ce69dfabb4e55b4fd9</td>\n",
       "      <td>1</td>\n",
       "      <td>ac6c3623068f30de03045865e4e10089</td>\n",
       "      <td>df560393f3a51e74553ab94004ba5c87</td>\n",
       "      <td>2017-02-13 13:57:51</td>\n",
       "      <td>199.90</td>\n",
       "      <td>18.14</td>\n",
       "    </tr>\n",
       "  </tbody>\n",
       "</table>\n",
       "</div>"
      ],
      "text/plain": [
       "                           order_id  order_item_id  \\\n",
       "0  00010242fe8c5a6d1ba2dd792cb16214              1   \n",
       "1  00018f77f2f0320c557190d7a144bdd3              1   \n",
       "2  000229ec398224ef6ca0657da4fc703e              1   \n",
       "3  00024acbcdf0a6daa1e931b038114c75              1   \n",
       "4  00042b26cf59d7ce69dfabb4e55b4fd9              1   \n",
       "\n",
       "                         product_id                         seller_id  \\\n",
       "0  4244733e06e7ecb4970a6e2683c13e61  48436dade18ac8b2bce089ec2a041202   \n",
       "1  e5f2d52b802189ee658865ca93d83a8f  dd7ddc04e1b6c2c614352b383efe2d36   \n",
       "2  c777355d18b72b67abbeef9df44fd0fd  5b51032eddd242adc84c38acab88f23d   \n",
       "3  7634da152a4610f1595efa32f14722fc  9d7a1d34a5052409006425275ba1c2b4   \n",
       "4  ac6c3623068f30de03045865e4e10089  df560393f3a51e74553ab94004ba5c87   \n",
       "\n",
       "   shipping_limit_date   price  freight_value  \n",
       "0  2017-09-19 09:45:35   58.90          13.29  \n",
       "1  2017-05-03 11:05:13  239.90          19.93  \n",
       "2  2018-01-18 14:48:30  199.00          17.87  \n",
       "3  2018-08-15 10:10:18   12.99          12.79  \n",
       "4  2017-02-13 13:57:51  199.90          18.14  "
      ]
     },
     "execution_count": 21,
     "metadata": {},
     "output_type": "execute_result"
    }
   ],
   "source": [
    "items.head()"
   ]
  },
  {
   "cell_type": "code",
   "execution_count": 22,
   "id": "b943fd79",
   "metadata": {
    "id": "b943fd79",
    "outputId": "1da4994e-963b-4b68-f164-2a8c4ba81150"
   },
   "outputs": [
    {
     "data": {
      "text/plain": [
       "(112650, 7)"
      ]
     },
     "execution_count": 22,
     "metadata": {},
     "output_type": "execute_result"
    }
   ],
   "source": [
    "items.shape"
   ]
  },
  {
   "cell_type": "code",
   "execution_count": 23,
   "id": "46a4d91b",
   "metadata": {
    "id": "46a4d91b",
    "outputId": "a0b02cbd-b670-4783-9311-e14ac5a59875"
   },
   "outputs": [
    {
     "data": {
      "text/plain": [
       "0"
      ]
     },
     "execution_count": 23,
     "metadata": {},
     "output_type": "execute_result"
    }
   ],
   "source": [
    "items.duplicated().sum()"
   ]
  },
  {
   "cell_type": "code",
   "execution_count": 24,
   "id": "2c684843",
   "metadata": {
    "id": "2c684843",
    "outputId": "3c2c6d4b-9428-4566-aebe-90c10bc7cbd0"
   },
   "outputs": [
    {
     "data": {
      "text/plain": [
       "order_id               0\n",
       "order_item_id          0\n",
       "product_id             0\n",
       "seller_id              0\n",
       "shipping_limit_date    0\n",
       "price                  0\n",
       "freight_value          0\n",
       "dtype: int64"
      ]
     },
     "execution_count": 24,
     "metadata": {},
     "output_type": "execute_result"
    }
   ],
   "source": [
    "items.isna().sum()"
   ]
  },
  {
   "cell_type": "code",
   "execution_count": 25,
   "id": "5bccc08f",
   "metadata": {
    "id": "5bccc08f",
    "outputId": "d2ef6311-1a03-41a5-c75e-f332737ab593"
   },
   "outputs": [
    {
     "data": {
      "text/plain": [
       "order_id\n",
       "8272b63d03f5f79c56e9e4120aec44ef    21\n",
       "1b15974a0141d54e36626dca3fdc731a    20\n",
       "ab14fdcfbe524636d65ee38360e22ce8    20\n",
       "9ef13efd6949e4573a18964dd1bbe7f5    15\n",
       "428a2f660dc84138d969ccd69a0ab6d5    15\n",
       "                                    ..\n",
       "5a0911d70c1f85d3bed0df1bf693a6dd     1\n",
       "5a082b558a3798d3e36d93bfa8ca1eae     1\n",
       "5a07264682e0b8fbb3f166edbbffc6e8     1\n",
       "5a071192a28951b76774e5a760c8c9b7     1\n",
       "fffe41c64501cc87c801fd61db3f6244     1\n",
       "Name: count, Length: 98666, dtype: int64"
      ]
     },
     "execution_count": 25,
     "metadata": {},
     "output_type": "execute_result"
    }
   ],
   "source": [
    "items.order_id.value_counts()"
   ]
  },
  {
   "cell_type": "code",
   "execution_count": 26,
   "id": "d3e19479",
   "metadata": {
    "id": "d3e19479",
    "outputId": "c5c67ebe-a443-4d98-e79b-f88f35254e05"
   },
   "outputs": [
    {
     "data": {
      "text/html": [
       "<div>\n",
       "<style scoped>\n",
       "    .dataframe tbody tr th:only-of-type {\n",
       "        vertical-align: middle;\n",
       "    }\n",
       "\n",
       "    .dataframe tbody tr th {\n",
       "        vertical-align: top;\n",
       "    }\n",
       "\n",
       "    .dataframe thead th {\n",
       "        text-align: right;\n",
       "    }\n",
       "</style>\n",
       "<table border=\"1\" class=\"dataframe\">\n",
       "  <thead>\n",
       "    <tr style=\"text-align: right;\">\n",
       "      <th></th>\n",
       "      <th>order_id</th>\n",
       "      <th>order_item_id</th>\n",
       "      <th>product_id</th>\n",
       "      <th>seller_id</th>\n",
       "      <th>shipping_limit_date</th>\n",
       "      <th>price</th>\n",
       "      <th>freight_value</th>\n",
       "    </tr>\n",
       "  </thead>\n",
       "  <tbody>\n",
       "    <tr>\n",
       "      <th>57297</th>\n",
       "      <td>8272b63d03f5f79c56e9e4120aec44ef</td>\n",
       "      <td>1</td>\n",
       "      <td>270516a3f41dc035aa87d220228f844c</td>\n",
       "      <td>2709af9587499e95e803a6498a5a56e9</td>\n",
       "      <td>2017-07-21 18:25:23</td>\n",
       "      <td>1.2</td>\n",
       "      <td>7.89</td>\n",
       "    </tr>\n",
       "    <tr>\n",
       "      <th>57298</th>\n",
       "      <td>8272b63d03f5f79c56e9e4120aec44ef</td>\n",
       "      <td>2</td>\n",
       "      <td>05b515fdc76e888aada3c6d66c201dff</td>\n",
       "      <td>2709af9587499e95e803a6498a5a56e9</td>\n",
       "      <td>2017-07-21 18:25:23</td>\n",
       "      <td>1.2</td>\n",
       "      <td>7.89</td>\n",
       "    </tr>\n",
       "    <tr>\n",
       "      <th>57299</th>\n",
       "      <td>8272b63d03f5f79c56e9e4120aec44ef</td>\n",
       "      <td>3</td>\n",
       "      <td>05b515fdc76e888aada3c6d66c201dff</td>\n",
       "      <td>2709af9587499e95e803a6498a5a56e9</td>\n",
       "      <td>2017-07-21 18:25:23</td>\n",
       "      <td>1.2</td>\n",
       "      <td>7.89</td>\n",
       "    </tr>\n",
       "    <tr>\n",
       "      <th>57300</th>\n",
       "      <td>8272b63d03f5f79c56e9e4120aec44ef</td>\n",
       "      <td>4</td>\n",
       "      <td>05b515fdc76e888aada3c6d66c201dff</td>\n",
       "      <td>2709af9587499e95e803a6498a5a56e9</td>\n",
       "      <td>2017-07-21 18:25:23</td>\n",
       "      <td>1.2</td>\n",
       "      <td>7.89</td>\n",
       "    </tr>\n",
       "    <tr>\n",
       "      <th>57301</th>\n",
       "      <td>8272b63d03f5f79c56e9e4120aec44ef</td>\n",
       "      <td>5</td>\n",
       "      <td>05b515fdc76e888aada3c6d66c201dff</td>\n",
       "      <td>2709af9587499e95e803a6498a5a56e9</td>\n",
       "      <td>2017-07-21 18:25:23</td>\n",
       "      <td>1.2</td>\n",
       "      <td>7.89</td>\n",
       "    </tr>\n",
       "    <tr>\n",
       "      <th>57302</th>\n",
       "      <td>8272b63d03f5f79c56e9e4120aec44ef</td>\n",
       "      <td>6</td>\n",
       "      <td>05b515fdc76e888aada3c6d66c201dff</td>\n",
       "      <td>2709af9587499e95e803a6498a5a56e9</td>\n",
       "      <td>2017-07-21 18:25:23</td>\n",
       "      <td>1.2</td>\n",
       "      <td>7.89</td>\n",
       "    </tr>\n",
       "    <tr>\n",
       "      <th>57303</th>\n",
       "      <td>8272b63d03f5f79c56e9e4120aec44ef</td>\n",
       "      <td>7</td>\n",
       "      <td>05b515fdc76e888aada3c6d66c201dff</td>\n",
       "      <td>2709af9587499e95e803a6498a5a56e9</td>\n",
       "      <td>2017-07-21 18:25:23</td>\n",
       "      <td>1.2</td>\n",
       "      <td>7.89</td>\n",
       "    </tr>\n",
       "    <tr>\n",
       "      <th>57304</th>\n",
       "      <td>8272b63d03f5f79c56e9e4120aec44ef</td>\n",
       "      <td>8</td>\n",
       "      <td>05b515fdc76e888aada3c6d66c201dff</td>\n",
       "      <td>2709af9587499e95e803a6498a5a56e9</td>\n",
       "      <td>2017-07-21 18:25:23</td>\n",
       "      <td>1.2</td>\n",
       "      <td>7.89</td>\n",
       "    </tr>\n",
       "    <tr>\n",
       "      <th>57305</th>\n",
       "      <td>8272b63d03f5f79c56e9e4120aec44ef</td>\n",
       "      <td>9</td>\n",
       "      <td>05b515fdc76e888aada3c6d66c201dff</td>\n",
       "      <td>2709af9587499e95e803a6498a5a56e9</td>\n",
       "      <td>2017-07-21 18:25:23</td>\n",
       "      <td>1.2</td>\n",
       "      <td>7.89</td>\n",
       "    </tr>\n",
       "    <tr>\n",
       "      <th>57306</th>\n",
       "      <td>8272b63d03f5f79c56e9e4120aec44ef</td>\n",
       "      <td>10</td>\n",
       "      <td>05b515fdc76e888aada3c6d66c201dff</td>\n",
       "      <td>2709af9587499e95e803a6498a5a56e9</td>\n",
       "      <td>2017-07-21 18:25:23</td>\n",
       "      <td>1.2</td>\n",
       "      <td>7.89</td>\n",
       "    </tr>\n",
       "    <tr>\n",
       "      <th>57307</th>\n",
       "      <td>8272b63d03f5f79c56e9e4120aec44ef</td>\n",
       "      <td>11</td>\n",
       "      <td>05b515fdc76e888aada3c6d66c201dff</td>\n",
       "      <td>2709af9587499e95e803a6498a5a56e9</td>\n",
       "      <td>2017-07-21 18:25:23</td>\n",
       "      <td>1.2</td>\n",
       "      <td>7.89</td>\n",
       "    </tr>\n",
       "    <tr>\n",
       "      <th>57308</th>\n",
       "      <td>8272b63d03f5f79c56e9e4120aec44ef</td>\n",
       "      <td>12</td>\n",
       "      <td>270516a3f41dc035aa87d220228f844c</td>\n",
       "      <td>2709af9587499e95e803a6498a5a56e9</td>\n",
       "      <td>2017-07-21 18:25:23</td>\n",
       "      <td>1.2</td>\n",
       "      <td>7.89</td>\n",
       "    </tr>\n",
       "    <tr>\n",
       "      <th>57309</th>\n",
       "      <td>8272b63d03f5f79c56e9e4120aec44ef</td>\n",
       "      <td>13</td>\n",
       "      <td>270516a3f41dc035aa87d220228f844c</td>\n",
       "      <td>2709af9587499e95e803a6498a5a56e9</td>\n",
       "      <td>2017-07-21 18:25:23</td>\n",
       "      <td>1.2</td>\n",
       "      <td>7.89</td>\n",
       "    </tr>\n",
       "    <tr>\n",
       "      <th>57310</th>\n",
       "      <td>8272b63d03f5f79c56e9e4120aec44ef</td>\n",
       "      <td>14</td>\n",
       "      <td>270516a3f41dc035aa87d220228f844c</td>\n",
       "      <td>2709af9587499e95e803a6498a5a56e9</td>\n",
       "      <td>2017-07-21 18:25:23</td>\n",
       "      <td>1.2</td>\n",
       "      <td>7.89</td>\n",
       "    </tr>\n",
       "    <tr>\n",
       "      <th>57311</th>\n",
       "      <td>8272b63d03f5f79c56e9e4120aec44ef</td>\n",
       "      <td>15</td>\n",
       "      <td>270516a3f41dc035aa87d220228f844c</td>\n",
       "      <td>2709af9587499e95e803a6498a5a56e9</td>\n",
       "      <td>2017-07-21 18:25:23</td>\n",
       "      <td>1.2</td>\n",
       "      <td>7.89</td>\n",
       "    </tr>\n",
       "    <tr>\n",
       "      <th>57312</th>\n",
       "      <td>8272b63d03f5f79c56e9e4120aec44ef</td>\n",
       "      <td>16</td>\n",
       "      <td>270516a3f41dc035aa87d220228f844c</td>\n",
       "      <td>2709af9587499e95e803a6498a5a56e9</td>\n",
       "      <td>2017-07-21 18:25:23</td>\n",
       "      <td>1.2</td>\n",
       "      <td>7.89</td>\n",
       "    </tr>\n",
       "    <tr>\n",
       "      <th>57313</th>\n",
       "      <td>8272b63d03f5f79c56e9e4120aec44ef</td>\n",
       "      <td>17</td>\n",
       "      <td>270516a3f41dc035aa87d220228f844c</td>\n",
       "      <td>2709af9587499e95e803a6498a5a56e9</td>\n",
       "      <td>2017-07-21 18:25:23</td>\n",
       "      <td>1.2</td>\n",
       "      <td>7.89</td>\n",
       "    </tr>\n",
       "    <tr>\n",
       "      <th>57314</th>\n",
       "      <td>8272b63d03f5f79c56e9e4120aec44ef</td>\n",
       "      <td>18</td>\n",
       "      <td>270516a3f41dc035aa87d220228f844c</td>\n",
       "      <td>2709af9587499e95e803a6498a5a56e9</td>\n",
       "      <td>2017-07-21 18:25:23</td>\n",
       "      <td>1.2</td>\n",
       "      <td>7.89</td>\n",
       "    </tr>\n",
       "    <tr>\n",
       "      <th>57315</th>\n",
       "      <td>8272b63d03f5f79c56e9e4120aec44ef</td>\n",
       "      <td>19</td>\n",
       "      <td>270516a3f41dc035aa87d220228f844c</td>\n",
       "      <td>2709af9587499e95e803a6498a5a56e9</td>\n",
       "      <td>2017-07-21 18:25:23</td>\n",
       "      <td>1.2</td>\n",
       "      <td>7.89</td>\n",
       "    </tr>\n",
       "    <tr>\n",
       "      <th>57316</th>\n",
       "      <td>8272b63d03f5f79c56e9e4120aec44ef</td>\n",
       "      <td>20</td>\n",
       "      <td>270516a3f41dc035aa87d220228f844c</td>\n",
       "      <td>2709af9587499e95e803a6498a5a56e9</td>\n",
       "      <td>2017-07-21 18:25:23</td>\n",
       "      <td>1.2</td>\n",
       "      <td>7.89</td>\n",
       "    </tr>\n",
       "    <tr>\n",
       "      <th>57317</th>\n",
       "      <td>8272b63d03f5f79c56e9e4120aec44ef</td>\n",
       "      <td>21</td>\n",
       "      <td>79ce45dbc2ea29b22b5a261bbb7b7ee7</td>\n",
       "      <td>2709af9587499e95e803a6498a5a56e9</td>\n",
       "      <td>2017-07-21 18:25:23</td>\n",
       "      <td>7.8</td>\n",
       "      <td>6.57</td>\n",
       "    </tr>\n",
       "  </tbody>\n",
       "</table>\n",
       "</div>"
      ],
      "text/plain": [
       "                               order_id  order_item_id  \\\n",
       "57297  8272b63d03f5f79c56e9e4120aec44ef              1   \n",
       "57298  8272b63d03f5f79c56e9e4120aec44ef              2   \n",
       "57299  8272b63d03f5f79c56e9e4120aec44ef              3   \n",
       "57300  8272b63d03f5f79c56e9e4120aec44ef              4   \n",
       "57301  8272b63d03f5f79c56e9e4120aec44ef              5   \n",
       "57302  8272b63d03f5f79c56e9e4120aec44ef              6   \n",
       "57303  8272b63d03f5f79c56e9e4120aec44ef              7   \n",
       "57304  8272b63d03f5f79c56e9e4120aec44ef              8   \n",
       "57305  8272b63d03f5f79c56e9e4120aec44ef              9   \n",
       "57306  8272b63d03f5f79c56e9e4120aec44ef             10   \n",
       "57307  8272b63d03f5f79c56e9e4120aec44ef             11   \n",
       "57308  8272b63d03f5f79c56e9e4120aec44ef             12   \n",
       "57309  8272b63d03f5f79c56e9e4120aec44ef             13   \n",
       "57310  8272b63d03f5f79c56e9e4120aec44ef             14   \n",
       "57311  8272b63d03f5f79c56e9e4120aec44ef             15   \n",
       "57312  8272b63d03f5f79c56e9e4120aec44ef             16   \n",
       "57313  8272b63d03f5f79c56e9e4120aec44ef             17   \n",
       "57314  8272b63d03f5f79c56e9e4120aec44ef             18   \n",
       "57315  8272b63d03f5f79c56e9e4120aec44ef             19   \n",
       "57316  8272b63d03f5f79c56e9e4120aec44ef             20   \n",
       "57317  8272b63d03f5f79c56e9e4120aec44ef             21   \n",
       "\n",
       "                             product_id                         seller_id  \\\n",
       "57297  270516a3f41dc035aa87d220228f844c  2709af9587499e95e803a6498a5a56e9   \n",
       "57298  05b515fdc76e888aada3c6d66c201dff  2709af9587499e95e803a6498a5a56e9   \n",
       "57299  05b515fdc76e888aada3c6d66c201dff  2709af9587499e95e803a6498a5a56e9   \n",
       "57300  05b515fdc76e888aada3c6d66c201dff  2709af9587499e95e803a6498a5a56e9   \n",
       "57301  05b515fdc76e888aada3c6d66c201dff  2709af9587499e95e803a6498a5a56e9   \n",
       "57302  05b515fdc76e888aada3c6d66c201dff  2709af9587499e95e803a6498a5a56e9   \n",
       "57303  05b515fdc76e888aada3c6d66c201dff  2709af9587499e95e803a6498a5a56e9   \n",
       "57304  05b515fdc76e888aada3c6d66c201dff  2709af9587499e95e803a6498a5a56e9   \n",
       "57305  05b515fdc76e888aada3c6d66c201dff  2709af9587499e95e803a6498a5a56e9   \n",
       "57306  05b515fdc76e888aada3c6d66c201dff  2709af9587499e95e803a6498a5a56e9   \n",
       "57307  05b515fdc76e888aada3c6d66c201dff  2709af9587499e95e803a6498a5a56e9   \n",
       "57308  270516a3f41dc035aa87d220228f844c  2709af9587499e95e803a6498a5a56e9   \n",
       "57309  270516a3f41dc035aa87d220228f844c  2709af9587499e95e803a6498a5a56e9   \n",
       "57310  270516a3f41dc035aa87d220228f844c  2709af9587499e95e803a6498a5a56e9   \n",
       "57311  270516a3f41dc035aa87d220228f844c  2709af9587499e95e803a6498a5a56e9   \n",
       "57312  270516a3f41dc035aa87d220228f844c  2709af9587499e95e803a6498a5a56e9   \n",
       "57313  270516a3f41dc035aa87d220228f844c  2709af9587499e95e803a6498a5a56e9   \n",
       "57314  270516a3f41dc035aa87d220228f844c  2709af9587499e95e803a6498a5a56e9   \n",
       "57315  270516a3f41dc035aa87d220228f844c  2709af9587499e95e803a6498a5a56e9   \n",
       "57316  270516a3f41dc035aa87d220228f844c  2709af9587499e95e803a6498a5a56e9   \n",
       "57317  79ce45dbc2ea29b22b5a261bbb7b7ee7  2709af9587499e95e803a6498a5a56e9   \n",
       "\n",
       "       shipping_limit_date  price  freight_value  \n",
       "57297  2017-07-21 18:25:23    1.2           7.89  \n",
       "57298  2017-07-21 18:25:23    1.2           7.89  \n",
       "57299  2017-07-21 18:25:23    1.2           7.89  \n",
       "57300  2017-07-21 18:25:23    1.2           7.89  \n",
       "57301  2017-07-21 18:25:23    1.2           7.89  \n",
       "57302  2017-07-21 18:25:23    1.2           7.89  \n",
       "57303  2017-07-21 18:25:23    1.2           7.89  \n",
       "57304  2017-07-21 18:25:23    1.2           7.89  \n",
       "57305  2017-07-21 18:25:23    1.2           7.89  \n",
       "57306  2017-07-21 18:25:23    1.2           7.89  \n",
       "57307  2017-07-21 18:25:23    1.2           7.89  \n",
       "57308  2017-07-21 18:25:23    1.2           7.89  \n",
       "57309  2017-07-21 18:25:23    1.2           7.89  \n",
       "57310  2017-07-21 18:25:23    1.2           7.89  \n",
       "57311  2017-07-21 18:25:23    1.2           7.89  \n",
       "57312  2017-07-21 18:25:23    1.2           7.89  \n",
       "57313  2017-07-21 18:25:23    1.2           7.89  \n",
       "57314  2017-07-21 18:25:23    1.2           7.89  \n",
       "57315  2017-07-21 18:25:23    1.2           7.89  \n",
       "57316  2017-07-21 18:25:23    1.2           7.89  \n",
       "57317  2017-07-21 18:25:23    7.8           6.57  "
      ]
     },
     "execution_count": 26,
     "metadata": {},
     "output_type": "execute_result"
    }
   ],
   "source": [
    "items.loc[items.order_id == '8272b63d03f5f79c56e9e4120aec44ef']"
   ]
  },
  {
   "cell_type": "code",
   "execution_count": 27,
   "id": "947e8a68",
   "metadata": {
    "id": "947e8a68"
   },
   "outputs": [],
   "source": [
    "orders_items = orders.merge(items)"
   ]
  },
  {
   "cell_type": "code",
   "execution_count": 28,
   "id": "4523cec1",
   "metadata": {
    "id": "4523cec1",
    "outputId": "88ba8cdd-c5d1-4c86-d749-a7fe4ec2f196"
   },
   "outputs": [
    {
     "data": {
      "text/html": [
       "<div>\n",
       "<style scoped>\n",
       "    .dataframe tbody tr th:only-of-type {\n",
       "        vertical-align: middle;\n",
       "    }\n",
       "\n",
       "    .dataframe tbody tr th {\n",
       "        vertical-align: top;\n",
       "    }\n",
       "\n",
       "    .dataframe thead th {\n",
       "        text-align: right;\n",
       "    }\n",
       "</style>\n",
       "<table border=\"1\" class=\"dataframe\">\n",
       "  <thead>\n",
       "    <tr style=\"text-align: right;\">\n",
       "      <th></th>\n",
       "      <th>order_id</th>\n",
       "      <th>customer_id</th>\n",
       "      <th>order_status</th>\n",
       "      <th>order_purchase_timestamp</th>\n",
       "      <th>order_approved_at</th>\n",
       "      <th>order_delivered_carrier_date</th>\n",
       "      <th>order_delivered_customer_date</th>\n",
       "      <th>order_estimated_delivery_date</th>\n",
       "      <th>order_item_id</th>\n",
       "      <th>product_id</th>\n",
       "      <th>seller_id</th>\n",
       "      <th>shipping_limit_date</th>\n",
       "      <th>price</th>\n",
       "      <th>freight_value</th>\n",
       "    </tr>\n",
       "  </thead>\n",
       "  <tbody>\n",
       "    <tr>\n",
       "      <th>0</th>\n",
       "      <td>e481f51cbdc54678b7cc49136f2d6af7</td>\n",
       "      <td>9ef432eb6251297304e76186b10a928d</td>\n",
       "      <td>delivered</td>\n",
       "      <td>2017-10-02 10:56:33</td>\n",
       "      <td>2017-10-02 11:07:15</td>\n",
       "      <td>2017-10-04 19:55:00</td>\n",
       "      <td>2017-10-10 21:25:13</td>\n",
       "      <td>2017-10-18</td>\n",
       "      <td>1</td>\n",
       "      <td>87285b34884572647811a353c7ac498a</td>\n",
       "      <td>3504c0cb71d7fa48d967e0e4c94d59d9</td>\n",
       "      <td>2017-10-06 11:07:15</td>\n",
       "      <td>29.99</td>\n",
       "      <td>8.72</td>\n",
       "    </tr>\n",
       "    <tr>\n",
       "      <th>1</th>\n",
       "      <td>53cdb2fc8bc7dce0b6741e2150273451</td>\n",
       "      <td>b0830fb4747a6c6d20dea0b8c802d7ef</td>\n",
       "      <td>delivered</td>\n",
       "      <td>2018-07-24 20:41:37</td>\n",
       "      <td>2018-07-26 03:24:27</td>\n",
       "      <td>2018-07-26 14:31:00</td>\n",
       "      <td>2018-08-07 15:27:45</td>\n",
       "      <td>2018-08-13</td>\n",
       "      <td>1</td>\n",
       "      <td>595fac2a385ac33a80bd5114aec74eb8</td>\n",
       "      <td>289cdb325fb7e7f891c38608bf9e0962</td>\n",
       "      <td>2018-07-30 03:24:27</td>\n",
       "      <td>118.70</td>\n",
       "      <td>22.76</td>\n",
       "    </tr>\n",
       "    <tr>\n",
       "      <th>2</th>\n",
       "      <td>47770eb9100c2d0c44946d9cf07ec65d</td>\n",
       "      <td>41ce2a54c0b03bf3443c3d931a367089</td>\n",
       "      <td>delivered</td>\n",
       "      <td>2018-08-08 08:38:49</td>\n",
       "      <td>2018-08-08 08:55:23</td>\n",
       "      <td>2018-08-08 13:50:00</td>\n",
       "      <td>2018-08-17 18:06:29</td>\n",
       "      <td>2018-09-04</td>\n",
       "      <td>1</td>\n",
       "      <td>aa4383b373c6aca5d8797843e5594415</td>\n",
       "      <td>4869f7a5dfa277a7dca6462dcf3b52b2</td>\n",
       "      <td>2018-08-13 08:55:23</td>\n",
       "      <td>159.90</td>\n",
       "      <td>19.22</td>\n",
       "    </tr>\n",
       "    <tr>\n",
       "      <th>3</th>\n",
       "      <td>949d5b44dbf5de918fe9c16f97b45f8a</td>\n",
       "      <td>f88197465ea7920adcdbec7375364d82</td>\n",
       "      <td>delivered</td>\n",
       "      <td>2017-11-18 19:28:06</td>\n",
       "      <td>2017-11-18 19:45:59</td>\n",
       "      <td>2017-11-22 13:39:59</td>\n",
       "      <td>2017-12-02 00:28:42</td>\n",
       "      <td>2017-12-15</td>\n",
       "      <td>1</td>\n",
       "      <td>d0b61bfb1de832b15ba9d266ca96e5b0</td>\n",
       "      <td>66922902710d126a0e7d26b0e3805106</td>\n",
       "      <td>2017-11-23 19:45:59</td>\n",
       "      <td>45.00</td>\n",
       "      <td>27.20</td>\n",
       "    </tr>\n",
       "    <tr>\n",
       "      <th>4</th>\n",
       "      <td>ad21c59c0840e6cb83a9ceb5573f8159</td>\n",
       "      <td>8ab97904e6daea8866dbdbc4fb7aad2c</td>\n",
       "      <td>delivered</td>\n",
       "      <td>2018-02-13 21:18:39</td>\n",
       "      <td>2018-02-13 22:20:29</td>\n",
       "      <td>2018-02-14 19:46:34</td>\n",
       "      <td>2018-02-16 18:17:02</td>\n",
       "      <td>2018-02-26</td>\n",
       "      <td>1</td>\n",
       "      <td>65266b2da20d04dbe00c5c2d3bb7859e</td>\n",
       "      <td>2c9e548be18521d1c43cde1c582c6de8</td>\n",
       "      <td>2018-02-19 20:31:37</td>\n",
       "      <td>19.90</td>\n",
       "      <td>8.72</td>\n",
       "    </tr>\n",
       "  </tbody>\n",
       "</table>\n",
       "</div>"
      ],
      "text/plain": [
       "                           order_id                       customer_id  \\\n",
       "0  e481f51cbdc54678b7cc49136f2d6af7  9ef432eb6251297304e76186b10a928d   \n",
       "1  53cdb2fc8bc7dce0b6741e2150273451  b0830fb4747a6c6d20dea0b8c802d7ef   \n",
       "2  47770eb9100c2d0c44946d9cf07ec65d  41ce2a54c0b03bf3443c3d931a367089   \n",
       "3  949d5b44dbf5de918fe9c16f97b45f8a  f88197465ea7920adcdbec7375364d82   \n",
       "4  ad21c59c0840e6cb83a9ceb5573f8159  8ab97904e6daea8866dbdbc4fb7aad2c   \n",
       "\n",
       "  order_status order_purchase_timestamp   order_approved_at  \\\n",
       "0    delivered      2017-10-02 10:56:33 2017-10-02 11:07:15   \n",
       "1    delivered      2018-07-24 20:41:37 2018-07-26 03:24:27   \n",
       "2    delivered      2018-08-08 08:38:49 2018-08-08 08:55:23   \n",
       "3    delivered      2017-11-18 19:28:06 2017-11-18 19:45:59   \n",
       "4    delivered      2018-02-13 21:18:39 2018-02-13 22:20:29   \n",
       "\n",
       "  order_delivered_carrier_date order_delivered_customer_date  \\\n",
       "0          2017-10-04 19:55:00           2017-10-10 21:25:13   \n",
       "1          2018-07-26 14:31:00           2018-08-07 15:27:45   \n",
       "2          2018-08-08 13:50:00           2018-08-17 18:06:29   \n",
       "3          2017-11-22 13:39:59           2017-12-02 00:28:42   \n",
       "4          2018-02-14 19:46:34           2018-02-16 18:17:02   \n",
       "\n",
       "  order_estimated_delivery_date  order_item_id  \\\n",
       "0                    2017-10-18              1   \n",
       "1                    2018-08-13              1   \n",
       "2                    2018-09-04              1   \n",
       "3                    2017-12-15              1   \n",
       "4                    2018-02-26              1   \n",
       "\n",
       "                         product_id                         seller_id  \\\n",
       "0  87285b34884572647811a353c7ac498a  3504c0cb71d7fa48d967e0e4c94d59d9   \n",
       "1  595fac2a385ac33a80bd5114aec74eb8  289cdb325fb7e7f891c38608bf9e0962   \n",
       "2  aa4383b373c6aca5d8797843e5594415  4869f7a5dfa277a7dca6462dcf3b52b2   \n",
       "3  d0b61bfb1de832b15ba9d266ca96e5b0  66922902710d126a0e7d26b0e3805106   \n",
       "4  65266b2da20d04dbe00c5c2d3bb7859e  2c9e548be18521d1c43cde1c582c6de8   \n",
       "\n",
       "   shipping_limit_date   price  freight_value  \n",
       "0  2017-10-06 11:07:15   29.99           8.72  \n",
       "1  2018-07-30 03:24:27  118.70          22.76  \n",
       "2  2018-08-13 08:55:23  159.90          19.22  \n",
       "3  2017-11-23 19:45:59   45.00          27.20  \n",
       "4  2018-02-19 20:31:37   19.90           8.72  "
      ]
     },
     "execution_count": 28,
     "metadata": {},
     "output_type": "execute_result"
    }
   ],
   "source": [
    "orders_items.head()"
   ]
  },
  {
   "cell_type": "code",
   "execution_count": 29,
   "id": "929caa01",
   "metadata": {
    "id": "929caa01",
    "outputId": "0bd330b0-af24-4bb0-e220-f13bbc24c567"
   },
   "outputs": [
    {
     "data": {
      "text/plain": [
       "order_status\n",
       "delivered    10270\n",
       "shipped        143\n",
       "canceled        10\n",
       "Name: count, dtype: int64"
      ]
     },
     "execution_count": 29,
     "metadata": {},
     "output_type": "execute_result"
    }
   ],
   "source": [
    "orders_items.loc[orders_items.shipping_limit_date < orders_items.order_delivered_carrier_date] \\\n",
    "    .order_status.value_counts()"
   ]
  },
  {
   "cell_type": "markdown",
   "id": "b18175d9",
   "metadata": {
    "id": "b18175d9"
   },
   "source": [
    "В таблице order_items отсутствуют дубликаты и пропущенные значения\n",
    "\n",
    "В одном чеке может быть больше одного наименования товара\n",
    "\n",
    "Среди тех заказов, где крайняя дата передачи заказа в логистическую службу была превышена, 98% заказов были успешно даставлены покупателю."
   ]
  },
  {
   "cell_type": "markdown",
   "id": "f5b5b657",
   "metadata": {
    "id": "f5b5b657"
   },
   "source": [
    "#### Определим, что можно считать покупкой"
   ]
  },
  {
   "cell_type": "markdown",
   "id": "8e692872",
   "metadata": {
    "id": "8e692872"
   },
   "source": [
    "Для этого внимательнее изучим статусы заказов."
   ]
  },
  {
   "cell_type": "code",
   "execution_count": 30,
   "id": "ea4c5b9c",
   "metadata": {
    "id": "ea4c5b9c",
    "outputId": "ea15befe-38ef-44a2-8980-0e96ab3afade"
   },
   "outputs": [
    {
     "data": {
      "text/plain": [
       "array(['delivered', 'invoiced', 'shipped', 'processing', 'unavailable',\n",
       "       'canceled', 'created', 'approved'], dtype=object)"
      ]
     },
     "execution_count": 30,
     "metadata": {},
     "output_type": "execute_result"
    }
   ],
   "source": [
    "orders.order_status.unique()"
   ]
  },
  {
   "cell_type": "code",
   "execution_count": 31,
   "id": "8a51457b",
   "metadata": {
    "id": "8a51457b",
    "outputId": "7f7e2eb2-7ad2-4c7b-fd5c-ef17fa945095"
   },
   "outputs": [
    {
     "data": {
      "text/plain": [
       "order_id                          0\n",
       "customer_id                       0\n",
       "order_status                      0\n",
       "order_purchase_timestamp          0\n",
       "order_approved_at                14\n",
       "order_delivered_carrier_date      2\n",
       "order_delivered_customer_date     8\n",
       "order_estimated_delivery_date     0\n",
       "dtype: int64"
      ]
     },
     "execution_count": 31,
     "metadata": {},
     "output_type": "execute_result"
    }
   ],
   "source": [
    "orders.loc[orders.order_status == 'delivered'].isna().sum()"
   ]
  },
  {
   "cell_type": "code",
   "execution_count": 32,
   "id": "b92eb8c1",
   "metadata": {
    "id": "b92eb8c1",
    "outputId": "b0808154-a8b1-4988-abf1-a4c450016070"
   },
   "outputs": [
    {
     "data": {
      "text/html": [
       "<div>\n",
       "<style scoped>\n",
       "    .dataframe tbody tr th:only-of-type {\n",
       "        vertical-align: middle;\n",
       "    }\n",
       "\n",
       "    .dataframe tbody tr th {\n",
       "        vertical-align: top;\n",
       "    }\n",
       "\n",
       "    .dataframe thead th {\n",
       "        text-align: right;\n",
       "    }\n",
       "</style>\n",
       "<table border=\"1\" class=\"dataframe\">\n",
       "  <thead>\n",
       "    <tr style=\"text-align: right;\">\n",
       "      <th></th>\n",
       "      <th>order_id</th>\n",
       "      <th>customer_id</th>\n",
       "      <th>order_status</th>\n",
       "      <th>order_purchase_timestamp</th>\n",
       "      <th>order_approved_at</th>\n",
       "      <th>order_delivered_carrier_date</th>\n",
       "      <th>order_delivered_customer_date</th>\n",
       "      <th>order_estimated_delivery_date</th>\n",
       "    </tr>\n",
       "  </thead>\n",
       "  <tbody>\n",
       "    <tr>\n",
       "      <th>5323</th>\n",
       "      <td>e04abd8149ef81b95221e88f6ed9ab6a</td>\n",
       "      <td>2127dc6603ac33544953ef05ec155771</td>\n",
       "      <td>delivered</td>\n",
       "      <td>2017-02-18 14:40:00</td>\n",
       "      <td>NaT</td>\n",
       "      <td>2017-02-23 12:04:47</td>\n",
       "      <td>2017-03-01 13:25:33</td>\n",
       "      <td>2017-03-17</td>\n",
       "    </tr>\n",
       "    <tr>\n",
       "      <th>16567</th>\n",
       "      <td>8a9adc69528e1001fc68dd0aaebbb54a</td>\n",
       "      <td>4c1ccc74e00993733742a3c786dc3c1f</td>\n",
       "      <td>delivered</td>\n",
       "      <td>2017-02-18 12:45:31</td>\n",
       "      <td>NaT</td>\n",
       "      <td>2017-02-23 09:01:52</td>\n",
       "      <td>2017-03-02 10:05:06</td>\n",
       "      <td>2017-03-21</td>\n",
       "    </tr>\n",
       "    <tr>\n",
       "      <th>19031</th>\n",
       "      <td>7013bcfc1c97fe719a7b5e05e61c12db</td>\n",
       "      <td>2941af76d38100e0f8740a374f1a5dc3</td>\n",
       "      <td>delivered</td>\n",
       "      <td>2017-02-18 13:29:47</td>\n",
       "      <td>NaT</td>\n",
       "      <td>2017-02-22 16:25:25</td>\n",
       "      <td>2017-03-01 08:07:38</td>\n",
       "      <td>2017-03-17</td>\n",
       "    </tr>\n",
       "    <tr>\n",
       "      <th>22663</th>\n",
       "      <td>5cf925b116421afa85ee25e99b4c34fb</td>\n",
       "      <td>29c35fc91fc13fb5073c8f30505d860d</td>\n",
       "      <td>delivered</td>\n",
       "      <td>2017-02-18 16:48:35</td>\n",
       "      <td>NaT</td>\n",
       "      <td>2017-02-22 11:23:10</td>\n",
       "      <td>2017-03-09 07:28:47</td>\n",
       "      <td>2017-03-31</td>\n",
       "    </tr>\n",
       "    <tr>\n",
       "      <th>23156</th>\n",
       "      <td>12a95a3c06dbaec84bcfb0e2da5d228a</td>\n",
       "      <td>1e101e0daffaddce8159d25a8e53f2b2</td>\n",
       "      <td>delivered</td>\n",
       "      <td>2017-02-17 13:05:55</td>\n",
       "      <td>NaT</td>\n",
       "      <td>2017-02-22 11:23:11</td>\n",
       "      <td>2017-03-02 11:09:19</td>\n",
       "      <td>2017-03-20</td>\n",
       "    </tr>\n",
       "    <tr>\n",
       "      <th>26800</th>\n",
       "      <td>c1d4211b3dae76144deccd6c74144a88</td>\n",
       "      <td>684cb238dc5b5d6366244e0e0776b450</td>\n",
       "      <td>delivered</td>\n",
       "      <td>2017-01-19 12:48:08</td>\n",
       "      <td>NaT</td>\n",
       "      <td>2017-01-25 14:56:50</td>\n",
       "      <td>2017-01-30 18:16:01</td>\n",
       "      <td>2017-03-01</td>\n",
       "    </tr>\n",
       "    <tr>\n",
       "      <th>38290</th>\n",
       "      <td>d69e5d356402adc8cf17e08b5033acfb</td>\n",
       "      <td>68d081753ad4fe22fc4d410a9eb1ca01</td>\n",
       "      <td>delivered</td>\n",
       "      <td>2017-02-19 01:28:47</td>\n",
       "      <td>NaT</td>\n",
       "      <td>2017-02-23 03:11:48</td>\n",
       "      <td>2017-03-02 03:41:58</td>\n",
       "      <td>2017-03-27</td>\n",
       "    </tr>\n",
       "    <tr>\n",
       "      <th>39334</th>\n",
       "      <td>d77031d6a3c8a52f019764e68f211c69</td>\n",
       "      <td>0bf35cac6cc7327065da879e2d90fae8</td>\n",
       "      <td>delivered</td>\n",
       "      <td>2017-02-18 11:04:19</td>\n",
       "      <td>NaT</td>\n",
       "      <td>2017-02-23 07:23:36</td>\n",
       "      <td>2017-03-02 16:15:23</td>\n",
       "      <td>2017-03-22</td>\n",
       "    </tr>\n",
       "    <tr>\n",
       "      <th>48401</th>\n",
       "      <td>7002a78c79c519ac54022d4f8a65e6e8</td>\n",
       "      <td>d5de688c321096d15508faae67a27051</td>\n",
       "      <td>delivered</td>\n",
       "      <td>2017-01-19 22:26:59</td>\n",
       "      <td>NaT</td>\n",
       "      <td>2017-01-27 11:08:05</td>\n",
       "      <td>2017-02-06 14:22:19</td>\n",
       "      <td>2017-03-16</td>\n",
       "    </tr>\n",
       "    <tr>\n",
       "      <th>61743</th>\n",
       "      <td>2eecb0d85f281280f79fa00f9cec1a95</td>\n",
       "      <td>a3d3c38e58b9d2dfb9207cab690b6310</td>\n",
       "      <td>delivered</td>\n",
       "      <td>2017-02-17 17:21:55</td>\n",
       "      <td>NaT</td>\n",
       "      <td>2017-02-22 11:42:51</td>\n",
       "      <td>2017-03-03 12:16:03</td>\n",
       "      <td>2017-03-20</td>\n",
       "    </tr>\n",
       "    <tr>\n",
       "      <th>63052</th>\n",
       "      <td>51eb2eebd5d76a24625b31c33dd41449</td>\n",
       "      <td>07a2a7e0f63fd8cb757ed77d4245623c</td>\n",
       "      <td>delivered</td>\n",
       "      <td>2017-02-18 15:52:27</td>\n",
       "      <td>NaT</td>\n",
       "      <td>2017-02-23 03:09:14</td>\n",
       "      <td>2017-03-07 13:57:47</td>\n",
       "      <td>2017-03-29</td>\n",
       "    </tr>\n",
       "    <tr>\n",
       "      <th>67697</th>\n",
       "      <td>88083e8f64d95b932164187484d90212</td>\n",
       "      <td>f67cd1a215aae2a1074638bbd35a223a</td>\n",
       "      <td>delivered</td>\n",
       "      <td>2017-02-18 22:49:19</td>\n",
       "      <td>NaT</td>\n",
       "      <td>2017-02-22 11:31:06</td>\n",
       "      <td>2017-03-02 12:06:06</td>\n",
       "      <td>2017-03-21</td>\n",
       "    </tr>\n",
       "    <tr>\n",
       "      <th>72407</th>\n",
       "      <td>3c0b8706b065f9919d0505d3b3343881</td>\n",
       "      <td>d85919cb3c0529589c6fa617f5f43281</td>\n",
       "      <td>delivered</td>\n",
       "      <td>2017-02-17 15:53:27</td>\n",
       "      <td>NaT</td>\n",
       "      <td>2017-02-22 11:31:30</td>\n",
       "      <td>2017-03-03 11:47:47</td>\n",
       "      <td>2017-03-23</td>\n",
       "    </tr>\n",
       "    <tr>\n",
       "      <th>84999</th>\n",
       "      <td>2babbb4b15e6d2dfe95e2de765c97bce</td>\n",
       "      <td>74bebaf46603f9340e3b50c6b086f992</td>\n",
       "      <td>delivered</td>\n",
       "      <td>2017-02-18 17:15:03</td>\n",
       "      <td>NaT</td>\n",
       "      <td>2017-02-22 11:23:11</td>\n",
       "      <td>2017-03-03 18:43:43</td>\n",
       "      <td>2017-03-31</td>\n",
       "    </tr>\n",
       "  </tbody>\n",
       "</table>\n",
       "</div>"
      ],
      "text/plain": [
       "                               order_id                       customer_id  \\\n",
       "5323   e04abd8149ef81b95221e88f6ed9ab6a  2127dc6603ac33544953ef05ec155771   \n",
       "16567  8a9adc69528e1001fc68dd0aaebbb54a  4c1ccc74e00993733742a3c786dc3c1f   \n",
       "19031  7013bcfc1c97fe719a7b5e05e61c12db  2941af76d38100e0f8740a374f1a5dc3   \n",
       "22663  5cf925b116421afa85ee25e99b4c34fb  29c35fc91fc13fb5073c8f30505d860d   \n",
       "23156  12a95a3c06dbaec84bcfb0e2da5d228a  1e101e0daffaddce8159d25a8e53f2b2   \n",
       "26800  c1d4211b3dae76144deccd6c74144a88  684cb238dc5b5d6366244e0e0776b450   \n",
       "38290  d69e5d356402adc8cf17e08b5033acfb  68d081753ad4fe22fc4d410a9eb1ca01   \n",
       "39334  d77031d6a3c8a52f019764e68f211c69  0bf35cac6cc7327065da879e2d90fae8   \n",
       "48401  7002a78c79c519ac54022d4f8a65e6e8  d5de688c321096d15508faae67a27051   \n",
       "61743  2eecb0d85f281280f79fa00f9cec1a95  a3d3c38e58b9d2dfb9207cab690b6310   \n",
       "63052  51eb2eebd5d76a24625b31c33dd41449  07a2a7e0f63fd8cb757ed77d4245623c   \n",
       "67697  88083e8f64d95b932164187484d90212  f67cd1a215aae2a1074638bbd35a223a   \n",
       "72407  3c0b8706b065f9919d0505d3b3343881  d85919cb3c0529589c6fa617f5f43281   \n",
       "84999  2babbb4b15e6d2dfe95e2de765c97bce  74bebaf46603f9340e3b50c6b086f992   \n",
       "\n",
       "      order_status order_purchase_timestamp order_approved_at  \\\n",
       "5323     delivered      2017-02-18 14:40:00               NaT   \n",
       "16567    delivered      2017-02-18 12:45:31               NaT   \n",
       "19031    delivered      2017-02-18 13:29:47               NaT   \n",
       "22663    delivered      2017-02-18 16:48:35               NaT   \n",
       "23156    delivered      2017-02-17 13:05:55               NaT   \n",
       "26800    delivered      2017-01-19 12:48:08               NaT   \n",
       "38290    delivered      2017-02-19 01:28:47               NaT   \n",
       "39334    delivered      2017-02-18 11:04:19               NaT   \n",
       "48401    delivered      2017-01-19 22:26:59               NaT   \n",
       "61743    delivered      2017-02-17 17:21:55               NaT   \n",
       "63052    delivered      2017-02-18 15:52:27               NaT   \n",
       "67697    delivered      2017-02-18 22:49:19               NaT   \n",
       "72407    delivered      2017-02-17 15:53:27               NaT   \n",
       "84999    delivered      2017-02-18 17:15:03               NaT   \n",
       "\n",
       "      order_delivered_carrier_date order_delivered_customer_date  \\\n",
       "5323           2017-02-23 12:04:47           2017-03-01 13:25:33   \n",
       "16567          2017-02-23 09:01:52           2017-03-02 10:05:06   \n",
       "19031          2017-02-22 16:25:25           2017-03-01 08:07:38   \n",
       "22663          2017-02-22 11:23:10           2017-03-09 07:28:47   \n",
       "23156          2017-02-22 11:23:11           2017-03-02 11:09:19   \n",
       "26800          2017-01-25 14:56:50           2017-01-30 18:16:01   \n",
       "38290          2017-02-23 03:11:48           2017-03-02 03:41:58   \n",
       "39334          2017-02-23 07:23:36           2017-03-02 16:15:23   \n",
       "48401          2017-01-27 11:08:05           2017-02-06 14:22:19   \n",
       "61743          2017-02-22 11:42:51           2017-03-03 12:16:03   \n",
       "63052          2017-02-23 03:09:14           2017-03-07 13:57:47   \n",
       "67697          2017-02-22 11:31:06           2017-03-02 12:06:06   \n",
       "72407          2017-02-22 11:31:30           2017-03-03 11:47:47   \n",
       "84999          2017-02-22 11:23:11           2017-03-03 18:43:43   \n",
       "\n",
       "      order_estimated_delivery_date  \n",
       "5323                     2017-03-17  \n",
       "16567                    2017-03-21  \n",
       "19031                    2017-03-17  \n",
       "22663                    2017-03-31  \n",
       "23156                    2017-03-20  \n",
       "26800                    2017-03-01  \n",
       "38290                    2017-03-27  \n",
       "39334                    2017-03-22  \n",
       "48401                    2017-03-16  \n",
       "61743                    2017-03-20  \n",
       "63052                    2017-03-29  \n",
       "67697                    2017-03-21  \n",
       "72407                    2017-03-23  \n",
       "84999                    2017-03-31  "
      ]
     },
     "execution_count": 32,
     "metadata": {},
     "output_type": "execute_result"
    }
   ],
   "source": [
    "orders.loc[(orders.order_status == 'delivered') & (orders.order_approved_at.isna())]"
   ]
  },
  {
   "cell_type": "markdown",
   "id": "492c125e",
   "metadata": {
    "id": "492c125e"
   },
   "source": [
    "Как можно заметить заказы со статусом 'delivered', у которых отсутствует время подтверждения оплаты заказа, успешно доставлены пользователям."
   ]
  },
  {
   "cell_type": "code",
   "execution_count": 33,
   "id": "ad9ad384",
   "metadata": {
    "id": "ad9ad384",
    "outputId": "39110716-fbb7-481d-ba25-569e6b0d4fdb"
   },
   "outputs": [
    {
     "data": {
      "text/plain": [
       "order_id                           0\n",
       "customer_id                        0\n",
       "order_status                       0\n",
       "order_purchase_timestamp           0\n",
       "order_approved_at                141\n",
       "order_delivered_carrier_date     550\n",
       "order_delivered_customer_date    619\n",
       "order_estimated_delivery_date      0\n",
       "dtype: int64"
      ]
     },
     "execution_count": 33,
     "metadata": {},
     "output_type": "execute_result"
    }
   ],
   "source": [
    "orders.loc[orders.order_status == 'canceled'].isna().sum()"
   ]
  },
  {
   "cell_type": "markdown",
   "id": "773892d2",
   "metadata": {
    "id": "773892d2"
   },
   "source": [
    "Как видно, большая часть отмененных заказов была отменена уже после их оплаты."
   ]
  },
  {
   "cell_type": "code",
   "execution_count": 34,
   "id": "1dc7aa16",
   "metadata": {
    "id": "1dc7aa16",
    "outputId": "c2adbaed-c69e-428d-eb45-cb511cbee10d"
   },
   "outputs": [
    {
     "data": {
      "text/html": [
       "<div>\n",
       "<style scoped>\n",
       "    .dataframe tbody tr th:only-of-type {\n",
       "        vertical-align: middle;\n",
       "    }\n",
       "\n",
       "    .dataframe tbody tr th {\n",
       "        vertical-align: top;\n",
       "    }\n",
       "\n",
       "    .dataframe thead th {\n",
       "        text-align: right;\n",
       "    }\n",
       "</style>\n",
       "<table border=\"1\" class=\"dataframe\">\n",
       "  <thead>\n",
       "    <tr style=\"text-align: right;\">\n",
       "      <th></th>\n",
       "      <th>order_id</th>\n",
       "      <th>customer_id</th>\n",
       "      <th>order_status</th>\n",
       "      <th>order_purchase_timestamp</th>\n",
       "      <th>order_approved_at</th>\n",
       "      <th>order_delivered_carrier_date</th>\n",
       "      <th>order_delivered_customer_date</th>\n",
       "      <th>order_estimated_delivery_date</th>\n",
       "    </tr>\n",
       "  </thead>\n",
       "  <tbody>\n",
       "    <tr>\n",
       "      <th>2921</th>\n",
       "      <td>1950d777989f6a877539f53795b4c3c3</td>\n",
       "      <td>1bccb206de9f0f25adc6871a1bcf77b2</td>\n",
       "      <td>canceled</td>\n",
       "      <td>2018-02-19 19:48:52</td>\n",
       "      <td>2018-02-19 20:56:05</td>\n",
       "      <td>2018-02-20 19:57:13</td>\n",
       "      <td>2018-03-21 22:03:51</td>\n",
       "      <td>2018-03-09</td>\n",
       "    </tr>\n",
       "    <tr>\n",
       "      <th>8791</th>\n",
       "      <td>dabf2b0e35b423f94618bf965fcb7514</td>\n",
       "      <td>5cdec0bb8cbdf53ffc8fdc212cd247c6</td>\n",
       "      <td>canceled</td>\n",
       "      <td>2016-10-09 00:56:52</td>\n",
       "      <td>2016-10-09 13:36:58</td>\n",
       "      <td>2016-10-13 13:36:59</td>\n",
       "      <td>2016-10-16 14:36:59</td>\n",
       "      <td>2016-11-30</td>\n",
       "    </tr>\n",
       "    <tr>\n",
       "      <th>58266</th>\n",
       "      <td>770d331c84e5b214bd9dc70a10b829d0</td>\n",
       "      <td>6c57e6119369185e575b36712766b0ef</td>\n",
       "      <td>canceled</td>\n",
       "      <td>2016-10-07 14:52:30</td>\n",
       "      <td>2016-10-07 15:07:10</td>\n",
       "      <td>2016-10-11 15:07:11</td>\n",
       "      <td>2016-10-14 15:07:11</td>\n",
       "      <td>2016-11-29</td>\n",
       "    </tr>\n",
       "    <tr>\n",
       "      <th>59332</th>\n",
       "      <td>8beb59392e21af5eb9547ae1a9938d06</td>\n",
       "      <td>bf609b5741f71697f65ce3852c5d2623</td>\n",
       "      <td>canceled</td>\n",
       "      <td>2016-10-08 20:17:50</td>\n",
       "      <td>2016-10-09 14:34:30</td>\n",
       "      <td>2016-10-14 22:45:26</td>\n",
       "      <td>2016-10-19 18:47:43</td>\n",
       "      <td>2016-11-30</td>\n",
       "    </tr>\n",
       "    <tr>\n",
       "      <th>92636</th>\n",
       "      <td>65d1e226dfaeb8cdc42f665422522d14</td>\n",
       "      <td>70fc57eeae292675927697fe03ad3ff5</td>\n",
       "      <td>canceled</td>\n",
       "      <td>2016-10-03 21:01:41</td>\n",
       "      <td>2016-10-04 10:18:57</td>\n",
       "      <td>2016-10-25 12:14:28</td>\n",
       "      <td>2016-11-08 10:58:34</td>\n",
       "      <td>2016-11-25</td>\n",
       "    </tr>\n",
       "    <tr>\n",
       "      <th>94399</th>\n",
       "      <td>2c45c33d2f9cb8ff8b1c86cc28c11c30</td>\n",
       "      <td>de4caa97afa80c8eeac2ff4c8da5b72e</td>\n",
       "      <td>canceled</td>\n",
       "      <td>2016-10-09 15:39:56</td>\n",
       "      <td>2016-10-10 10:40:49</td>\n",
       "      <td>2016-10-14 10:40:50</td>\n",
       "      <td>2016-11-09 14:53:50</td>\n",
       "      <td>2016-12-08</td>\n",
       "    </tr>\n",
       "  </tbody>\n",
       "</table>\n",
       "</div>"
      ],
      "text/plain": [
       "                               order_id                       customer_id  \\\n",
       "2921   1950d777989f6a877539f53795b4c3c3  1bccb206de9f0f25adc6871a1bcf77b2   \n",
       "8791   dabf2b0e35b423f94618bf965fcb7514  5cdec0bb8cbdf53ffc8fdc212cd247c6   \n",
       "58266  770d331c84e5b214bd9dc70a10b829d0  6c57e6119369185e575b36712766b0ef   \n",
       "59332  8beb59392e21af5eb9547ae1a9938d06  bf609b5741f71697f65ce3852c5d2623   \n",
       "92636  65d1e226dfaeb8cdc42f665422522d14  70fc57eeae292675927697fe03ad3ff5   \n",
       "94399  2c45c33d2f9cb8ff8b1c86cc28c11c30  de4caa97afa80c8eeac2ff4c8da5b72e   \n",
       "\n",
       "      order_status order_purchase_timestamp   order_approved_at  \\\n",
       "2921      canceled      2018-02-19 19:48:52 2018-02-19 20:56:05   \n",
       "8791      canceled      2016-10-09 00:56:52 2016-10-09 13:36:58   \n",
       "58266     canceled      2016-10-07 14:52:30 2016-10-07 15:07:10   \n",
       "59332     canceled      2016-10-08 20:17:50 2016-10-09 14:34:30   \n",
       "92636     canceled      2016-10-03 21:01:41 2016-10-04 10:18:57   \n",
       "94399     canceled      2016-10-09 15:39:56 2016-10-10 10:40:49   \n",
       "\n",
       "      order_delivered_carrier_date order_delivered_customer_date  \\\n",
       "2921           2018-02-20 19:57:13           2018-03-21 22:03:51   \n",
       "8791           2016-10-13 13:36:59           2016-10-16 14:36:59   \n",
       "58266          2016-10-11 15:07:11           2016-10-14 15:07:11   \n",
       "59332          2016-10-14 22:45:26           2016-10-19 18:47:43   \n",
       "92636          2016-10-25 12:14:28           2016-11-08 10:58:34   \n",
       "94399          2016-10-14 10:40:50           2016-11-09 14:53:50   \n",
       "\n",
       "      order_estimated_delivery_date  \n",
       "2921                     2018-03-09  \n",
       "8791                     2016-11-30  \n",
       "58266                    2016-11-29  \n",
       "59332                    2016-11-30  \n",
       "92636                    2016-11-25  \n",
       "94399                    2016-12-08  "
      ]
     },
     "execution_count": 34,
     "metadata": {},
     "output_type": "execute_result"
    }
   ],
   "source": [
    "orders.loc[(orders.order_status == 'canceled') & (~(orders.order_delivered_customer_date.isna()))]"
   ]
  },
  {
   "cell_type": "markdown",
   "id": "32670934",
   "metadata": {
    "id": "32670934"
   },
   "source": [
    "Заказ может быть отменен на любом этапе, в том числе после доставки пользователю."
   ]
  },
  {
   "cell_type": "code",
   "execution_count": 35,
   "id": "a43b14b0",
   "metadata": {
    "id": "a43b14b0",
    "outputId": "8832ab5f-a4b8-4e7c-de98-f9706899cded"
   },
   "outputs": [
    {
     "data": {
      "text/plain": [
       "order_id                            0\n",
       "customer_id                         0\n",
       "order_status                        0\n",
       "order_purchase_timestamp            0\n",
       "order_approved_at                   0\n",
       "order_delivered_carrier_date        0\n",
       "order_delivered_customer_date    1107\n",
       "order_estimated_delivery_date       0\n",
       "dtype: int64"
      ]
     },
     "execution_count": 35,
     "metadata": {},
     "output_type": "execute_result"
    }
   ],
   "source": [
    "orders.loc[orders.order_status == 'shipped'].isna().sum()"
   ]
  },
  {
   "cell_type": "markdown",
   "id": "e7fc2dcb",
   "metadata": {
    "id": "e7fc2dcb"
   },
   "source": [
    "Все заказы, которые имеют статус 'shipped' имеют подтверждение оплаты заказа."
   ]
  },
  {
   "cell_type": "code",
   "execution_count": 36,
   "id": "bdf328fb",
   "metadata": {
    "id": "bdf328fb",
    "outputId": "0dec679c-87be-457e-9103-e3ed29fa8943"
   },
   "outputs": [
    {
     "data": {
      "text/plain": [
       "order_id                           0\n",
       "customer_id                        0\n",
       "order_status                       0\n",
       "order_purchase_timestamp           0\n",
       "order_approved_at                  0\n",
       "order_delivered_carrier_date     609\n",
       "order_delivered_customer_date    609\n",
       "order_estimated_delivery_date      0\n",
       "dtype: int64"
      ]
     },
     "execution_count": 36,
     "metadata": {},
     "output_type": "execute_result"
    }
   ],
   "source": [
    "orders.loc[orders.order_status == 'unavailable'].isna().sum()"
   ]
  },
  {
   "cell_type": "markdown",
   "id": "eb0d8342",
   "metadata": {
    "id": "eb0d8342"
   },
   "source": [
    "Все заказы, которые имеют статус 'unavailable' имеют подтверждение оплаты заказа."
   ]
  },
  {
   "cell_type": "code",
   "execution_count": 37,
   "id": "21c09a2c",
   "metadata": {
    "id": "21c09a2c",
    "outputId": "791a37d5-68cc-43de-c1b4-311a16eeb5ec"
   },
   "outputs": [
    {
     "data": {
      "text/plain": [
       "order_id                           0\n",
       "customer_id                        0\n",
       "order_status                       0\n",
       "order_purchase_timestamp           0\n",
       "order_approved_at                  0\n",
       "order_delivered_carrier_date     314\n",
       "order_delivered_customer_date    314\n",
       "order_estimated_delivery_date      0\n",
       "dtype: int64"
      ]
     },
     "execution_count": 37,
     "metadata": {},
     "output_type": "execute_result"
    }
   ],
   "source": [
    "orders.loc[orders.order_status == 'invoiced'].isna().sum()"
   ]
  },
  {
   "cell_type": "markdown",
   "id": "80c321eb",
   "metadata": {
    "id": "80c321eb"
   },
   "source": [
    "Все заказы, которые имеют статус 'invoiced' имеют подтверждение оплаты заказа."
   ]
  },
  {
   "cell_type": "code",
   "execution_count": 38,
   "id": "266cc44c",
   "metadata": {
    "id": "266cc44c",
    "outputId": "aca6f4b2-e1c5-4043-de20-eb0ae9f448e1"
   },
   "outputs": [
    {
     "data": {
      "text/plain": [
       "order_id                           0\n",
       "customer_id                        0\n",
       "order_status                       0\n",
       "order_purchase_timestamp           0\n",
       "order_approved_at                  0\n",
       "order_delivered_carrier_date     301\n",
       "order_delivered_customer_date    301\n",
       "order_estimated_delivery_date      0\n",
       "dtype: int64"
      ]
     },
     "execution_count": 38,
     "metadata": {},
     "output_type": "execute_result"
    }
   ],
   "source": [
    "orders.loc[orders.order_status == 'processing'].isna().sum()"
   ]
  },
  {
   "cell_type": "markdown",
   "id": "c755bd10",
   "metadata": {
    "id": "c755bd10"
   },
   "source": [
    "Все заказы, которые имеют статус 'processing' имеют подтверждение оплаты заказа."
   ]
  },
  {
   "cell_type": "code",
   "execution_count": 39,
   "id": "9b02b263",
   "metadata": {
    "id": "9b02b263",
    "outputId": "457b1212-c279-4559-ed51-9c342302fb65"
   },
   "outputs": [
    {
     "data": {
      "text/plain": [
       "order_id                         0\n",
       "customer_id                      0\n",
       "order_status                     0\n",
       "order_purchase_timestamp         0\n",
       "order_approved_at                0\n",
       "order_delivered_carrier_date     2\n",
       "order_delivered_customer_date    2\n",
       "order_estimated_delivery_date    0\n",
       "dtype: int64"
      ]
     },
     "execution_count": 39,
     "metadata": {},
     "output_type": "execute_result"
    }
   ],
   "source": [
    "orders.loc[orders.order_status == 'approved'].isna().sum()"
   ]
  },
  {
   "cell_type": "markdown",
   "id": "9524da31",
   "metadata": {
    "id": "9524da31"
   },
   "source": [
    "Все заказы, которые имеют статус 'approved' имеют подтверждение оплаты заказа."
   ]
  },
  {
   "cell_type": "code",
   "execution_count": 40,
   "id": "37db7cd8",
   "metadata": {
    "id": "37db7cd8",
    "outputId": "1656178e-9530-43e1-8ffb-4cca74ca4652"
   },
   "outputs": [
    {
     "data": {
      "text/plain": [
       "order_id                         0\n",
       "customer_id                      0\n",
       "order_status                     0\n",
       "order_purchase_timestamp         0\n",
       "order_approved_at                5\n",
       "order_delivered_carrier_date     5\n",
       "order_delivered_customer_date    5\n",
       "order_estimated_delivery_date    0\n",
       "dtype: int64"
      ]
     },
     "execution_count": 40,
     "metadata": {},
     "output_type": "execute_result"
    }
   ],
   "source": [
    "orders.loc[orders.order_status == 'created'].isna().sum()"
   ]
  },
  {
   "cell_type": "markdown",
   "id": "18bf7a0c",
   "metadata": {
    "id": "18bf7a0c"
   },
   "source": [
    "Все заказы, которые имеют статус 'created' не имеют подтверждения оплаты заказа."
   ]
  },
  {
   "cell_type": "code",
   "execution_count": 41,
   "id": "570567c1",
   "metadata": {
    "id": "570567c1",
    "outputId": "b09bbf55-e1a2-4fb1-aa52-6a30deca922c"
   },
   "outputs": [
    {
     "data": {
      "text/plain": [
       "(1359, 8)"
      ]
     },
     "execution_count": 41,
     "metadata": {},
     "output_type": "execute_result"
    }
   ],
   "source": [
    "orders.loc[orders.order_delivered_carrier_date < orders.order_approved_at].shape"
   ]
  },
  {
   "cell_type": "markdown",
   "id": "1bf15ec9",
   "metadata": {
    "id": "1bf15ec9"
   },
   "source": [
    "в 1359 случаях факт передачи заказа в логистическую службу зафиксирован раньше, чем факт оплаты заказа"
   ]
  },
  {
   "cell_type": "code",
   "execution_count": 42,
   "id": "4128885b",
   "metadata": {
    "id": "4128885b",
    "outputId": "8db6d721-1612-4bbd-ef27-2d1874fc1898"
   },
   "outputs": [
    {
     "data": {
      "text/plain": [
       "(166, 8)"
      ]
     },
     "execution_count": 42,
     "metadata": {},
     "output_type": "execute_result"
    }
   ],
   "source": [
    "orders.loc[orders.order_delivered_carrier_date < orders.order_purchase_timestamp].shape"
   ]
  },
  {
   "cell_type": "markdown",
   "id": "55b76c8d",
   "metadata": {
    "id": "55b76c8d"
   },
   "source": [
    "в 166 случаях факт передачи заказа в логистическую службу зафиксирован раньше, чем факт оформления заказа"
   ]
  },
  {
   "cell_type": "code",
   "execution_count": 43,
   "id": "81963389",
   "metadata": {
    "id": "81963389",
    "outputId": "a10d9954-8c56-4287-8c33-2e39016d058b"
   },
   "outputs": [
    {
     "data": {
      "text/plain": [
       "(23, 8)"
      ]
     },
     "execution_count": 43,
     "metadata": {},
     "output_type": "execute_result"
    }
   ],
   "source": [
    "orders.loc[orders.order_delivered_customer_date < orders.order_delivered_carrier_date].shape"
   ]
  },
  {
   "cell_type": "markdown",
   "id": "5ea956bb",
   "metadata": {
    "id": "5ea956bb"
   },
   "source": [
    "в 23 случаях факт передачи заказа в логистическую службу зафиксирован позже, чем факт передачи заказа пользователю"
   ]
  },
  {
   "cell_type": "markdown",
   "id": "23644715",
   "metadata": {
    "id": "23644715",
    "scrolled": true
   },
   "source": [
    "#### Выводы"
   ]
  },
  {
   "cell_type": "markdown",
   "id": "189f3a55",
   "metadata": {
    "id": "189f3a55"
   },
   "source": [
    "Покупка (с точки зрения пользователя) или продажа (с точки зрения магазина) это получение магазином денег с последующей доставкой товара пользователю.\n",
    "\n",
    "Поэтому, покупкой будем считать все заказы со статусом 'delivered', а также все заказы, в которых есть подтверждение оплаты заказа (наличие даты в колонке 'order_approved_at'). Заказы со статусом 'created' не имеют подтверждения оплаты заказа, поэтому не будут считаться покупкой. Также покупкой не будут считаться заказы со статусом 'canceled', в которых отсутствует подтверждение оплаты.  \n",
    "\n",
    "В данных также были найдены следующие особенности:\n",
    "\n",
    "В таблице 'orders':\n",
    "\n",
    "- в 1359 случаях факт передачи заказа в логистическую службу зафиксирован раньше, чем факт оплаты заказа;\n",
    "- в 166 случаях факт передачи заказа в логистическую службу зафиксирован раньше, чем факт оформления заказа;\n",
    "- в 23 случаях факт передачи заказа в логистическую службу зафиксирован позже, чем факт передачи заказа пользователю.   \n",
    "\n",
    "В таблице 'order_items':\n",
    "   \n",
    "- в 10423 случаях заказ не был вовремя передан в логистическую службу (order_items.shipping_limit_date < orders.order_delivered_carrier_date). Но нужно отметить, что 98 % заказов в этом случае были успешно доставлены пользователю"
   ]
  },
  {
   "cell_type": "markdown",
   "id": "9de9e1fe",
   "metadata": {
    "id": "9de9e1fe"
   },
   "source": [
    "### Оставим только записи, которые будем считать покупками"
   ]
  },
  {
   "cell_type": "code",
   "execution_count": 44,
   "id": "74b365f8",
   "metadata": {
    "id": "74b365f8"
   },
   "outputs": [],
   "source": [
    "purchases = orders.loc[(orders.order_status == 'delivered') | (~orders.order_approved_at.isna())]"
   ]
  },
  {
   "cell_type": "code",
   "execution_count": 45,
   "id": "00dd7104",
   "metadata": {
    "id": "00dd7104",
    "outputId": "b19668e9-6527-435e-df07-561b9fc1d7ba"
   },
   "outputs": [
    {
     "data": {
      "text/plain": [
       "(99295, 8)"
      ]
     },
     "execution_count": 45,
     "metadata": {},
     "output_type": "execute_result"
    }
   ],
   "source": [
    "purchases.shape"
   ]
  },
  {
   "cell_type": "markdown",
   "id": "7a617868",
   "metadata": {
    "id": "7a617868"
   },
   "source": [
    "Всего было совершено 99295 покупок."
   ]
  },
  {
   "cell_type": "markdown",
   "id": "7964e86a",
   "metadata": {
    "id": "7964e86a"
   },
   "source": [
    "### 1. Сколько у нас пользователей, которые совершили покупку только один раз?"
   ]
  },
  {
   "cell_type": "code",
   "execution_count": 46,
   "id": "eaf41a5f",
   "metadata": {
    "id": "eaf41a5f",
    "outputId": "fca63d7c-d4f1-4566-b1be-b59f74a01291"
   },
   "outputs": [
    {
     "data": {
      "text/html": [
       "<div>\n",
       "<style scoped>\n",
       "    .dataframe tbody tr th:only-of-type {\n",
       "        vertical-align: middle;\n",
       "    }\n",
       "\n",
       "    .dataframe tbody tr th {\n",
       "        vertical-align: top;\n",
       "    }\n",
       "\n",
       "    .dataframe thead th {\n",
       "        text-align: right;\n",
       "    }\n",
       "</style>\n",
       "<table border=\"1\" class=\"dataframe\">\n",
       "  <thead>\n",
       "    <tr style=\"text-align: right;\">\n",
       "      <th></th>\n",
       "      <th>order_id</th>\n",
       "      <th>customer_id</th>\n",
       "      <th>order_status</th>\n",
       "      <th>order_purchase_timestamp</th>\n",
       "      <th>order_approved_at</th>\n",
       "      <th>order_delivered_carrier_date</th>\n",
       "      <th>order_delivered_customer_date</th>\n",
       "      <th>order_estimated_delivery_date</th>\n",
       "    </tr>\n",
       "  </thead>\n",
       "  <tbody>\n",
       "    <tr>\n",
       "      <th>0</th>\n",
       "      <td>e481f51cbdc54678b7cc49136f2d6af7</td>\n",
       "      <td>9ef432eb6251297304e76186b10a928d</td>\n",
       "      <td>delivered</td>\n",
       "      <td>2017-10-02 10:56:33</td>\n",
       "      <td>2017-10-02 11:07:15</td>\n",
       "      <td>2017-10-04 19:55:00</td>\n",
       "      <td>2017-10-10 21:25:13</td>\n",
       "      <td>2017-10-18</td>\n",
       "    </tr>\n",
       "    <tr>\n",
       "      <th>1</th>\n",
       "      <td>53cdb2fc8bc7dce0b6741e2150273451</td>\n",
       "      <td>b0830fb4747a6c6d20dea0b8c802d7ef</td>\n",
       "      <td>delivered</td>\n",
       "      <td>2018-07-24 20:41:37</td>\n",
       "      <td>2018-07-26 03:24:27</td>\n",
       "      <td>2018-07-26 14:31:00</td>\n",
       "      <td>2018-08-07 15:27:45</td>\n",
       "      <td>2018-08-13</td>\n",
       "    </tr>\n",
       "    <tr>\n",
       "      <th>2</th>\n",
       "      <td>47770eb9100c2d0c44946d9cf07ec65d</td>\n",
       "      <td>41ce2a54c0b03bf3443c3d931a367089</td>\n",
       "      <td>delivered</td>\n",
       "      <td>2018-08-08 08:38:49</td>\n",
       "      <td>2018-08-08 08:55:23</td>\n",
       "      <td>2018-08-08 13:50:00</td>\n",
       "      <td>2018-08-17 18:06:29</td>\n",
       "      <td>2018-09-04</td>\n",
       "    </tr>\n",
       "    <tr>\n",
       "      <th>3</th>\n",
       "      <td>949d5b44dbf5de918fe9c16f97b45f8a</td>\n",
       "      <td>f88197465ea7920adcdbec7375364d82</td>\n",
       "      <td>delivered</td>\n",
       "      <td>2017-11-18 19:28:06</td>\n",
       "      <td>2017-11-18 19:45:59</td>\n",
       "      <td>2017-11-22 13:39:59</td>\n",
       "      <td>2017-12-02 00:28:42</td>\n",
       "      <td>2017-12-15</td>\n",
       "    </tr>\n",
       "    <tr>\n",
       "      <th>4</th>\n",
       "      <td>ad21c59c0840e6cb83a9ceb5573f8159</td>\n",
       "      <td>8ab97904e6daea8866dbdbc4fb7aad2c</td>\n",
       "      <td>delivered</td>\n",
       "      <td>2018-02-13 21:18:39</td>\n",
       "      <td>2018-02-13 22:20:29</td>\n",
       "      <td>2018-02-14 19:46:34</td>\n",
       "      <td>2018-02-16 18:17:02</td>\n",
       "      <td>2018-02-26</td>\n",
       "    </tr>\n",
       "  </tbody>\n",
       "</table>\n",
       "</div>"
      ],
      "text/plain": [
       "                           order_id                       customer_id  \\\n",
       "0  e481f51cbdc54678b7cc49136f2d6af7  9ef432eb6251297304e76186b10a928d   \n",
       "1  53cdb2fc8bc7dce0b6741e2150273451  b0830fb4747a6c6d20dea0b8c802d7ef   \n",
       "2  47770eb9100c2d0c44946d9cf07ec65d  41ce2a54c0b03bf3443c3d931a367089   \n",
       "3  949d5b44dbf5de918fe9c16f97b45f8a  f88197465ea7920adcdbec7375364d82   \n",
       "4  ad21c59c0840e6cb83a9ceb5573f8159  8ab97904e6daea8866dbdbc4fb7aad2c   \n",
       "\n",
       "  order_status order_purchase_timestamp   order_approved_at  \\\n",
       "0    delivered      2017-10-02 10:56:33 2017-10-02 11:07:15   \n",
       "1    delivered      2018-07-24 20:41:37 2018-07-26 03:24:27   \n",
       "2    delivered      2018-08-08 08:38:49 2018-08-08 08:55:23   \n",
       "3    delivered      2017-11-18 19:28:06 2017-11-18 19:45:59   \n",
       "4    delivered      2018-02-13 21:18:39 2018-02-13 22:20:29   \n",
       "\n",
       "  order_delivered_carrier_date order_delivered_customer_date  \\\n",
       "0          2017-10-04 19:55:00           2017-10-10 21:25:13   \n",
       "1          2018-07-26 14:31:00           2018-08-07 15:27:45   \n",
       "2          2018-08-08 13:50:00           2018-08-17 18:06:29   \n",
       "3          2017-11-22 13:39:59           2017-12-02 00:28:42   \n",
       "4          2018-02-14 19:46:34           2018-02-16 18:17:02   \n",
       "\n",
       "  order_estimated_delivery_date  \n",
       "0                    2017-10-18  \n",
       "1                    2018-08-13  \n",
       "2                    2018-09-04  \n",
       "3                    2017-12-15  \n",
       "4                    2018-02-26  "
      ]
     },
     "execution_count": 46,
     "metadata": {},
     "output_type": "execute_result"
    }
   ],
   "source": [
    "purchases.head()"
   ]
  },
  {
   "cell_type": "code",
   "execution_count": 47,
   "id": "3ef4851f",
   "metadata": {
    "id": "3ef4851f"
   },
   "outputs": [],
   "source": [
    "customers_and_purchases = purchases.merge(customers, how='inner', on='customer_id')"
   ]
  },
  {
   "cell_type": "code",
   "execution_count": 48,
   "id": "38c6999f",
   "metadata": {
    "id": "38c6999f",
    "outputId": "268e2bcd-ab8c-4431-d0bb-0c45d147d266"
   },
   "outputs": [
    {
     "data": {
      "text/plain": [
       "(99295, 12)"
      ]
     },
     "execution_count": 48,
     "metadata": {},
     "output_type": "execute_result"
    }
   ],
   "source": [
    "customers_and_purchases.shape"
   ]
  },
  {
   "cell_type": "code",
   "execution_count": 49,
   "id": "b1ae349e",
   "metadata": {
    "id": "b1ae349e",
    "outputId": "6e409113-7754-4afb-9567-2802fa0f8e80"
   },
   "outputs": [
    {
     "data": {
      "text/html": [
       "<div>\n",
       "<style scoped>\n",
       "    .dataframe tbody tr th:only-of-type {\n",
       "        vertical-align: middle;\n",
       "    }\n",
       "\n",
       "    .dataframe tbody tr th {\n",
       "        vertical-align: top;\n",
       "    }\n",
       "\n",
       "    .dataframe thead th {\n",
       "        text-align: right;\n",
       "    }\n",
       "</style>\n",
       "<table border=\"1\" class=\"dataframe\">\n",
       "  <thead>\n",
       "    <tr style=\"text-align: right;\">\n",
       "      <th></th>\n",
       "      <th>order_id</th>\n",
       "      <th>customer_id</th>\n",
       "      <th>order_status</th>\n",
       "      <th>order_purchase_timestamp</th>\n",
       "      <th>order_approved_at</th>\n",
       "      <th>order_delivered_carrier_date</th>\n",
       "      <th>order_delivered_customer_date</th>\n",
       "      <th>order_estimated_delivery_date</th>\n",
       "      <th>customer_unique_id</th>\n",
       "      <th>customer_zip_code_prefix</th>\n",
       "      <th>customer_city</th>\n",
       "      <th>customer_state</th>\n",
       "    </tr>\n",
       "  </thead>\n",
       "  <tbody>\n",
       "    <tr>\n",
       "      <th>0</th>\n",
       "      <td>e481f51cbdc54678b7cc49136f2d6af7</td>\n",
       "      <td>9ef432eb6251297304e76186b10a928d</td>\n",
       "      <td>delivered</td>\n",
       "      <td>2017-10-02 10:56:33</td>\n",
       "      <td>2017-10-02 11:07:15</td>\n",
       "      <td>2017-10-04 19:55:00</td>\n",
       "      <td>2017-10-10 21:25:13</td>\n",
       "      <td>2017-10-18</td>\n",
       "      <td>7c396fd4830fd04220f754e42b4e5bff</td>\n",
       "      <td>3149</td>\n",
       "      <td>sao paulo</td>\n",
       "      <td>SP</td>\n",
       "    </tr>\n",
       "    <tr>\n",
       "      <th>1</th>\n",
       "      <td>53cdb2fc8bc7dce0b6741e2150273451</td>\n",
       "      <td>b0830fb4747a6c6d20dea0b8c802d7ef</td>\n",
       "      <td>delivered</td>\n",
       "      <td>2018-07-24 20:41:37</td>\n",
       "      <td>2018-07-26 03:24:27</td>\n",
       "      <td>2018-07-26 14:31:00</td>\n",
       "      <td>2018-08-07 15:27:45</td>\n",
       "      <td>2018-08-13</td>\n",
       "      <td>af07308b275d755c9edb36a90c618231</td>\n",
       "      <td>47813</td>\n",
       "      <td>barreiras</td>\n",
       "      <td>BA</td>\n",
       "    </tr>\n",
       "    <tr>\n",
       "      <th>2</th>\n",
       "      <td>47770eb9100c2d0c44946d9cf07ec65d</td>\n",
       "      <td>41ce2a54c0b03bf3443c3d931a367089</td>\n",
       "      <td>delivered</td>\n",
       "      <td>2018-08-08 08:38:49</td>\n",
       "      <td>2018-08-08 08:55:23</td>\n",
       "      <td>2018-08-08 13:50:00</td>\n",
       "      <td>2018-08-17 18:06:29</td>\n",
       "      <td>2018-09-04</td>\n",
       "      <td>3a653a41f6f9fc3d2a113cf8398680e8</td>\n",
       "      <td>75265</td>\n",
       "      <td>vianopolis</td>\n",
       "      <td>GO</td>\n",
       "    </tr>\n",
       "    <tr>\n",
       "      <th>3</th>\n",
       "      <td>949d5b44dbf5de918fe9c16f97b45f8a</td>\n",
       "      <td>f88197465ea7920adcdbec7375364d82</td>\n",
       "      <td>delivered</td>\n",
       "      <td>2017-11-18 19:28:06</td>\n",
       "      <td>2017-11-18 19:45:59</td>\n",
       "      <td>2017-11-22 13:39:59</td>\n",
       "      <td>2017-12-02 00:28:42</td>\n",
       "      <td>2017-12-15</td>\n",
       "      <td>7c142cf63193a1473d2e66489a9ae977</td>\n",
       "      <td>59296</td>\n",
       "      <td>sao goncalo do amarante</td>\n",
       "      <td>RN</td>\n",
       "    </tr>\n",
       "    <tr>\n",
       "      <th>4</th>\n",
       "      <td>ad21c59c0840e6cb83a9ceb5573f8159</td>\n",
       "      <td>8ab97904e6daea8866dbdbc4fb7aad2c</td>\n",
       "      <td>delivered</td>\n",
       "      <td>2018-02-13 21:18:39</td>\n",
       "      <td>2018-02-13 22:20:29</td>\n",
       "      <td>2018-02-14 19:46:34</td>\n",
       "      <td>2018-02-16 18:17:02</td>\n",
       "      <td>2018-02-26</td>\n",
       "      <td>72632f0f9dd73dfee390c9b22eb56dd6</td>\n",
       "      <td>9195</td>\n",
       "      <td>santo andre</td>\n",
       "      <td>SP</td>\n",
       "    </tr>\n",
       "  </tbody>\n",
       "</table>\n",
       "</div>"
      ],
      "text/plain": [
       "                           order_id                       customer_id  \\\n",
       "0  e481f51cbdc54678b7cc49136f2d6af7  9ef432eb6251297304e76186b10a928d   \n",
       "1  53cdb2fc8bc7dce0b6741e2150273451  b0830fb4747a6c6d20dea0b8c802d7ef   \n",
       "2  47770eb9100c2d0c44946d9cf07ec65d  41ce2a54c0b03bf3443c3d931a367089   \n",
       "3  949d5b44dbf5de918fe9c16f97b45f8a  f88197465ea7920adcdbec7375364d82   \n",
       "4  ad21c59c0840e6cb83a9ceb5573f8159  8ab97904e6daea8866dbdbc4fb7aad2c   \n",
       "\n",
       "  order_status order_purchase_timestamp   order_approved_at  \\\n",
       "0    delivered      2017-10-02 10:56:33 2017-10-02 11:07:15   \n",
       "1    delivered      2018-07-24 20:41:37 2018-07-26 03:24:27   \n",
       "2    delivered      2018-08-08 08:38:49 2018-08-08 08:55:23   \n",
       "3    delivered      2017-11-18 19:28:06 2017-11-18 19:45:59   \n",
       "4    delivered      2018-02-13 21:18:39 2018-02-13 22:20:29   \n",
       "\n",
       "  order_delivered_carrier_date order_delivered_customer_date  \\\n",
       "0          2017-10-04 19:55:00           2017-10-10 21:25:13   \n",
       "1          2018-07-26 14:31:00           2018-08-07 15:27:45   \n",
       "2          2018-08-08 13:50:00           2018-08-17 18:06:29   \n",
       "3          2017-11-22 13:39:59           2017-12-02 00:28:42   \n",
       "4          2018-02-14 19:46:34           2018-02-16 18:17:02   \n",
       "\n",
       "  order_estimated_delivery_date                customer_unique_id  \\\n",
       "0                    2017-10-18  7c396fd4830fd04220f754e42b4e5bff   \n",
       "1                    2018-08-13  af07308b275d755c9edb36a90c618231   \n",
       "2                    2018-09-04  3a653a41f6f9fc3d2a113cf8398680e8   \n",
       "3                    2017-12-15  7c142cf63193a1473d2e66489a9ae977   \n",
       "4                    2018-02-26  72632f0f9dd73dfee390c9b22eb56dd6   \n",
       "\n",
       "   customer_zip_code_prefix            customer_city customer_state  \n",
       "0                      3149                sao paulo             SP  \n",
       "1                     47813                barreiras             BA  \n",
       "2                     75265               vianopolis             GO  \n",
       "3                     59296  sao goncalo do amarante             RN  \n",
       "4                      9195              santo andre             SP  "
      ]
     },
     "execution_count": 49,
     "metadata": {},
     "output_type": "execute_result"
    }
   ],
   "source": [
    "customers_and_purchases.head()"
   ]
  },
  {
   "cell_type": "code",
   "execution_count": 50,
   "id": "59bc12f8",
   "metadata": {
    "id": "59bc12f8",
    "outputId": "190a2bbd-9620-4fda-fe97-ee7d04eaf00a"
   },
   "outputs": [
    {
     "data": {
      "text/plain": [
       "96010"
      ]
     },
     "execution_count": 50,
     "metadata": {},
     "output_type": "execute_result"
    }
   ],
   "source": [
    "num_unique_customers = customers_and_purchases.customer_unique_id.nunique()\n",
    "num_unique_customers"
   ]
  },
  {
   "cell_type": "markdown",
   "id": "0d563ac4",
   "metadata": {
    "id": "0d563ac4"
   },
   "source": [
    "Всего у нас 96010 пользователей, которые совершили хотя бы одну покупку"
   ]
  },
  {
   "cell_type": "code",
   "execution_count": 51,
   "id": "5e8dcbd6",
   "metadata": {
    "id": "5e8dcbd6",
    "outputId": "22e7a15b-e8c6-4629-a291-8aff1a834b5c"
   },
   "outputs": [
    {
     "data": {
      "text/plain": [
       "93061"
      ]
     },
     "execution_count": 51,
     "metadata": {},
     "output_type": "execute_result"
    }
   ],
   "source": [
    "#пользователи, которые совершили только одну покупку\n",
    "one_purchase_customers = customers_and_purchases.customer_unique_id.value_counts() \\\n",
    "    .loc[customers_and_purchases.customer_unique_id.value_counts() == 1].count()\n",
    "one_purchase_customers"
   ]
  },
  {
   "cell_type": "markdown",
   "id": "f1da2820",
   "metadata": {
    "id": "f1da2820"
   },
   "source": [
    "93061 пользователь совершил только одну покупку"
   ]
  },
  {
   "cell_type": "code",
   "execution_count": 52,
   "id": "4c304e44",
   "metadata": {
    "id": "4c304e44",
    "outputId": "6bd3d79a-0b4a-4d59-f0aa-9fbe331b4b5f"
   },
   "outputs": [
    {
     "data": {
      "text/plain": [
       "96.93"
      ]
     },
     "execution_count": 52,
     "metadata": {},
     "output_type": "execute_result"
    }
   ],
   "source": [
    "np.round(one_purchase_customers / num_unique_customers * 100, 2)"
   ]
  },
  {
   "cell_type": "markdown",
   "id": "8f1fd8b7",
   "metadata": {
    "id": "8f1fd8b7"
   },
   "source": [
    "96.93 % пользователей совершили только одну покупку."
   ]
  },
  {
   "cell_type": "markdown",
   "id": "4cd1d068",
   "metadata": {
    "id": "4cd1d068"
   },
   "source": [
    "#### Вывод:\n",
    "93061 пользователь совершил только одну покупку. Что составляет 93.63 % от всех пользователей совершивших хотябы одну покупку."
   ]
  },
  {
   "cell_type": "markdown",
   "id": "1386cd00",
   "metadata": {
    "id": "1386cd00"
   },
   "source": [
    "### 2. Сколько заказов в месяц в среднем не доставляется по разным причинам (вывести детализацию по причинам)?"
   ]
  },
  {
   "cell_type": "markdown",
   "id": "d4106ee6",
   "metadata": {
    "id": "d4106ee6"
   },
   "source": [
    "1. Выберем только записи со статусом отличным от 'delivered'\n",
    "2. Нужно также учесть, что некоторые заказы со статусом 'canceled' были доставлены пользователю"
   ]
  },
  {
   "cell_type": "code",
   "execution_count": 53,
   "id": "da2af8a0",
   "metadata": {
    "id": "da2af8a0"
   },
   "outputs": [],
   "source": [
    "not_delivered = purchases.loc[(purchases.order_status != 'delivered') &\n",
    "                              (purchases.order_delivered_customer_date.isna())].copy()"
   ]
  },
  {
   "cell_type": "code",
   "execution_count": 54,
   "id": "c3a0dd19",
   "metadata": {
    "id": "c3a0dd19",
    "outputId": "e90388c8-5448-4214-db98-509004d9653b"
   },
   "outputs": [
    {
     "data": {
      "text/plain": [
       "(2811, 8)"
      ]
     },
     "execution_count": 54,
     "metadata": {},
     "output_type": "execute_result"
    }
   ],
   "source": [
    "not_delivered.shape"
   ]
  },
  {
   "cell_type": "markdown",
   "id": "441b8473",
   "metadata": {
    "id": "441b8473"
   },
   "source": [
    "Всего по разным причинам не доставлено 2811 заказов"
   ]
  },
  {
   "cell_type": "code",
   "execution_count": 55,
   "id": "4670587b",
   "metadata": {
    "id": "4670587b"
   },
   "outputs": [],
   "source": [
    "#добавим колонку с месяцем предполагаемой доставки\n",
    "not_delivered['delivery_month'] = not_delivered.order_estimated_delivery_date.apply(lambda x: x.strftime('%Y-%m-01'))"
   ]
  },
  {
   "cell_type": "code",
   "execution_count": 56,
   "id": "8fdb9b61",
   "metadata": {
    "id": "8fdb9b61",
    "outputId": "86a43b5a-a640-4527-bce9-1d7ba3f8dd3a"
   },
   "outputs": [
    {
     "data": {
      "text/html": [
       "<div>\n",
       "<style scoped>\n",
       "    .dataframe tbody tr th:only-of-type {\n",
       "        vertical-align: middle;\n",
       "    }\n",
       "\n",
       "    .dataframe tbody tr th {\n",
       "        vertical-align: top;\n",
       "    }\n",
       "\n",
       "    .dataframe thead th {\n",
       "        text-align: right;\n",
       "    }\n",
       "</style>\n",
       "<table border=\"1\" class=\"dataframe\">\n",
       "  <thead>\n",
       "    <tr style=\"text-align: right;\">\n",
       "      <th></th>\n",
       "      <th>order_status</th>\n",
       "      <th>mean_not_delivered_orders</th>\n",
       "    </tr>\n",
       "  </thead>\n",
       "  <tbody>\n",
       "    <tr>\n",
       "      <th>0</th>\n",
       "      <td>approved</td>\n",
       "      <td>1.00</td>\n",
       "    </tr>\n",
       "    <tr>\n",
       "      <th>1</th>\n",
       "      <td>canceled</td>\n",
       "      <td>20.78</td>\n",
       "    </tr>\n",
       "    <tr>\n",
       "      <th>2</th>\n",
       "      <td>invoiced</td>\n",
       "      <td>14.95</td>\n",
       "    </tr>\n",
       "    <tr>\n",
       "      <th>3</th>\n",
       "      <td>processing</td>\n",
       "      <td>15.84</td>\n",
       "    </tr>\n",
       "    <tr>\n",
       "      <th>4</th>\n",
       "      <td>shipped</td>\n",
       "      <td>48.13</td>\n",
       "    </tr>\n",
       "    <tr>\n",
       "      <th>5</th>\n",
       "      <td>unavailable</td>\n",
       "      <td>29.00</td>\n",
       "    </tr>\n",
       "  </tbody>\n",
       "</table>\n",
       "</div>"
      ],
      "text/plain": [
       "  order_status  mean_not_delivered_orders\n",
       "0     approved                       1.00\n",
       "1     canceled                      20.78\n",
       "2     invoiced                      14.95\n",
       "3   processing                      15.84\n",
       "4      shipped                      48.13\n",
       "5  unavailable                      29.00"
      ]
     },
     "execution_count": 56,
     "metadata": {},
     "output_type": "execute_result"
    }
   ],
   "source": [
    "not_delivered_by_reason_mean = not_delivered.groupby(['delivery_month', 'order_status'], as_index=False) \\\n",
    "    .size() \\\n",
    "    .groupby('order_status', as_index=False) \\\n",
    "    .agg({'size': 'mean'}) \\\n",
    "    .round(2) \\\n",
    "    .rename(columns={'size': 'mean_not_delivered_orders'})\n",
    "not_delivered_by_reason_mean"
   ]
  },
  {
   "cell_type": "code",
   "execution_count": 57,
   "id": "460a3627",
   "metadata": {
    "id": "460a3627",
    "outputId": "2079ec00-923a-4d99-92f6-29a3ce1c4e49"
   },
   "outputs": [
    {
     "data": {
      "image/png": "[encoded data removed]",
      "text/plain": [
       "<Figure size 1000x600 with 1 Axes>"
      ]
     },
     "metadata": {},
     "output_type": "display_data"
    }
   ],
   "source": [
    "fig, ax = plt.subplots(figsize=(10,6))\n",
    "sns.barplot(data=not_delivered_by_reason_mean, x='order_status', y='mean_not_delivered_orders', palette='Blues')\n",
    "ax.set_title('Mean number of not delivered orders by reasons\\n')\n",
    "ax.set_xlabel('\\nreason')\n",
    "ax.set_ylabel('mean number of orders\\n')\n",
    "ax.bar_label(ax.containers[0])\n",
    "sns.despine()"
   ]
  },
  {
   "cell_type": "markdown",
   "id": "177576fa",
   "metadata": {
    "id": "177576fa"
   },
   "source": [
    "#### Вывод:\n",
    "По разным причинам в месяц в среднем не доставляется следующее количесвто заказов:\n",
    "1. 'shipped' - 48.13\n",
    "2. 'unavailable' - 29\n",
    "3. 'canceled' - 20.78\n",
    "4. 'processing' - 15.85\n",
    "5. 'invoiced' - 14.95\n",
    "6. 'approved' - 1"
   ]
  },
  {
   "cell_type": "markdown",
   "id": "72d0eb33",
   "metadata": {
    "id": "72d0eb33"
   },
   "source": [
    "В среднем в месяц отменяется 20.78 заказа и еще 29 имеют статус - \"недоступен\".\n",
    "\n",
    "Заказы со статусами 'shipped', 'processing', 'invoiced', approved' находятся в той или иной стадии выполнения и еще могут быть доставлены пользователям."
   ]
  },
  {
   "cell_type": "markdown",
   "id": "8582bac7",
   "metadata": {
    "id": "8582bac7"
   },
   "source": [
    "### 3. По каждому товару определить, в какой день недели товар чаще всего покупается."
   ]
  },
  {
   "cell_type": "code",
   "execution_count": 58,
   "id": "cceb84d8",
   "metadata": {
    "id": "cceb84d8"
   },
   "outputs": [],
   "source": [
    "purchase_items = purchases.merge(items, how='inner', on='order_id')"
   ]
  },
  {
   "cell_type": "code",
   "execution_count": 59,
   "id": "d2c27a5d",
   "metadata": {
    "id": "d2c27a5d",
    "outputId": "607aed22-6d84-4f1c-aee8-2d6cc32b19e9"
   },
   "outputs": [
    {
     "data": {
      "text/html": [
       "<div>\n",
       "<style scoped>\n",
       "    .dataframe tbody tr th:only-of-type {\n",
       "        vertical-align: middle;\n",
       "    }\n",
       "\n",
       "    .dataframe tbody tr th {\n",
       "        vertical-align: top;\n",
       "    }\n",
       "\n",
       "    .dataframe thead th {\n",
       "        text-align: right;\n",
       "    }\n",
       "</style>\n",
       "<table border=\"1\" class=\"dataframe\">\n",
       "  <thead>\n",
       "    <tr style=\"text-align: right;\">\n",
       "      <th></th>\n",
       "      <th>order_id</th>\n",
       "      <th>customer_id</th>\n",
       "      <th>order_status</th>\n",
       "      <th>order_purchase_timestamp</th>\n",
       "      <th>order_approved_at</th>\n",
       "      <th>order_delivered_carrier_date</th>\n",
       "      <th>order_delivered_customer_date</th>\n",
       "      <th>order_estimated_delivery_date</th>\n",
       "      <th>order_item_id</th>\n",
       "      <th>product_id</th>\n",
       "      <th>seller_id</th>\n",
       "      <th>shipping_limit_date</th>\n",
       "      <th>price</th>\n",
       "      <th>freight_value</th>\n",
       "    </tr>\n",
       "  </thead>\n",
       "  <tbody>\n",
       "    <tr>\n",
       "      <th>0</th>\n",
       "      <td>e481f51cbdc54678b7cc49136f2d6af7</td>\n",
       "      <td>9ef432eb6251297304e76186b10a928d</td>\n",
       "      <td>delivered</td>\n",
       "      <td>2017-10-02 10:56:33</td>\n",
       "      <td>2017-10-02 11:07:15</td>\n",
       "      <td>2017-10-04 19:55:00</td>\n",
       "      <td>2017-10-10 21:25:13</td>\n",
       "      <td>2017-10-18</td>\n",
       "      <td>1</td>\n",
       "      <td>87285b34884572647811a353c7ac498a</td>\n",
       "      <td>3504c0cb71d7fa48d967e0e4c94d59d9</td>\n",
       "      <td>2017-10-06 11:07:15</td>\n",
       "      <td>29.99</td>\n",
       "      <td>8.72</td>\n",
       "    </tr>\n",
       "    <tr>\n",
       "      <th>1</th>\n",
       "      <td>53cdb2fc8bc7dce0b6741e2150273451</td>\n",
       "      <td>b0830fb4747a6c6d20dea0b8c802d7ef</td>\n",
       "      <td>delivered</td>\n",
       "      <td>2018-07-24 20:41:37</td>\n",
       "      <td>2018-07-26 03:24:27</td>\n",
       "      <td>2018-07-26 14:31:00</td>\n",
       "      <td>2018-08-07 15:27:45</td>\n",
       "      <td>2018-08-13</td>\n",
       "      <td>1</td>\n",
       "      <td>595fac2a385ac33a80bd5114aec74eb8</td>\n",
       "      <td>289cdb325fb7e7f891c38608bf9e0962</td>\n",
       "      <td>2018-07-30 03:24:27</td>\n",
       "      <td>118.70</td>\n",
       "      <td>22.76</td>\n",
       "    </tr>\n",
       "    <tr>\n",
       "      <th>2</th>\n",
       "      <td>47770eb9100c2d0c44946d9cf07ec65d</td>\n",
       "      <td>41ce2a54c0b03bf3443c3d931a367089</td>\n",
       "      <td>delivered</td>\n",
       "      <td>2018-08-08 08:38:49</td>\n",
       "      <td>2018-08-08 08:55:23</td>\n",
       "      <td>2018-08-08 13:50:00</td>\n",
       "      <td>2018-08-17 18:06:29</td>\n",
       "      <td>2018-09-04</td>\n",
       "      <td>1</td>\n",
       "      <td>aa4383b373c6aca5d8797843e5594415</td>\n",
       "      <td>4869f7a5dfa277a7dca6462dcf3b52b2</td>\n",
       "      <td>2018-08-13 08:55:23</td>\n",
       "      <td>159.90</td>\n",
       "      <td>19.22</td>\n",
       "    </tr>\n",
       "    <tr>\n",
       "      <th>3</th>\n",
       "      <td>949d5b44dbf5de918fe9c16f97b45f8a</td>\n",
       "      <td>f88197465ea7920adcdbec7375364d82</td>\n",
       "      <td>delivered</td>\n",
       "      <td>2017-11-18 19:28:06</td>\n",
       "      <td>2017-11-18 19:45:59</td>\n",
       "      <td>2017-11-22 13:39:59</td>\n",
       "      <td>2017-12-02 00:28:42</td>\n",
       "      <td>2017-12-15</td>\n",
       "      <td>1</td>\n",
       "      <td>d0b61bfb1de832b15ba9d266ca96e5b0</td>\n",
       "      <td>66922902710d126a0e7d26b0e3805106</td>\n",
       "      <td>2017-11-23 19:45:59</td>\n",
       "      <td>45.00</td>\n",
       "      <td>27.20</td>\n",
       "    </tr>\n",
       "    <tr>\n",
       "      <th>4</th>\n",
       "      <td>ad21c59c0840e6cb83a9ceb5573f8159</td>\n",
       "      <td>8ab97904e6daea8866dbdbc4fb7aad2c</td>\n",
       "      <td>delivered</td>\n",
       "      <td>2018-02-13 21:18:39</td>\n",
       "      <td>2018-02-13 22:20:29</td>\n",
       "      <td>2018-02-14 19:46:34</td>\n",
       "      <td>2018-02-16 18:17:02</td>\n",
       "      <td>2018-02-26</td>\n",
       "      <td>1</td>\n",
       "      <td>65266b2da20d04dbe00c5c2d3bb7859e</td>\n",
       "      <td>2c9e548be18521d1c43cde1c582c6de8</td>\n",
       "      <td>2018-02-19 20:31:37</td>\n",
       "      <td>19.90</td>\n",
       "      <td>8.72</td>\n",
       "    </tr>\n",
       "  </tbody>\n",
       "</table>\n",
       "</div>"
      ],
      "text/plain": [
       "                           order_id                       customer_id  \\\n",
       "0  e481f51cbdc54678b7cc49136f2d6af7  9ef432eb6251297304e76186b10a928d   \n",
       "1  53cdb2fc8bc7dce0b6741e2150273451  b0830fb4747a6c6d20dea0b8c802d7ef   \n",
       "2  47770eb9100c2d0c44946d9cf07ec65d  41ce2a54c0b03bf3443c3d931a367089   \n",
       "3  949d5b44dbf5de918fe9c16f97b45f8a  f88197465ea7920adcdbec7375364d82   \n",
       "4  ad21c59c0840e6cb83a9ceb5573f8159  8ab97904e6daea8866dbdbc4fb7aad2c   \n",
       "\n",
       "  order_status order_purchase_timestamp   order_approved_at  \\\n",
       "0    delivered      2017-10-02 10:56:33 2017-10-02 11:07:15   \n",
       "1    delivered      2018-07-24 20:41:37 2018-07-26 03:24:27   \n",
       "2    delivered      2018-08-08 08:38:49 2018-08-08 08:55:23   \n",
       "3    delivered      2017-11-18 19:28:06 2017-11-18 19:45:59   \n",
       "4    delivered      2018-02-13 21:18:39 2018-02-13 22:20:29   \n",
       "\n",
       "  order_delivered_carrier_date order_delivered_customer_date  \\\n",
       "0          2017-10-04 19:55:00           2017-10-10 21:25:13   \n",
       "1          2018-07-26 14:31:00           2018-08-07 15:27:45   \n",
       "2          2018-08-08 13:50:00           2018-08-17 18:06:29   \n",
       "3          2017-11-22 13:39:59           2017-12-02 00:28:42   \n",
       "4          2018-02-14 19:46:34           2018-02-16 18:17:02   \n",
       "\n",
       "  order_estimated_delivery_date  order_item_id  \\\n",
       "0                    2017-10-18              1   \n",
       "1                    2018-08-13              1   \n",
       "2                    2018-09-04              1   \n",
       "3                    2017-12-15              1   \n",
       "4                    2018-02-26              1   \n",
       "\n",
       "                         product_id                         seller_id  \\\n",
       "0  87285b34884572647811a353c7ac498a  3504c0cb71d7fa48d967e0e4c94d59d9   \n",
       "1  595fac2a385ac33a80bd5114aec74eb8  289cdb325fb7e7f891c38608bf9e0962   \n",
       "2  aa4383b373c6aca5d8797843e5594415  4869f7a5dfa277a7dca6462dcf3b52b2   \n",
       "3  d0b61bfb1de832b15ba9d266ca96e5b0  66922902710d126a0e7d26b0e3805106   \n",
       "4  65266b2da20d04dbe00c5c2d3bb7859e  2c9e548be18521d1c43cde1c582c6de8   \n",
       "\n",
       "   shipping_limit_date   price  freight_value  \n",
       "0  2017-10-06 11:07:15   29.99           8.72  \n",
       "1  2018-07-30 03:24:27  118.70          22.76  \n",
       "2  2018-08-13 08:55:23  159.90          19.22  \n",
       "3  2017-11-23 19:45:59   45.00          27.20  \n",
       "4  2018-02-19 20:31:37   19.90           8.72  "
      ]
     },
     "execution_count": 59,
     "metadata": {},
     "output_type": "execute_result"
    }
   ],
   "source": [
    "purchase_items.head()"
   ]
  },
  {
   "cell_type": "markdown",
   "id": "0137bc30",
   "metadata": {
    "id": "0137bc30"
   },
   "source": [
    "Днем недели, в который совершается покупка, будем считать день, когда был сформирован заказ (поле 'order_purchase_timestamp')."
   ]
  },
  {
   "cell_type": "code",
   "execution_count": 60,
   "id": "5702c97b",
   "metadata": {
    "id": "5702c97b"
   },
   "outputs": [],
   "source": [
    "#добавим колонку с днем недели, когда была совершена покупка\n",
    "purchase_items['day_name'] = purchase_items.order_purchase_timestamp.dt.day_name()"
   ]
  },
  {
   "cell_type": "code",
   "execution_count": 61,
   "id": "a65ed71c",
   "metadata": {
    "id": "a65ed71c",
    "outputId": "28c723b7-6095-492d-81ee-2b5a33733f65"
   },
   "outputs": [
    {
     "data": {
      "text/html": [
       "<div>\n",
       "<style scoped>\n",
       "    .dataframe tbody tr th:only-of-type {\n",
       "        vertical-align: middle;\n",
       "    }\n",
       "\n",
       "    .dataframe tbody tr th {\n",
       "        vertical-align: top;\n",
       "    }\n",
       "\n",
       "    .dataframe thead th {\n",
       "        text-align: right;\n",
       "    }\n",
       "</style>\n",
       "<table border=\"1\" class=\"dataframe\">\n",
       "  <thead>\n",
       "    <tr style=\"text-align: right;\">\n",
       "      <th></th>\n",
       "      <th>product_id</th>\n",
       "      <th>day_name</th>\n",
       "      <th>total_purchases</th>\n",
       "    </tr>\n",
       "  </thead>\n",
       "  <tbody>\n",
       "    <tr>\n",
       "      <th>0</th>\n",
       "      <td>00066f42aeeb9f3007548bb9d3f33c38</td>\n",
       "      <td>Sunday</td>\n",
       "      <td>1</td>\n",
       "    </tr>\n",
       "    <tr>\n",
       "      <th>1</th>\n",
       "      <td>00088930e925c41fd95ebfe695fd2655</td>\n",
       "      <td>Tuesday</td>\n",
       "      <td>1</td>\n",
       "    </tr>\n",
       "    <tr>\n",
       "      <th>2</th>\n",
       "      <td>0009406fd7479715e4bef61dd91f2462</td>\n",
       "      <td>Thursday</td>\n",
       "      <td>1</td>\n",
       "    </tr>\n",
       "    <tr>\n",
       "      <th>3</th>\n",
       "      <td>000b8f95fcb9e0096488278317764d19</td>\n",
       "      <td>Friday</td>\n",
       "      <td>1</td>\n",
       "    </tr>\n",
       "    <tr>\n",
       "      <th>4</th>\n",
       "      <td>000b8f95fcb9e0096488278317764d19</td>\n",
       "      <td>Wednesday</td>\n",
       "      <td>1</td>\n",
       "    </tr>\n",
       "  </tbody>\n",
       "</table>\n",
       "</div>"
      ],
      "text/plain": [
       "                         product_id   day_name  total_purchases\n",
       "0  00066f42aeeb9f3007548bb9d3f33c38     Sunday                1\n",
       "1  00088930e925c41fd95ebfe695fd2655    Tuesday                1\n",
       "2  0009406fd7479715e4bef61dd91f2462   Thursday                1\n",
       "3  000b8f95fcb9e0096488278317764d19     Friday                1\n",
       "4  000b8f95fcb9e0096488278317764d19  Wednesday                1"
      ]
     },
     "execution_count": 61,
     "metadata": {},
     "output_type": "execute_result"
    }
   ],
   "source": [
    "#посчитаем для каждого товара покупки по дням\n",
    "purchases_by_day = purchase_items.groupby(['product_id', 'day_name'], as_index=False) \\\n",
    "    .agg({'order_item_id': 'count'}) \\\n",
    "    .rename(columns={'order_item_id': 'total_purchases'})\n",
    "purchases_by_day.head()"
   ]
  },
  {
   "cell_type": "code",
   "execution_count": 62,
   "id": "29077dc0",
   "metadata": {
    "id": "29077dc0",
    "outputId": "def4dafd-d992-451c-fdea-09fe8e16ef26"
   },
   "outputs": [
    {
     "data": {
      "text/html": [
       "<div>\n",
       "<style scoped>\n",
       "    .dataframe tbody tr th:only-of-type {\n",
       "        vertical-align: middle;\n",
       "    }\n",
       "\n",
       "    .dataframe tbody tr th {\n",
       "        vertical-align: top;\n",
       "    }\n",
       "\n",
       "    .dataframe thead th {\n",
       "        text-align: right;\n",
       "    }\n",
       "</style>\n",
       "<table border=\"1\" class=\"dataframe\">\n",
       "  <thead>\n",
       "    <tr style=\"text-align: right;\">\n",
       "      <th></th>\n",
       "      <th>product_id</th>\n",
       "      <th>day_name</th>\n",
       "      <th>total_purchases</th>\n",
       "      <th>rank</th>\n",
       "    </tr>\n",
       "  </thead>\n",
       "  <tbody>\n",
       "    <tr>\n",
       "      <th>0</th>\n",
       "      <td>00066f42aeeb9f3007548bb9d3f33c38</td>\n",
       "      <td>Sunday</td>\n",
       "      <td>1</td>\n",
       "      <td>1</td>\n",
       "    </tr>\n",
       "    <tr>\n",
       "      <th>1</th>\n",
       "      <td>00088930e925c41fd95ebfe695fd2655</td>\n",
       "      <td>Tuesday</td>\n",
       "      <td>1</td>\n",
       "      <td>1</td>\n",
       "    </tr>\n",
       "    <tr>\n",
       "      <th>2</th>\n",
       "      <td>0009406fd7479715e4bef61dd91f2462</td>\n",
       "      <td>Thursday</td>\n",
       "      <td>1</td>\n",
       "      <td>1</td>\n",
       "    </tr>\n",
       "    <tr>\n",
       "      <th>3</th>\n",
       "      <td>000b8f95fcb9e0096488278317764d19</td>\n",
       "      <td>Friday</td>\n",
       "      <td>1</td>\n",
       "      <td>1</td>\n",
       "    </tr>\n",
       "    <tr>\n",
       "      <th>4</th>\n",
       "      <td>000b8f95fcb9e0096488278317764d19</td>\n",
       "      <td>Wednesday</td>\n",
       "      <td>1</td>\n",
       "      <td>1</td>\n",
       "    </tr>\n",
       "  </tbody>\n",
       "</table>\n",
       "</div>"
      ],
      "text/plain": [
       "                         product_id   day_name  total_purchases  rank\n",
       "0  00066f42aeeb9f3007548bb9d3f33c38     Sunday                1     1\n",
       "1  00088930e925c41fd95ebfe695fd2655    Tuesday                1     1\n",
       "2  0009406fd7479715e4bef61dd91f2462   Thursday                1     1\n",
       "3  000b8f95fcb9e0096488278317764d19     Friday                1     1\n",
       "4  000b8f95fcb9e0096488278317764d19  Wednesday                1     1"
      ]
     },
     "execution_count": 62,
     "metadata": {},
     "output_type": "execute_result"
    }
   ],
   "source": [
    "#день с наибольшим количеством покупок товара будет иметь ранг 1\n",
    "purchases_by_day['rank'] = purchases_by_day.groupby('product_id')['total_purchases'] \\\n",
    "                      .rank(method='dense', ascending=False) \\\n",
    "                      .astype(int)\n",
    "purchases_by_day.head()"
   ]
  },
  {
   "cell_type": "code",
   "execution_count": 63,
   "id": "f26c0245",
   "metadata": {
    "id": "f26c0245",
    "outputId": "7c1befde-be0b-4ec2-d475-50c4a4be046f"
   },
   "outputs": [
    {
     "data": {
      "text/html": [
       "<div>\n",
       "<style scoped>\n",
       "    .dataframe tbody tr th:only-of-type {\n",
       "        vertical-align: middle;\n",
       "    }\n",
       "\n",
       "    .dataframe tbody tr th {\n",
       "        vertical-align: top;\n",
       "    }\n",
       "\n",
       "    .dataframe thead th {\n",
       "        text-align: right;\n",
       "    }\n",
       "</style>\n",
       "<table border=\"1\" class=\"dataframe\">\n",
       "  <thead>\n",
       "    <tr style=\"text-align: right;\">\n",
       "      <th></th>\n",
       "      <th>product_id</th>\n",
       "      <th>day_name</th>\n",
       "    </tr>\n",
       "  </thead>\n",
       "  <tbody>\n",
       "    <tr>\n",
       "      <th>0</th>\n",
       "      <td>00066f42aeeb9f3007548bb9d3f33c38</td>\n",
       "      <td>Sunday</td>\n",
       "    </tr>\n",
       "    <tr>\n",
       "      <th>1</th>\n",
       "      <td>00088930e925c41fd95ebfe695fd2655</td>\n",
       "      <td>Tuesday</td>\n",
       "    </tr>\n",
       "    <tr>\n",
       "      <th>2</th>\n",
       "      <td>0009406fd7479715e4bef61dd91f2462</td>\n",
       "      <td>Thursday</td>\n",
       "    </tr>\n",
       "    <tr>\n",
       "      <th>3</th>\n",
       "      <td>000b8f95fcb9e0096488278317764d19</td>\n",
       "      <td>Friday</td>\n",
       "    </tr>\n",
       "    <tr>\n",
       "      <th>4</th>\n",
       "      <td>000b8f95fcb9e0096488278317764d19</td>\n",
       "      <td>Wednesday</td>\n",
       "    </tr>\n",
       "  </tbody>\n",
       "</table>\n",
       "</div>"
      ],
      "text/plain": [
       "                         product_id   day_name\n",
       "0  00066f42aeeb9f3007548bb9d3f33c38     Sunday\n",
       "1  00088930e925c41fd95ebfe695fd2655    Tuesday\n",
       "2  0009406fd7479715e4bef61dd91f2462   Thursday\n",
       "3  000b8f95fcb9e0096488278317764d19     Friday\n",
       "4  000b8f95fcb9e0096488278317764d19  Wednesday"
      ]
     },
     "execution_count": 63,
     "metadata": {},
     "output_type": "execute_result"
    }
   ],
   "source": [
    "# дни недели, когда каждый товар покупался чаще всего\n",
    "purchases_by_day_max = purchases_by_day[['product_id', 'day_name']].loc[purchases_by_day['rank'] == 1]\n",
    "purchases_by_day_max.head()"
   ]
  },
  {
   "cell_type": "code",
   "execution_count": 64,
   "id": "d1c761e3",
   "metadata": {
    "id": "d1c761e3",
    "outputId": "7f6101d1-98d1-4fd1-e68d-e4985fcb576d"
   },
   "outputs": [
    {
     "data": {
      "text/plain": [
       "product_id\n",
       "9c31382f02ac001fe1a33a466471d98c    7\n",
       "51250f90d798d377a1928e8a4e2e9ae1    6\n",
       "d239ed6ed6dabbcbfd8a3b776e1ca50c    6\n",
       "1a7d1ce0dddfef9f6f2ed280798fd9bb    6\n",
       "94950d6ddd0b24c0d15f7f09d61a8148    6\n",
       "                                   ..\n",
       "5e9a6c707458f23644bb74a8b9c53222    1\n",
       "5e98eec44c208da92f2b66345586a229    1\n",
       "5e98bf1c0b10e3178f1278030034c1fb    1\n",
       "5e954c4ed342c50436d25d5f50a34919    1\n",
       "fffe9eeff12fcbd74a2f2b007dde0c58    1\n",
       "Name: count, Length: 32951, dtype: int64"
      ]
     },
     "execution_count": 64,
     "metadata": {},
     "output_type": "execute_result"
    }
   ],
   "source": [
    "purchases_by_day_max.product_id.value_counts()"
   ]
  },
  {
   "cell_type": "code",
   "execution_count": 65,
   "id": "555322ac",
   "metadata": {
    "id": "555322ac",
    "outputId": "7819f078-c020-4800-ae5c-170016571eea"
   },
   "outputs": [
    {
     "data": {
      "text/html": [
       "<div>\n",
       "<style scoped>\n",
       "    .dataframe tbody tr th:only-of-type {\n",
       "        vertical-align: middle;\n",
       "    }\n",
       "\n",
       "    .dataframe tbody tr th {\n",
       "        vertical-align: top;\n",
       "    }\n",
       "\n",
       "    .dataframe thead th {\n",
       "        text-align: right;\n",
       "    }\n",
       "</style>\n",
       "<table border=\"1\" class=\"dataframe\">\n",
       "  <thead>\n",
       "    <tr style=\"text-align: right;\">\n",
       "      <th></th>\n",
       "      <th>product_id</th>\n",
       "      <th>day_name</th>\n",
       "      <th>total_purchases</th>\n",
       "      <th>rank</th>\n",
       "    </tr>\n",
       "  </thead>\n",
       "  <tbody>\n",
       "    <tr>\n",
       "      <th>37164</th>\n",
       "      <td>9c31382f02ac001fe1a33a466471d98c</td>\n",
       "      <td>Friday</td>\n",
       "      <td>1</td>\n",
       "      <td>1</td>\n",
       "    </tr>\n",
       "    <tr>\n",
       "      <th>37165</th>\n",
       "      <td>9c31382f02ac001fe1a33a466471d98c</td>\n",
       "      <td>Monday</td>\n",
       "      <td>1</td>\n",
       "      <td>1</td>\n",
       "    </tr>\n",
       "    <tr>\n",
       "      <th>37166</th>\n",
       "      <td>9c31382f02ac001fe1a33a466471d98c</td>\n",
       "      <td>Saturday</td>\n",
       "      <td>1</td>\n",
       "      <td>1</td>\n",
       "    </tr>\n",
       "    <tr>\n",
       "      <th>37167</th>\n",
       "      <td>9c31382f02ac001fe1a33a466471d98c</td>\n",
       "      <td>Sunday</td>\n",
       "      <td>1</td>\n",
       "      <td>1</td>\n",
       "    </tr>\n",
       "    <tr>\n",
       "      <th>37168</th>\n",
       "      <td>9c31382f02ac001fe1a33a466471d98c</td>\n",
       "      <td>Thursday</td>\n",
       "      <td>1</td>\n",
       "      <td>1</td>\n",
       "    </tr>\n",
       "    <tr>\n",
       "      <th>37169</th>\n",
       "      <td>9c31382f02ac001fe1a33a466471d98c</td>\n",
       "      <td>Tuesday</td>\n",
       "      <td>1</td>\n",
       "      <td>1</td>\n",
       "    </tr>\n",
       "    <tr>\n",
       "      <th>37170</th>\n",
       "      <td>9c31382f02ac001fe1a33a466471d98c</td>\n",
       "      <td>Wednesday</td>\n",
       "      <td>1</td>\n",
       "      <td>1</td>\n",
       "    </tr>\n",
       "  </tbody>\n",
       "</table>\n",
       "</div>"
      ],
      "text/plain": [
       "                             product_id   day_name  total_purchases  rank\n",
       "37164  9c31382f02ac001fe1a33a466471d98c     Friday                1     1\n",
       "37165  9c31382f02ac001fe1a33a466471d98c     Monday                1     1\n",
       "37166  9c31382f02ac001fe1a33a466471d98c   Saturday                1     1\n",
       "37167  9c31382f02ac001fe1a33a466471d98c     Sunday                1     1\n",
       "37168  9c31382f02ac001fe1a33a466471d98c   Thursday                1     1\n",
       "37169  9c31382f02ac001fe1a33a466471d98c    Tuesday                1     1\n",
       "37170  9c31382f02ac001fe1a33a466471d98c  Wednesday                1     1"
      ]
     },
     "execution_count": 65,
     "metadata": {},
     "output_type": "execute_result"
    }
   ],
   "source": [
    "purchases_by_day.loc[purchases_by_day.product_id == '9c31382f02ac001fe1a33a466471d98c']"
   ]
  },
  {
   "cell_type": "code",
   "execution_count": 66,
   "id": "c3b65c60",
   "metadata": {
    "id": "c3b65c60"
   },
   "outputs": [],
   "source": [
    "order = [ 'Monday', 'Tuesday', 'Wednesday', 'Thursday', 'Friday', 'Saturday', 'Sunday']"
   ]
  },
  {
   "cell_type": "code",
   "execution_count": 67,
   "id": "0c95dcfd",
   "metadata": {
    "id": "0c95dcfd"
   },
   "outputs": [],
   "source": [
    "popular_purc_day = purchases_by_day_max.day_name.value_counts().reindex(order).to_frame().reset_index()"
   ]
  },
  {
   "cell_type": "code",
   "execution_count": 68,
   "id": "37ee7262",
   "metadata": {
    "id": "37ee7262",
    "outputId": "d1d7d2bb-30ef-40ec-9f44-cfcd5d5a8254"
   },
   "outputs": [
    {
     "data": {
      "image/png": "[encoded data removed]",
      "text/plain": [
       "<Figure size 1000x600 with 1 Axes>"
      ]
     },
     "metadata": {},
     "output_type": "display_data"
    }
   ],
   "source": [
    "fig, ax = plt.subplots(figsize=(10,6))\n",
    "sns.barplot(data=popular_purc_day, x='day_name', y='count', palette='Blues')\n",
    "ax.set_title('Most popular day for purchase\\n')\n",
    "ax.set_xlabel('\\nday of week')\n",
    "ax.set_ylabel('number of purchases\\n')\n",
    "sns.despine()"
   ]
  },
  {
   "cell_type": "markdown",
   "id": "63927ea2",
   "metadata": {
    "id": "63927ea2"
   },
   "source": [
    "#### Вывод:\n",
    "\n",
    "Для каждого товара был определен день, когда товар покупался чаще всего. Есть товары, которые одинаково часто покупались в разные дни недели. На графике наглядно видно, что частота покупок постепенно уменьшается к концу недели."
   ]
  },
  {
   "cell_type": "markdown",
   "id": "a3813707",
   "metadata": {
    "id": "a3813707"
   },
   "source": [
    "### 4. Сколько у каждого из пользователей в среднем покупок в неделю (по месяцам)?"
   ]
  },
  {
   "cell_type": "code",
   "execution_count": 69,
   "id": "c9848474",
   "metadata": {
    "id": "c9848474",
    "outputId": "24319a98-75d2-430b-9575-d65dffb92ebd"
   },
   "outputs": [
    {
     "data": {
      "text/html": [
       "<div>\n",
       "<style scoped>\n",
       "    .dataframe tbody tr th:only-of-type {\n",
       "        vertical-align: middle;\n",
       "    }\n",
       "\n",
       "    .dataframe tbody tr th {\n",
       "        vertical-align: top;\n",
       "    }\n",
       "\n",
       "    .dataframe thead th {\n",
       "        text-align: right;\n",
       "    }\n",
       "</style>\n",
       "<table border=\"1\" class=\"dataframe\">\n",
       "  <thead>\n",
       "    <tr style=\"text-align: right;\">\n",
       "      <th></th>\n",
       "      <th>order_id</th>\n",
       "      <th>customer_id</th>\n",
       "      <th>order_status</th>\n",
       "      <th>order_purchase_timestamp</th>\n",
       "      <th>order_approved_at</th>\n",
       "      <th>order_delivered_carrier_date</th>\n",
       "      <th>order_delivered_customer_date</th>\n",
       "      <th>order_estimated_delivery_date</th>\n",
       "      <th>customer_unique_id</th>\n",
       "      <th>customer_zip_code_prefix</th>\n",
       "      <th>customer_city</th>\n",
       "      <th>customer_state</th>\n",
       "    </tr>\n",
       "  </thead>\n",
       "  <tbody>\n",
       "    <tr>\n",
       "      <th>0</th>\n",
       "      <td>e481f51cbdc54678b7cc49136f2d6af7</td>\n",
       "      <td>9ef432eb6251297304e76186b10a928d</td>\n",
       "      <td>delivered</td>\n",
       "      <td>2017-10-02 10:56:33</td>\n",
       "      <td>2017-10-02 11:07:15</td>\n",
       "      <td>2017-10-04 19:55:00</td>\n",
       "      <td>2017-10-10 21:25:13</td>\n",
       "      <td>2017-10-18</td>\n",
       "      <td>7c396fd4830fd04220f754e42b4e5bff</td>\n",
       "      <td>3149</td>\n",
       "      <td>sao paulo</td>\n",
       "      <td>SP</td>\n",
       "    </tr>\n",
       "    <tr>\n",
       "      <th>1</th>\n",
       "      <td>53cdb2fc8bc7dce0b6741e2150273451</td>\n",
       "      <td>b0830fb4747a6c6d20dea0b8c802d7ef</td>\n",
       "      <td>delivered</td>\n",
       "      <td>2018-07-24 20:41:37</td>\n",
       "      <td>2018-07-26 03:24:27</td>\n",
       "      <td>2018-07-26 14:31:00</td>\n",
       "      <td>2018-08-07 15:27:45</td>\n",
       "      <td>2018-08-13</td>\n",
       "      <td>af07308b275d755c9edb36a90c618231</td>\n",
       "      <td>47813</td>\n",
       "      <td>barreiras</td>\n",
       "      <td>BA</td>\n",
       "    </tr>\n",
       "    <tr>\n",
       "      <th>2</th>\n",
       "      <td>47770eb9100c2d0c44946d9cf07ec65d</td>\n",
       "      <td>41ce2a54c0b03bf3443c3d931a367089</td>\n",
       "      <td>delivered</td>\n",
       "      <td>2018-08-08 08:38:49</td>\n",
       "      <td>2018-08-08 08:55:23</td>\n",
       "      <td>2018-08-08 13:50:00</td>\n",
       "      <td>2018-08-17 18:06:29</td>\n",
       "      <td>2018-09-04</td>\n",
       "      <td>3a653a41f6f9fc3d2a113cf8398680e8</td>\n",
       "      <td>75265</td>\n",
       "      <td>vianopolis</td>\n",
       "      <td>GO</td>\n",
       "    </tr>\n",
       "    <tr>\n",
       "      <th>3</th>\n",
       "      <td>949d5b44dbf5de918fe9c16f97b45f8a</td>\n",
       "      <td>f88197465ea7920adcdbec7375364d82</td>\n",
       "      <td>delivered</td>\n",
       "      <td>2017-11-18 19:28:06</td>\n",
       "      <td>2017-11-18 19:45:59</td>\n",
       "      <td>2017-11-22 13:39:59</td>\n",
       "      <td>2017-12-02 00:28:42</td>\n",
       "      <td>2017-12-15</td>\n",
       "      <td>7c142cf63193a1473d2e66489a9ae977</td>\n",
       "      <td>59296</td>\n",
       "      <td>sao goncalo do amarante</td>\n",
       "      <td>RN</td>\n",
       "    </tr>\n",
       "    <tr>\n",
       "      <th>4</th>\n",
       "      <td>ad21c59c0840e6cb83a9ceb5573f8159</td>\n",
       "      <td>8ab97904e6daea8866dbdbc4fb7aad2c</td>\n",
       "      <td>delivered</td>\n",
       "      <td>2018-02-13 21:18:39</td>\n",
       "      <td>2018-02-13 22:20:29</td>\n",
       "      <td>2018-02-14 19:46:34</td>\n",
       "      <td>2018-02-16 18:17:02</td>\n",
       "      <td>2018-02-26</td>\n",
       "      <td>72632f0f9dd73dfee390c9b22eb56dd6</td>\n",
       "      <td>9195</td>\n",
       "      <td>santo andre</td>\n",
       "      <td>SP</td>\n",
       "    </tr>\n",
       "  </tbody>\n",
       "</table>\n",
       "</div>"
      ],
      "text/plain": [
       "                           order_id                       customer_id  \\\n",
       "0  e481f51cbdc54678b7cc49136f2d6af7  9ef432eb6251297304e76186b10a928d   \n",
       "1  53cdb2fc8bc7dce0b6741e2150273451  b0830fb4747a6c6d20dea0b8c802d7ef   \n",
       "2  47770eb9100c2d0c44946d9cf07ec65d  41ce2a54c0b03bf3443c3d931a367089   \n",
       "3  949d5b44dbf5de918fe9c16f97b45f8a  f88197465ea7920adcdbec7375364d82   \n",
       "4  ad21c59c0840e6cb83a9ceb5573f8159  8ab97904e6daea8866dbdbc4fb7aad2c   \n",
       "\n",
       "  order_status order_purchase_timestamp   order_approved_at  \\\n",
       "0    delivered      2017-10-02 10:56:33 2017-10-02 11:07:15   \n",
       "1    delivered      2018-07-24 20:41:37 2018-07-26 03:24:27   \n",
       "2    delivered      2018-08-08 08:38:49 2018-08-08 08:55:23   \n",
       "3    delivered      2017-11-18 19:28:06 2017-11-18 19:45:59   \n",
       "4    delivered      2018-02-13 21:18:39 2018-02-13 22:20:29   \n",
       "\n",
       "  order_delivered_carrier_date order_delivered_customer_date  \\\n",
       "0          2017-10-04 19:55:00           2017-10-10 21:25:13   \n",
       "1          2018-07-26 14:31:00           2018-08-07 15:27:45   \n",
       "2          2018-08-08 13:50:00           2018-08-17 18:06:29   \n",
       "3          2017-11-22 13:39:59           2017-12-02 00:28:42   \n",
       "4          2018-02-14 19:46:34           2018-02-16 18:17:02   \n",
       "\n",
       "  order_estimated_delivery_date                customer_unique_id  \\\n",
       "0                    2017-10-18  7c396fd4830fd04220f754e42b4e5bff   \n",
       "1                    2018-08-13  af07308b275d755c9edb36a90c618231   \n",
       "2                    2018-09-04  3a653a41f6f9fc3d2a113cf8398680e8   \n",
       "3                    2017-12-15  7c142cf63193a1473d2e66489a9ae977   \n",
       "4                    2018-02-26  72632f0f9dd73dfee390c9b22eb56dd6   \n",
       "\n",
       "   customer_zip_code_prefix            customer_city customer_state  \n",
       "0                      3149                sao paulo             SP  \n",
       "1                     47813                barreiras             BA  \n",
       "2                     75265               vianopolis             GO  \n",
       "3                     59296  sao goncalo do amarante             RN  \n",
       "4                      9195              santo andre             SP  "
      ]
     },
     "execution_count": 69,
     "metadata": {},
     "output_type": "execute_result"
    }
   ],
   "source": [
    "customers_and_purchases.head()"
   ]
  },
  {
   "cell_type": "markdown",
   "id": "794d785a",
   "metadata": {
    "id": "794d785a"
   },
   "source": [
    "1. Посчитаем количесвто покупок для каждого из пользователей по месяцам\n",
    "2. Определим, сколько в каждом месяце недель\n",
    "3. Найдем среденее количество покупок в неделю для каждого пользователя по месяцам"
   ]
  },
  {
   "cell_type": "code",
   "execution_count": 70,
   "id": "fe2a65ca",
   "metadata": {
    "id": "fe2a65ca"
   },
   "outputs": [],
   "source": [
    "#добавим колонку с месяцем покупки\n",
    "customers_and_purchases['purchase_month'] = customers_and_purchases.order_purchase_timestamp \\\n",
    "    .apply(lambda x: x.strftime('%Y-%m-01'))"
   ]
  },
  {
   "cell_type": "code",
   "execution_count": 71,
   "id": "122213e2",
   "metadata": {
    "id": "122213e2"
   },
   "outputs": [],
   "source": [
    "customers_and_purchases['purchase_month'] = pd.to_datetime(customers_and_purchases['purchase_month'])"
   ]
  },
  {
   "cell_type": "code",
   "execution_count": 72,
   "id": "8ff37451",
   "metadata": {
    "id": "8ff37451"
   },
   "outputs": [],
   "source": [
    "# количесвто покупок пользователей за месяц\n",
    "purchases_by_month = customers_and_purchases.groupby(['customer_unique_id', 'purchase_month'], as_index=False) \\\n",
    "    .agg(total_by_month=('order_id', 'count'))"
   ]
  },
  {
   "cell_type": "code",
   "execution_count": 73,
   "id": "03cc9521",
   "metadata": {
    "id": "03cc9521"
   },
   "outputs": [],
   "source": [
    "#считаем количество дней в месяце\n",
    "purchases_by_month['days_in_month'] = purchases_by_month.purchase_month.dt.days_in_month"
   ]
  },
  {
   "cell_type": "code",
   "execution_count": 74,
   "id": "795dda8e",
   "metadata": {
    "id": "795dda8e"
   },
   "outputs": [],
   "source": [
    "#считаем количество недель в месяце\n",
    "purchases_by_month['weeks_in_month'] = purchases_by_month.days_in_month / 7"
   ]
  },
  {
   "cell_type": "code",
   "execution_count": 75,
   "id": "746908ba",
   "metadata": {
    "id": "746908ba",
    "outputId": "c655d024-2bbf-4c2d-dc56-63caa69331b4"
   },
   "outputs": [
    {
     "data": {
      "text/html": [
       "<div>\n",
       "<style scoped>\n",
       "    .dataframe tbody tr th:only-of-type {\n",
       "        vertical-align: middle;\n",
       "    }\n",
       "\n",
       "    .dataframe tbody tr th {\n",
       "        vertical-align: top;\n",
       "    }\n",
       "\n",
       "    .dataframe thead th {\n",
       "        text-align: right;\n",
       "    }\n",
       "</style>\n",
       "<table border=\"1\" class=\"dataframe\">\n",
       "  <thead>\n",
       "    <tr style=\"text-align: right;\">\n",
       "      <th></th>\n",
       "      <th>customer_unique_id</th>\n",
       "      <th>purchase_month</th>\n",
       "      <th>total_by_month</th>\n",
       "      <th>days_in_month</th>\n",
       "      <th>weeks_in_month</th>\n",
       "      <th>mean_by_week</th>\n",
       "    </tr>\n",
       "  </thead>\n",
       "  <tbody>\n",
       "    <tr>\n",
       "      <th>0</th>\n",
       "      <td>0000366f3b9a7992bf8c76cfdf3221e2</td>\n",
       "      <td>2018-05-01</td>\n",
       "      <td>1</td>\n",
       "      <td>31</td>\n",
       "      <td>4.428571</td>\n",
       "      <td>0.225806</td>\n",
       "    </tr>\n",
       "    <tr>\n",
       "      <th>1</th>\n",
       "      <td>0000b849f77a49e4a4ce2b2a4ca5be3f</td>\n",
       "      <td>2018-05-01</td>\n",
       "      <td>1</td>\n",
       "      <td>31</td>\n",
       "      <td>4.428571</td>\n",
       "      <td>0.225806</td>\n",
       "    </tr>\n",
       "    <tr>\n",
       "      <th>2</th>\n",
       "      <td>0000f46a3911fa3c0805444483337064</td>\n",
       "      <td>2017-03-01</td>\n",
       "      <td>1</td>\n",
       "      <td>31</td>\n",
       "      <td>4.428571</td>\n",
       "      <td>0.225806</td>\n",
       "    </tr>\n",
       "    <tr>\n",
       "      <th>3</th>\n",
       "      <td>0000f6ccb0745a6a4b88665a16c9f078</td>\n",
       "      <td>2017-10-01</td>\n",
       "      <td>1</td>\n",
       "      <td>31</td>\n",
       "      <td>4.428571</td>\n",
       "      <td>0.225806</td>\n",
       "    </tr>\n",
       "    <tr>\n",
       "      <th>4</th>\n",
       "      <td>0004aac84e0df4da2b147fca70cf8255</td>\n",
       "      <td>2017-11-01</td>\n",
       "      <td>1</td>\n",
       "      <td>30</td>\n",
       "      <td>4.285714</td>\n",
       "      <td>0.233333</td>\n",
       "    </tr>\n",
       "  </tbody>\n",
       "</table>\n",
       "</div>"
      ],
      "text/plain": [
       "                 customer_unique_id purchase_month  total_by_month  \\\n",
       "0  0000366f3b9a7992bf8c76cfdf3221e2     2018-05-01               1   \n",
       "1  0000b849f77a49e4a4ce2b2a4ca5be3f     2018-05-01               1   \n",
       "2  0000f46a3911fa3c0805444483337064     2017-03-01               1   \n",
       "3  0000f6ccb0745a6a4b88665a16c9f078     2017-10-01               1   \n",
       "4  0004aac84e0df4da2b147fca70cf8255     2017-11-01               1   \n",
       "\n",
       "   days_in_month  weeks_in_month  mean_by_week  \n",
       "0             31        4.428571      0.225806  \n",
       "1             31        4.428571      0.225806  \n",
       "2             31        4.428571      0.225806  \n",
       "3             31        4.428571      0.225806  \n",
       "4             30        4.285714      0.233333  "
      ]
     },
     "execution_count": 75,
     "metadata": {},
     "output_type": "execute_result"
    }
   ],
   "source": [
    "#считаем среднее количесвто покупок в неделю по месяцам для каждого пользователя\n",
    "purchases_by_month['mean_by_week'] = purchases_by_month.total_by_month / purchases_by_month.weeks_in_month\n",
    "purchases_by_month.head()"
   ]
  },
  {
   "cell_type": "code",
   "execution_count": 76,
   "id": "691481df",
   "metadata": {
    "id": "691481df",
    "outputId": "e02ebcd8-299f-40bf-fb0e-09733aadba7c"
   },
   "outputs": [
    {
     "data": {
      "text/html": [
       "<div>\n",
       "<style scoped>\n",
       "    .dataframe tbody tr th:only-of-type {\n",
       "        vertical-align: middle;\n",
       "    }\n",
       "\n",
       "    .dataframe tbody tr th {\n",
       "        vertical-align: top;\n",
       "    }\n",
       "\n",
       "    .dataframe thead th {\n",
       "        text-align: right;\n",
       "    }\n",
       "</style>\n",
       "<table border=\"1\" class=\"dataframe\">\n",
       "  <thead>\n",
       "    <tr style=\"text-align: right;\">\n",
       "      <th></th>\n",
       "      <th>customer_unique_id</th>\n",
       "      <th>purchase_month</th>\n",
       "      <th>mean_by_week</th>\n",
       "    </tr>\n",
       "  </thead>\n",
       "  <tbody>\n",
       "    <tr>\n",
       "      <th>0</th>\n",
       "      <td>0000366f3b9a7992bf8c76cfdf3221e2</td>\n",
       "      <td>2018-05-01</td>\n",
       "      <td>0.225806</td>\n",
       "    </tr>\n",
       "    <tr>\n",
       "      <th>1</th>\n",
       "      <td>0000b849f77a49e4a4ce2b2a4ca5be3f</td>\n",
       "      <td>2018-05-01</td>\n",
       "      <td>0.225806</td>\n",
       "    </tr>\n",
       "    <tr>\n",
       "      <th>2</th>\n",
       "      <td>0000f46a3911fa3c0805444483337064</td>\n",
       "      <td>2017-03-01</td>\n",
       "      <td>0.225806</td>\n",
       "    </tr>\n",
       "    <tr>\n",
       "      <th>3</th>\n",
       "      <td>0000f6ccb0745a6a4b88665a16c9f078</td>\n",
       "      <td>2017-10-01</td>\n",
       "      <td>0.225806</td>\n",
       "    </tr>\n",
       "    <tr>\n",
       "      <th>4</th>\n",
       "      <td>0004aac84e0df4da2b147fca70cf8255</td>\n",
       "      <td>2017-11-01</td>\n",
       "      <td>0.233333</td>\n",
       "    </tr>\n",
       "  </tbody>\n",
       "</table>\n",
       "</div>"
      ],
      "text/plain": [
       "                 customer_unique_id purchase_month  mean_by_week\n",
       "0  0000366f3b9a7992bf8c76cfdf3221e2     2018-05-01      0.225806\n",
       "1  0000b849f77a49e4a4ce2b2a4ca5be3f     2018-05-01      0.225806\n",
       "2  0000f46a3911fa3c0805444483337064     2017-03-01      0.225806\n",
       "3  0000f6ccb0745a6a4b88665a16c9f078     2017-10-01      0.225806\n",
       "4  0004aac84e0df4da2b147fca70cf8255     2017-11-01      0.233333"
      ]
     },
     "execution_count": 76,
     "metadata": {},
     "output_type": "execute_result"
    }
   ],
   "source": [
    "mean_by_month_by_week = purchases_by_month[['customer_unique_id', 'purchase_month', 'mean_by_week']]\n",
    "mean_by_month_by_week.head()"
   ]
  },
  {
   "cell_type": "code",
   "execution_count": 77,
   "id": "87ad2c98",
   "metadata": {
    "id": "87ad2c98",
    "outputId": "2200de17-3bb1-488a-e8a4-962b4f2dcd4d"
   },
   "outputs": [
    {
     "data": {
      "text/plain": [
       "count    97930.000000\n",
       "mean         0.233404\n",
       "std          0.029634\n",
       "min          0.225806\n",
       "25%          0.225806\n",
       "50%          0.225806\n",
       "75%          0.233333\n",
       "max          1.354839\n",
       "Name: mean_by_week, dtype: float64"
      ]
     },
     "execution_count": 77,
     "metadata": {},
     "output_type": "execute_result"
    }
   ],
   "source": [
    "mean_by_month_by_week.mean_by_week.describe()"
   ]
  },
  {
   "cell_type": "markdown",
   "id": "b250c1ff",
   "metadata": {
    "id": "b250c1ff"
   },
   "source": [
    "#### Вывод:\n",
    "\n",
    "Посчитали сколько у каждого из пользователей в среднем покупок в неделю по месяцам.\n",
    "В среденм пользователи по месяцам совершают 0.233404 покупки в неделю, что примерно соответствует 1 покупке в месяц."
   ]
  },
  {
   "cell_type": "markdown",
   "id": "30d524d6",
   "metadata": {
    "id": "30d524d6"
   },
   "source": [
    "### 5. Используя pandas, проведи когортный анализ пользователей. В период с января по декабрь выяви когорту с самым высоким retention на 3й месяц."
   ]
  },
  {
   "cell_type": "code",
   "execution_count": 78,
   "id": "fdc6ce61",
   "metadata": {
    "id": "fdc6ce61",
    "outputId": "5e542efe-8f7a-42f2-a842-4094d8b323e5"
   },
   "outputs": [
    {
     "data": {
      "text/html": [
       "<div>\n",
       "<style scoped>\n",
       "    .dataframe tbody tr th:only-of-type {\n",
       "        vertical-align: middle;\n",
       "    }\n",
       "\n",
       "    .dataframe tbody tr th {\n",
       "        vertical-align: top;\n",
       "    }\n",
       "\n",
       "    .dataframe thead th {\n",
       "        text-align: right;\n",
       "    }\n",
       "</style>\n",
       "<table border=\"1\" class=\"dataframe\">\n",
       "  <thead>\n",
       "    <tr style=\"text-align: right;\">\n",
       "      <th></th>\n",
       "      <th>order_id</th>\n",
       "      <th>customer_id</th>\n",
       "      <th>order_status</th>\n",
       "      <th>order_purchase_timestamp</th>\n",
       "      <th>order_approved_at</th>\n",
       "      <th>order_delivered_carrier_date</th>\n",
       "      <th>order_delivered_customer_date</th>\n",
       "      <th>order_estimated_delivery_date</th>\n",
       "      <th>customer_unique_id</th>\n",
       "      <th>customer_zip_code_prefix</th>\n",
       "      <th>customer_city</th>\n",
       "      <th>customer_state</th>\n",
       "      <th>purchase_month</th>\n",
       "    </tr>\n",
       "  </thead>\n",
       "  <tbody>\n",
       "    <tr>\n",
       "      <th>0</th>\n",
       "      <td>e481f51cbdc54678b7cc49136f2d6af7</td>\n",
       "      <td>9ef432eb6251297304e76186b10a928d</td>\n",
       "      <td>delivered</td>\n",
       "      <td>2017-10-02 10:56:33</td>\n",
       "      <td>2017-10-02 11:07:15</td>\n",
       "      <td>2017-10-04 19:55:00</td>\n",
       "      <td>2017-10-10 21:25:13</td>\n",
       "      <td>2017-10-18</td>\n",
       "      <td>7c396fd4830fd04220f754e42b4e5bff</td>\n",
       "      <td>3149</td>\n",
       "      <td>sao paulo</td>\n",
       "      <td>SP</td>\n",
       "      <td>2017-10-01</td>\n",
       "    </tr>\n",
       "    <tr>\n",
       "      <th>1</th>\n",
       "      <td>53cdb2fc8bc7dce0b6741e2150273451</td>\n",
       "      <td>b0830fb4747a6c6d20dea0b8c802d7ef</td>\n",
       "      <td>delivered</td>\n",
       "      <td>2018-07-24 20:41:37</td>\n",
       "      <td>2018-07-26 03:24:27</td>\n",
       "      <td>2018-07-26 14:31:00</td>\n",
       "      <td>2018-08-07 15:27:45</td>\n",
       "      <td>2018-08-13</td>\n",
       "      <td>af07308b275d755c9edb36a90c618231</td>\n",
       "      <td>47813</td>\n",
       "      <td>barreiras</td>\n",
       "      <td>BA</td>\n",
       "      <td>2018-07-01</td>\n",
       "    </tr>\n",
       "    <tr>\n",
       "      <th>2</th>\n",
       "      <td>47770eb9100c2d0c44946d9cf07ec65d</td>\n",
       "      <td>41ce2a54c0b03bf3443c3d931a367089</td>\n",
       "      <td>delivered</td>\n",
       "      <td>2018-08-08 08:38:49</td>\n",
       "      <td>2018-08-08 08:55:23</td>\n",
       "      <td>2018-08-08 13:50:00</td>\n",
       "      <td>2018-08-17 18:06:29</td>\n",
       "      <td>2018-09-04</td>\n",
       "      <td>3a653a41f6f9fc3d2a113cf8398680e8</td>\n",
       "      <td>75265</td>\n",
       "      <td>vianopolis</td>\n",
       "      <td>GO</td>\n",
       "      <td>2018-08-01</td>\n",
       "    </tr>\n",
       "    <tr>\n",
       "      <th>3</th>\n",
       "      <td>949d5b44dbf5de918fe9c16f97b45f8a</td>\n",
       "      <td>f88197465ea7920adcdbec7375364d82</td>\n",
       "      <td>delivered</td>\n",
       "      <td>2017-11-18 19:28:06</td>\n",
       "      <td>2017-11-18 19:45:59</td>\n",
       "      <td>2017-11-22 13:39:59</td>\n",
       "      <td>2017-12-02 00:28:42</td>\n",
       "      <td>2017-12-15</td>\n",
       "      <td>7c142cf63193a1473d2e66489a9ae977</td>\n",
       "      <td>59296</td>\n",
       "      <td>sao goncalo do amarante</td>\n",
       "      <td>RN</td>\n",
       "      <td>2017-11-01</td>\n",
       "    </tr>\n",
       "    <tr>\n",
       "      <th>4</th>\n",
       "      <td>ad21c59c0840e6cb83a9ceb5573f8159</td>\n",
       "      <td>8ab97904e6daea8866dbdbc4fb7aad2c</td>\n",
       "      <td>delivered</td>\n",
       "      <td>2018-02-13 21:18:39</td>\n",
       "      <td>2018-02-13 22:20:29</td>\n",
       "      <td>2018-02-14 19:46:34</td>\n",
       "      <td>2018-02-16 18:17:02</td>\n",
       "      <td>2018-02-26</td>\n",
       "      <td>72632f0f9dd73dfee390c9b22eb56dd6</td>\n",
       "      <td>9195</td>\n",
       "      <td>santo andre</td>\n",
       "      <td>SP</td>\n",
       "      <td>2018-02-01</td>\n",
       "    </tr>\n",
       "  </tbody>\n",
       "</table>\n",
       "</div>"
      ],
      "text/plain": [
       "                           order_id                       customer_id  \\\n",
       "0  e481f51cbdc54678b7cc49136f2d6af7  9ef432eb6251297304e76186b10a928d   \n",
       "1  53cdb2fc8bc7dce0b6741e2150273451  b0830fb4747a6c6d20dea0b8c802d7ef   \n",
       "2  47770eb9100c2d0c44946d9cf07ec65d  41ce2a54c0b03bf3443c3d931a367089   \n",
       "3  949d5b44dbf5de918fe9c16f97b45f8a  f88197465ea7920adcdbec7375364d82   \n",
       "4  ad21c59c0840e6cb83a9ceb5573f8159  8ab97904e6daea8866dbdbc4fb7aad2c   \n",
       "\n",
       "  order_status order_purchase_timestamp   order_approved_at  \\\n",
       "0    delivered      2017-10-02 10:56:33 2017-10-02 11:07:15   \n",
       "1    delivered      2018-07-24 20:41:37 2018-07-26 03:24:27   \n",
       "2    delivered      2018-08-08 08:38:49 2018-08-08 08:55:23   \n",
       "3    delivered      2017-11-18 19:28:06 2017-11-18 19:45:59   \n",
       "4    delivered      2018-02-13 21:18:39 2018-02-13 22:20:29   \n",
       "\n",
       "  order_delivered_carrier_date order_delivered_customer_date  \\\n",
       "0          2017-10-04 19:55:00           2017-10-10 21:25:13   \n",
       "1          2018-07-26 14:31:00           2018-08-07 15:27:45   \n",
       "2          2018-08-08 13:50:00           2018-08-17 18:06:29   \n",
       "3          2017-11-22 13:39:59           2017-12-02 00:28:42   \n",
       "4          2018-02-14 19:46:34           2018-02-16 18:17:02   \n",
       "\n",
       "  order_estimated_delivery_date                customer_unique_id  \\\n",
       "0                    2017-10-18  7c396fd4830fd04220f754e42b4e5bff   \n",
       "1                    2018-08-13  af07308b275d755c9edb36a90c618231   \n",
       "2                    2018-09-04  3a653a41f6f9fc3d2a113cf8398680e8   \n",
       "3                    2017-12-15  7c142cf63193a1473d2e66489a9ae977   \n",
       "4                    2018-02-26  72632f0f9dd73dfee390c9b22eb56dd6   \n",
       "\n",
       "   customer_zip_code_prefix            customer_city customer_state  \\\n",
       "0                      3149                sao paulo             SP   \n",
       "1                     47813                barreiras             BA   \n",
       "2                     75265               vianopolis             GO   \n",
       "3                     59296  sao goncalo do amarante             RN   \n",
       "4                      9195              santo andre             SP   \n",
       "\n",
       "  purchase_month  \n",
       "0     2017-10-01  \n",
       "1     2018-07-01  \n",
       "2     2018-08-01  \n",
       "3     2017-11-01  \n",
       "4     2018-02-01  "
      ]
     },
     "execution_count": 78,
     "metadata": {},
     "output_type": "execute_result"
    }
   ],
   "source": [
    "customers_and_purchases.head()"
   ]
  },
  {
   "cell_type": "markdown",
   "id": "61046d28",
   "metadata": {
    "id": "61046d28"
   },
   "source": [
    "Создадим новый датафрейм содерждащий уникальные идентификаторы пользователей и даты их покупок."
   ]
  },
  {
   "cell_type": "code",
   "execution_count": 79,
   "id": "22a3699a",
   "metadata": {
    "id": "22a3699a",
    "outputId": "9c728c59-3dc7-4515-c281-f368aff3974a"
   },
   "outputs": [
    {
     "data": {
      "text/html": [
       "<div>\n",
       "<style scoped>\n",
       "    .dataframe tbody tr th:only-of-type {\n",
       "        vertical-align: middle;\n",
       "    }\n",
       "\n",
       "    .dataframe tbody tr th {\n",
       "        vertical-align: top;\n",
       "    }\n",
       "\n",
       "    .dataframe thead th {\n",
       "        text-align: right;\n",
       "    }\n",
       "</style>\n",
       "<table border=\"1\" class=\"dataframe\">\n",
       "  <thead>\n",
       "    <tr style=\"text-align: right;\">\n",
       "      <th></th>\n",
       "      <th>customer_unique_id</th>\n",
       "      <th>order_purchase_timestamp</th>\n",
       "    </tr>\n",
       "  </thead>\n",
       "  <tbody>\n",
       "    <tr>\n",
       "      <th>0</th>\n",
       "      <td>7c396fd4830fd04220f754e42b4e5bff</td>\n",
       "      <td>2017-10-02 10:56:33</td>\n",
       "    </tr>\n",
       "    <tr>\n",
       "      <th>1</th>\n",
       "      <td>af07308b275d755c9edb36a90c618231</td>\n",
       "      <td>2018-07-24 20:41:37</td>\n",
       "    </tr>\n",
       "    <tr>\n",
       "      <th>2</th>\n",
       "      <td>3a653a41f6f9fc3d2a113cf8398680e8</td>\n",
       "      <td>2018-08-08 08:38:49</td>\n",
       "    </tr>\n",
       "    <tr>\n",
       "      <th>3</th>\n",
       "      <td>7c142cf63193a1473d2e66489a9ae977</td>\n",
       "      <td>2017-11-18 19:28:06</td>\n",
       "    </tr>\n",
       "    <tr>\n",
       "      <th>4</th>\n",
       "      <td>72632f0f9dd73dfee390c9b22eb56dd6</td>\n",
       "      <td>2018-02-13 21:18:39</td>\n",
       "    </tr>\n",
       "  </tbody>\n",
       "</table>\n",
       "</div>"
      ],
      "text/plain": [
       "                 customer_unique_id order_purchase_timestamp\n",
       "0  7c396fd4830fd04220f754e42b4e5bff      2017-10-02 10:56:33\n",
       "1  af07308b275d755c9edb36a90c618231      2018-07-24 20:41:37\n",
       "2  3a653a41f6f9fc3d2a113cf8398680e8      2018-08-08 08:38:49\n",
       "3  7c142cf63193a1473d2e66489a9ae977      2017-11-18 19:28:06\n",
       "4  72632f0f9dd73dfee390c9b22eb56dd6      2018-02-13 21:18:39"
      ]
     },
     "execution_count": 79,
     "metadata": {},
     "output_type": "execute_result"
    }
   ],
   "source": [
    "purchases_cohort = customers_and_purchases[['customer_unique_id', 'order_purchase_timestamp']].copy()\n",
    "purchases_cohort.head()"
   ]
  },
  {
   "cell_type": "code",
   "execution_count": 80,
   "id": "6289292a",
   "metadata": {
    "id": "6289292a",
    "outputId": "11650352-381a-4600-a8bb-874a2812cd5e"
   },
   "outputs": [
    {
     "data": {
      "text/plain": [
       "(99295, 2)"
      ]
     },
     "execution_count": 80,
     "metadata": {},
     "output_type": "execute_result"
    }
   ],
   "source": [
    "purchases_cohort.shape"
   ]
  },
  {
   "cell_type": "code",
   "execution_count": 81,
   "id": "0f8cfe6f",
   "metadata": {
    "id": "0f8cfe6f"
   },
   "outputs": [],
   "source": [
    "# в столбце с датой и временем покупки оставим только дату\n",
    "purchases_cohort['order_purchase_timestamp'] = purchases_cohort.order_purchase_timestamp.dt.date"
   ]
  },
  {
   "cell_type": "code",
   "execution_count": 82,
   "id": "85a4fc7e",
   "metadata": {
    "id": "85a4fc7e"
   },
   "outputs": [],
   "source": [
    "purchases_cohort.rename(columns={'order_purchase_timestamp': 'purchase_date'}, inplace=True)"
   ]
  },
  {
   "cell_type": "code",
   "execution_count": 83,
   "id": "0f6e2a6e",
   "metadata": {
    "id": "0f6e2a6e"
   },
   "outputs": [],
   "source": [
    "#найдем месяц, в который была совершена покупка\n",
    "purchases_cohort['purchase_month'] = purchases_cohort['purchase_date'].to_numpy().astype('datetime64[M]')"
   ]
  },
  {
   "cell_type": "code",
   "execution_count": 84,
   "id": "96bb01e4",
   "metadata": {
    "id": "96bb01e4"
   },
   "outputs": [],
   "source": [
    "# найдем месяц, в который пользователи совершили свою первую покупку\n",
    "first_customer_purchase = purchases_cohort.groupby('customer_unique_id', as_index=False)['purchase_month'] \\\n",
    "                                                                                        .min()"
   ]
  },
  {
   "cell_type": "code",
   "execution_count": 85,
   "id": "420028f3",
   "metadata": {
    "id": "420028f3",
    "outputId": "6f5eb87b-10cc-4146-dd2d-e3483f79f07e"
   },
   "outputs": [
    {
     "data": {
      "text/html": [
       "<div>\n",
       "<style scoped>\n",
       "    .dataframe tbody tr th:only-of-type {\n",
       "        vertical-align: middle;\n",
       "    }\n",
       "\n",
       "    .dataframe tbody tr th {\n",
       "        vertical-align: top;\n",
       "    }\n",
       "\n",
       "    .dataframe thead th {\n",
       "        text-align: right;\n",
       "    }\n",
       "</style>\n",
       "<table border=\"1\" class=\"dataframe\">\n",
       "  <thead>\n",
       "    <tr style=\"text-align: right;\">\n",
       "      <th></th>\n",
       "      <th>customer_unique_id</th>\n",
       "      <th>cohort_month</th>\n",
       "    </tr>\n",
       "  </thead>\n",
       "  <tbody>\n",
       "    <tr>\n",
       "      <th>0</th>\n",
       "      <td>0000366f3b9a7992bf8c76cfdf3221e2</td>\n",
       "      <td>2018-05-01</td>\n",
       "    </tr>\n",
       "    <tr>\n",
       "      <th>1</th>\n",
       "      <td>0000b849f77a49e4a4ce2b2a4ca5be3f</td>\n",
       "      <td>2018-05-01</td>\n",
       "    </tr>\n",
       "    <tr>\n",
       "      <th>2</th>\n",
       "      <td>0000f46a3911fa3c0805444483337064</td>\n",
       "      <td>2017-03-01</td>\n",
       "    </tr>\n",
       "    <tr>\n",
       "      <th>3</th>\n",
       "      <td>0000f6ccb0745a6a4b88665a16c9f078</td>\n",
       "      <td>2017-10-01</td>\n",
       "    </tr>\n",
       "    <tr>\n",
       "      <th>4</th>\n",
       "      <td>0004aac84e0df4da2b147fca70cf8255</td>\n",
       "      <td>2017-11-01</td>\n",
       "    </tr>\n",
       "  </tbody>\n",
       "</table>\n",
       "</div>"
      ],
      "text/plain": [
       "                 customer_unique_id cohort_month\n",
       "0  0000366f3b9a7992bf8c76cfdf3221e2   2018-05-01\n",
       "1  0000b849f77a49e4a4ce2b2a4ca5be3f   2018-05-01\n",
       "2  0000f46a3911fa3c0805444483337064   2017-03-01\n",
       "3  0000f6ccb0745a6a4b88665a16c9f078   2017-10-01\n",
       "4  0004aac84e0df4da2b147fca70cf8255   2017-11-01"
      ]
     },
     "execution_count": 85,
     "metadata": {},
     "output_type": "execute_result"
    }
   ],
   "source": [
    "first_customer_purchase.rename(columns={'purchase_month': 'cohort_month'}, inplace=True)\n",
    "first_customer_purchase.head()"
   ]
  },
  {
   "cell_type": "code",
   "execution_count": 86,
   "id": "484e0454",
   "metadata": {
    "id": "484e0454",
    "outputId": "96d21033-7442-489d-892f-56aa8ef7fb44"
   },
   "outputs": [
    {
     "data": {
      "text/html": [
       "<div>\n",
       "<style scoped>\n",
       "    .dataframe tbody tr th:only-of-type {\n",
       "        vertical-align: middle;\n",
       "    }\n",
       "\n",
       "    .dataframe tbody tr th {\n",
       "        vertical-align: top;\n",
       "    }\n",
       "\n",
       "    .dataframe thead th {\n",
       "        text-align: right;\n",
       "    }\n",
       "</style>\n",
       "<table border=\"1\" class=\"dataframe\">\n",
       "  <thead>\n",
       "    <tr style=\"text-align: right;\">\n",
       "      <th></th>\n",
       "      <th>customer_unique_id</th>\n",
       "      <th>purchase_date</th>\n",
       "      <th>purchase_month</th>\n",
       "      <th>cohort_month</th>\n",
       "    </tr>\n",
       "  </thead>\n",
       "  <tbody>\n",
       "    <tr>\n",
       "      <th>0</th>\n",
       "      <td>7c396fd4830fd04220f754e42b4e5bff</td>\n",
       "      <td>2017-10-02</td>\n",
       "      <td>2017-10-01</td>\n",
       "      <td>2017-09-01</td>\n",
       "    </tr>\n",
       "    <tr>\n",
       "      <th>1</th>\n",
       "      <td>7c396fd4830fd04220f754e42b4e5bff</td>\n",
       "      <td>2017-09-04</td>\n",
       "      <td>2017-09-01</td>\n",
       "      <td>2017-09-01</td>\n",
       "    </tr>\n",
       "    <tr>\n",
       "      <th>2</th>\n",
       "      <td>af07308b275d755c9edb36a90c618231</td>\n",
       "      <td>2018-07-24</td>\n",
       "      <td>2018-07-01</td>\n",
       "      <td>2018-07-01</td>\n",
       "    </tr>\n",
       "    <tr>\n",
       "      <th>3</th>\n",
       "      <td>3a653a41f6f9fc3d2a113cf8398680e8</td>\n",
       "      <td>2018-08-08</td>\n",
       "      <td>2018-08-01</td>\n",
       "      <td>2018-08-01</td>\n",
       "    </tr>\n",
       "    <tr>\n",
       "      <th>4</th>\n",
       "      <td>7c142cf63193a1473d2e66489a9ae977</td>\n",
       "      <td>2017-11-18</td>\n",
       "      <td>2017-11-01</td>\n",
       "      <td>2017-11-01</td>\n",
       "    </tr>\n",
       "  </tbody>\n",
       "</table>\n",
       "</div>"
      ],
      "text/plain": [
       "                 customer_unique_id purchase_date purchase_month cohort_month\n",
       "0  7c396fd4830fd04220f754e42b4e5bff    2017-10-02     2017-10-01   2017-09-01\n",
       "1  7c396fd4830fd04220f754e42b4e5bff    2017-09-04     2017-09-01   2017-09-01\n",
       "2  af07308b275d755c9edb36a90c618231    2018-07-24     2018-07-01   2018-07-01\n",
       "3  3a653a41f6f9fc3d2a113cf8398680e8    2018-08-08     2018-08-01   2018-08-01\n",
       "4  7c142cf63193a1473d2e66489a9ae977    2017-11-18     2017-11-01   2017-11-01"
      ]
     },
     "execution_count": 86,
     "metadata": {},
     "output_type": "execute_result"
    }
   ],
   "source": [
    "purchases_cohort = purchases_cohort.merge(first_customer_purchase, on='customer_unique_id')\n",
    "purchases_cohort.head()"
   ]
  },
  {
   "cell_type": "code",
   "execution_count": 87,
   "id": "7e83465f",
   "metadata": {
    "id": "7e83465f",
    "outputId": "ad3de3ce-f0fe-46b3-deca-63c4de315543"
   },
   "outputs": [
    {
     "data": {
      "text/plain": [
       "946"
      ]
     },
     "execution_count": 87,
     "metadata": {},
     "output_type": "execute_result"
    }
   ],
   "source": [
    "purchases_cohort.duplicated().sum()"
   ]
  },
  {
   "cell_type": "markdown",
   "id": "899902a3",
   "metadata": {
    "id": "899902a3"
   },
   "source": [
    "Получившийся датафрейм содержит дубликаты так, как пользователи совершали несколько покупок в месяц. Удалим дубликаты."
   ]
  },
  {
   "cell_type": "code",
   "execution_count": 88,
   "id": "f148daae",
   "metadata": {
    "id": "f148daae"
   },
   "outputs": [],
   "source": [
    "#Удалим дубликаты\n",
    "purchases_cohort.drop_duplicates(keep='first', inplace=True)"
   ]
  },
  {
   "cell_type": "code",
   "execution_count": 89,
   "id": "1993a665",
   "metadata": {
    "id": "1993a665"
   },
   "outputs": [],
   "source": [
    "#найдем номер месяца в который были совершены последующие покупки\n",
    "purchases_cohort['cohort_index'] = ((purchases_cohort.purchase_month - purchases_cohort.cohort_month) / \\\n",
    "                                    np.timedelta64(30, 'D')) \\\n",
    "                                    .round() \\\n",
    "                                    .astype('int')"
   ]
  },
  {
   "cell_type": "code",
   "execution_count": 90,
   "id": "76c5fd08",
   "metadata": {
    "id": "76c5fd08",
    "outputId": "eb518651-e6dd-4634-a808-40f87c9c22eb"
   },
   "outputs": [
    {
     "data": {
      "text/html": [
       "<div>\n",
       "<style scoped>\n",
       "    .dataframe tbody tr th:only-of-type {\n",
       "        vertical-align: middle;\n",
       "    }\n",
       "\n",
       "    .dataframe tbody tr th {\n",
       "        vertical-align: top;\n",
       "    }\n",
       "\n",
       "    .dataframe thead th {\n",
       "        text-align: right;\n",
       "    }\n",
       "</style>\n",
       "<table border=\"1\" class=\"dataframe\">\n",
       "  <thead>\n",
       "    <tr style=\"text-align: right;\">\n",
       "      <th></th>\n",
       "      <th>cohort_month</th>\n",
       "      <th>cohort_index</th>\n",
       "      <th>customers_number</th>\n",
       "    </tr>\n",
       "  </thead>\n",
       "  <tbody>\n",
       "    <tr>\n",
       "      <th>0</th>\n",
       "      <td>2016-09-01</td>\n",
       "      <td>0</td>\n",
       "      <td>4</td>\n",
       "    </tr>\n",
       "    <tr>\n",
       "      <th>8</th>\n",
       "      <td>2016-10-01</td>\n",
       "      <td>19</td>\n",
       "      <td>2</td>\n",
       "    </tr>\n",
       "    <tr>\n",
       "      <th>7</th>\n",
       "      <td>2016-10-01</td>\n",
       "      <td>17</td>\n",
       "      <td>1</td>\n",
       "    </tr>\n",
       "    <tr>\n",
       "      <th>6</th>\n",
       "      <td>2016-10-01</td>\n",
       "      <td>15</td>\n",
       "      <td>1</td>\n",
       "    </tr>\n",
       "    <tr>\n",
       "      <th>5</th>\n",
       "      <td>2016-10-01</td>\n",
       "      <td>13</td>\n",
       "      <td>1</td>\n",
       "    </tr>\n",
       "  </tbody>\n",
       "</table>\n",
       "</div>"
      ],
      "text/plain": [
       "  cohort_month  cohort_index  customers_number\n",
       "0   2016-09-01             0                 4\n",
       "8   2016-10-01            19                 2\n",
       "7   2016-10-01            17                 1\n",
       "6   2016-10-01            15                 1\n",
       "5   2016-10-01            13                 1"
      ]
     },
     "execution_count": 90,
     "metadata": {},
     "output_type": "execute_result"
    }
   ],
   "source": [
    "cohort_table = purchases_cohort.groupby(['cohort_month', 'cohort_index'], as_index=False) \\\n",
    "    .agg({'customer_unique_id': 'count'}) \\\n",
    "    .rename(columns={'customer_unique_id': 'customers_number'}) \\\n",
    "    .sort_values('cohort_month')\n",
    "cohort_table.head()"
   ]
  },
  {
   "cell_type": "code",
   "execution_count": 91,
   "id": "acb9be45",
   "metadata": {
    "id": "acb9be45"
   },
   "outputs": [],
   "source": [
    "cohort_table['cohort_month'] = cohort_table['cohort_month'].apply(lambda x: x.strftime('%Y-%m'))"
   ]
  },
  {
   "cell_type": "code",
   "execution_count": 92,
   "id": "d7a0f09e",
   "metadata": {
    "id": "d7a0f09e"
   },
   "outputs": [],
   "source": [
    "# строим сводную таблицу и считаем retention для каждой когорты\n",
    "cohort_table_pivot = cohort_table.pivot(index='cohort_month',columns='cohort_index', values='customers_number')\n",
    "cohort_table_pivot = cohort_table_pivot.divide(cohort_table_pivot.iloc[:,0], axis=0) \\\n",
    "                    .round(4)"
   ]
  },
  {
   "cell_type": "code",
   "execution_count": 93,
   "id": "1282a443",
   "metadata": {
    "id": "1282a443",
    "outputId": "8a6ac73d-a9da-4ea9-b3a5-683f748377b1"
   },
   "outputs": [
    {
     "data": {
      "image/png": "[encoded data removed]",
      "text/plain": [
       "<Figure size 2100x1000 with 2 Axes>"
      ]
     },
     "metadata": {},
     "output_type": "display_data"
    }
   ],
   "source": [
    "fig, ax = plt.subplots(figsize=(21,10))\n",
    "fmt = lambda x,pos:'{:.0%}'.format(x)\n",
    "sns.heatmap(cohort_table_pivot, vmin=0, vmax=1, annot=True,\n",
    "            cmap=\"Blues\", fmt=\".2%\", cbar_kws={'format': FuncFormatter(fmt)})\n",
    "ax.set_title('Retention Rate\\n')\n",
    "ax.set_xlabel('\\ncohort index')\n",
    "ax.set_ylabel('cohort month\\n')\n",
    "sns.despine()"
   ]
  },
  {
   "cell_type": "markdown",
   "id": "3550fa1c",
   "metadata": {
    "id": "3550fa1c"
   },
   "source": [
    "#### Вывод:\n",
    "Самый высокий Retention Rate за 3 месяц у когорты '2017-03' - 0.42%."
   ]
  },
  {
   "cell_type": "markdown",
   "id": "9b4ee9a6",
   "metadata": {
    "id": "9b4ee9a6"
   },
   "source": [
    "### 6. Используя python, построй RFM-сегментацию пользователей, чтобы качественно оценить свою аудиторию."
   ]
  },
  {
   "cell_type": "markdown",
   "id": "3fab0c2e",
   "metadata": {
    "id": "3fab0c2e"
   },
   "source": [
    "1. Посчитаем Recency - число дней со дня последней покупки\n",
    "2. Посчитаем Frequency - количество покупок за период\n",
    "3. Посчитаем Monetary - сумма потраченная за период\n",
    "4. Разобьем метрки на равные группы\n",
    "5. Проранжируем группы\n",
    "6. Сгруппируем R, F, M оценки для получения RFM\n",
    "7. Учитывая RFM сделаем сегментацию пользователей\n",
    "8. Для каждого RFM сегмента найдем границы метрик recency, frequency и monetary"
   ]
  },
  {
   "cell_type": "markdown",
   "id": "a457fc98",
   "metadata": {
    "id": "a457fc98"
   },
   "source": [
    "Для RFM сегментации будем использовать данные за последние 12 месяцев. Так как эти данные будут наиболее актуальными."
   ]
  },
  {
   "cell_type": "markdown",
   "id": "ad107a03",
   "metadata": {
    "id": "ad107a03"
   },
   "source": [
    "Для начала возьмем данные об уникальных пользователях и их покупках за посление 12 месяцев."
   ]
  },
  {
   "cell_type": "markdown",
   "id": "aef26d6b",
   "metadata": {
    "id": "aef26d6b"
   },
   "source": [
    "Для этого объеденим все 3 таблицы 'orders', 'customers' и 'items'. И возьмем информацию о клиентах, датах их покупок и ценах на товары."
   ]
  },
  {
   "cell_type": "code",
   "execution_count": 94,
   "id": "505b6adf",
   "metadata": {
    "id": "505b6adf"
   },
   "outputs": [],
   "source": [
    "purchases_rfm = orders.merge(customers, on='customer_id').merge(items, on='order_id')\n",
    "purchases_rfm = purchases_rfm[['customer_unique_id', 'order_purchase_timestamp', 'price']].copy()"
   ]
  },
  {
   "cell_type": "code",
   "execution_count": 95,
   "id": "172b9585",
   "metadata": {
    "id": "172b9585",
    "outputId": "dce8a83f-77ab-4179-de0a-11c70ef6b11c"
   },
   "outputs": [
    {
     "data": {
      "text/html": [
       "<div>\n",
       "<style scoped>\n",
       "    .dataframe tbody tr th:only-of-type {\n",
       "        vertical-align: middle;\n",
       "    }\n",
       "\n",
       "    .dataframe tbody tr th {\n",
       "        vertical-align: top;\n",
       "    }\n",
       "\n",
       "    .dataframe thead th {\n",
       "        text-align: right;\n",
       "    }\n",
       "</style>\n",
       "<table border=\"1\" class=\"dataframe\">\n",
       "  <thead>\n",
       "    <tr style=\"text-align: right;\">\n",
       "      <th></th>\n",
       "      <th>customer_unique_id</th>\n",
       "      <th>order_purchase_timestamp</th>\n",
       "      <th>price</th>\n",
       "    </tr>\n",
       "  </thead>\n",
       "  <tbody>\n",
       "    <tr>\n",
       "      <th>0</th>\n",
       "      <td>7c396fd4830fd04220f754e42b4e5bff</td>\n",
       "      <td>2017-10-02 10:56:33</td>\n",
       "      <td>29.99</td>\n",
       "    </tr>\n",
       "    <tr>\n",
       "      <th>1</th>\n",
       "      <td>af07308b275d755c9edb36a90c618231</td>\n",
       "      <td>2018-07-24 20:41:37</td>\n",
       "      <td>118.70</td>\n",
       "    </tr>\n",
       "    <tr>\n",
       "      <th>2</th>\n",
       "      <td>3a653a41f6f9fc3d2a113cf8398680e8</td>\n",
       "      <td>2018-08-08 08:38:49</td>\n",
       "      <td>159.90</td>\n",
       "    </tr>\n",
       "    <tr>\n",
       "      <th>3</th>\n",
       "      <td>7c142cf63193a1473d2e66489a9ae977</td>\n",
       "      <td>2017-11-18 19:28:06</td>\n",
       "      <td>45.00</td>\n",
       "    </tr>\n",
       "    <tr>\n",
       "      <th>4</th>\n",
       "      <td>72632f0f9dd73dfee390c9b22eb56dd6</td>\n",
       "      <td>2018-02-13 21:18:39</td>\n",
       "      <td>19.90</td>\n",
       "    </tr>\n",
       "  </tbody>\n",
       "</table>\n",
       "</div>"
      ],
      "text/plain": [
       "                 customer_unique_id order_purchase_timestamp   price\n",
       "0  7c396fd4830fd04220f754e42b4e5bff      2017-10-02 10:56:33   29.99\n",
       "1  af07308b275d755c9edb36a90c618231      2018-07-24 20:41:37  118.70\n",
       "2  3a653a41f6f9fc3d2a113cf8398680e8      2018-08-08 08:38:49  159.90\n",
       "3  7c142cf63193a1473d2e66489a9ae977      2017-11-18 19:28:06   45.00\n",
       "4  72632f0f9dd73dfee390c9b22eb56dd6      2018-02-13 21:18:39   19.90"
      ]
     },
     "execution_count": 95,
     "metadata": {},
     "output_type": "execute_result"
    }
   ],
   "source": [
    "purchases_rfm.head()"
   ]
  },
  {
   "cell_type": "code",
   "execution_count": 96,
   "id": "e2514f10",
   "metadata": {
    "id": "e2514f10"
   },
   "outputs": [],
   "source": [
    "# оставим только дату покупки без времени\n",
    "purchases_rfm['order_purchase_timestamp'] = purchases_rfm['order_purchase_timestamp'].dt.date"
   ]
  },
  {
   "cell_type": "code",
   "execution_count": 97,
   "id": "204a8e14",
   "metadata": {
    "id": "204a8e14"
   },
   "outputs": [],
   "source": [
    "purchases_rfm.rename(columns={'order_purchase_timestamp': 'purchase_date'}, inplace=True)"
   ]
  },
  {
   "cell_type": "code",
   "execution_count": 98,
   "id": "8b2babe3",
   "metadata": {
    "id": "8b2babe3",
    "outputId": "cf748ccf-0732-4c02-9ac1-ac4fc0a82610"
   },
   "outputs": [
    {
     "data": {
      "text/html": [
       "<div>\n",
       "<style scoped>\n",
       "    .dataframe tbody tr th:only-of-type {\n",
       "        vertical-align: middle;\n",
       "    }\n",
       "\n",
       "    .dataframe tbody tr th {\n",
       "        vertical-align: top;\n",
       "    }\n",
       "\n",
       "    .dataframe thead th {\n",
       "        text-align: right;\n",
       "    }\n",
       "</style>\n",
       "<table border=\"1\" class=\"dataframe\">\n",
       "  <thead>\n",
       "    <tr style=\"text-align: right;\">\n",
       "      <th></th>\n",
       "      <th>customer_unique_id</th>\n",
       "      <th>purchase_date</th>\n",
       "      <th>price</th>\n",
       "    </tr>\n",
       "  </thead>\n",
       "  <tbody>\n",
       "    <tr>\n",
       "      <th>0</th>\n",
       "      <td>7c396fd4830fd04220f754e42b4e5bff</td>\n",
       "      <td>2017-10-02</td>\n",
       "      <td>29.99</td>\n",
       "    </tr>\n",
       "    <tr>\n",
       "      <th>1</th>\n",
       "      <td>af07308b275d755c9edb36a90c618231</td>\n",
       "      <td>2018-07-24</td>\n",
       "      <td>118.70</td>\n",
       "    </tr>\n",
       "    <tr>\n",
       "      <th>2</th>\n",
       "      <td>3a653a41f6f9fc3d2a113cf8398680e8</td>\n",
       "      <td>2018-08-08</td>\n",
       "      <td>159.90</td>\n",
       "    </tr>\n",
       "    <tr>\n",
       "      <th>3</th>\n",
       "      <td>7c142cf63193a1473d2e66489a9ae977</td>\n",
       "      <td>2017-11-18</td>\n",
       "      <td>45.00</td>\n",
       "    </tr>\n",
       "    <tr>\n",
       "      <th>4</th>\n",
       "      <td>72632f0f9dd73dfee390c9b22eb56dd6</td>\n",
       "      <td>2018-02-13</td>\n",
       "      <td>19.90</td>\n",
       "    </tr>\n",
       "  </tbody>\n",
       "</table>\n",
       "</div>"
      ],
      "text/plain": [
       "                 customer_unique_id purchase_date   price\n",
       "0  7c396fd4830fd04220f754e42b4e5bff    2017-10-02   29.99\n",
       "1  af07308b275d755c9edb36a90c618231    2018-07-24  118.70\n",
       "2  3a653a41f6f9fc3d2a113cf8398680e8    2018-08-08  159.90\n",
       "3  7c142cf63193a1473d2e66489a9ae977    2017-11-18   45.00\n",
       "4  72632f0f9dd73dfee390c9b22eb56dd6    2018-02-13   19.90"
      ]
     },
     "execution_count": 98,
     "metadata": {},
     "output_type": "execute_result"
    }
   ],
   "source": [
    "purchases_rfm.head()"
   ]
  },
  {
   "cell_type": "markdown",
   "id": "7a3d70df",
   "metadata": {
    "id": "7a3d70df"
   },
   "source": [
    "Так как в одном заказе могло быть несколько продуктов, то посчитаем для каждого пользователя суммарный чек."
   ]
  },
  {
   "cell_type": "code",
   "execution_count": 99,
   "id": "f5c252c4",
   "metadata": {
    "id": "f5c252c4"
   },
   "outputs": [],
   "source": [
    "purchases_rfm = purchases_rfm.groupby(['customer_unique_id', 'purchase_date'], as_index=False)['price'].sum()"
   ]
  },
  {
   "cell_type": "code",
   "execution_count": 100,
   "id": "33b43d65",
   "metadata": {
    "id": "33b43d65",
    "outputId": "c9765a92-f21f-471d-91c1-6a6d4ad1fa86"
   },
   "outputs": [
    {
     "data": {
      "text/plain": [
       "0"
      ]
     },
     "execution_count": 100,
     "metadata": {},
     "output_type": "execute_result"
    }
   ],
   "source": [
    "purchases_rfm.duplicated().sum()"
   ]
  },
  {
   "cell_type": "markdown",
   "id": "bd82863e",
   "metadata": {
    "id": "bd82863e"
   },
   "source": [
    "Добавим колонку с днем, который следует за последней покупкой. Чтобы от него считать, как давно была совершена последняя покупка (Recency)."
   ]
  },
  {
   "cell_type": "code",
   "execution_count": 101,
   "id": "59cf144b",
   "metadata": {
    "id": "59cf144b"
   },
   "outputs": [],
   "source": [
    "purchases_rfm['current_day'] = purchases_rfm['purchase_date'].max() + timedelta(days=1)"
   ]
  },
  {
   "cell_type": "markdown",
   "id": "c0afc50c",
   "metadata": {
    "id": "c0afc50c"
   },
   "source": [
    "Теперь оставим только данные за последние 12 месяцев."
   ]
  },
  {
   "cell_type": "code",
   "execution_count": 102,
   "id": "a5945866",
   "metadata": {
    "id": "a5945866"
   },
   "outputs": [],
   "source": [
    "purchases_rfm = purchases_rfm.loc[purchases_rfm['purchase_date'] >=\n",
    "                                  purchases_rfm['purchase_date'].max() - timedelta(days=365)]"
   ]
  },
  {
   "cell_type": "code",
   "execution_count": 103,
   "id": "d7446264",
   "metadata": {
    "id": "d7446264"
   },
   "outputs": [],
   "source": [
    "purchases_rfm['purchase_date'] = pd.to_datetime(purchases_rfm['purchase_date'], format='%Y-%m-%d')\n",
    "purchases_rfm['current_day'] = pd.to_datetime(purchases_rfm['current_day'], format='%Y-%m-%d')"
   ]
  },
  {
   "cell_type": "markdown",
   "id": "f0f99ff4",
   "metadata": {
    "id": "f0f99ff4"
   },
   "source": [
    "Для нахождения Recency найдем разницу между текущей датой и датой покупки и возьмем минимальное значение."
   ]
  },
  {
   "cell_type": "code",
   "execution_count": 104,
   "id": "3cb5815c",
   "metadata": {
    "id": "3cb5815c"
   },
   "outputs": [],
   "source": [
    "purchases_rfm['days_since_last_purchase'] = (purchases_rfm['current_day'] - purchases_rfm['purchase_date']).dt.days"
   ]
  },
  {
   "cell_type": "code",
   "execution_count": 105,
   "id": "f8a38419",
   "metadata": {
    "id": "f8a38419",
    "outputId": "6a53c1d0-81ab-4e79-9c2b-92d01db584e8"
   },
   "outputs": [
    {
     "data": {
      "text/html": [
       "<div>\n",
       "<style scoped>\n",
       "    .dataframe tbody tr th:only-of-type {\n",
       "        vertical-align: middle;\n",
       "    }\n",
       "\n",
       "    .dataframe tbody tr th {\n",
       "        vertical-align: top;\n",
       "    }\n",
       "\n",
       "    .dataframe thead th {\n",
       "        text-align: right;\n",
       "    }\n",
       "</style>\n",
       "<table border=\"1\" class=\"dataframe\">\n",
       "  <thead>\n",
       "    <tr style=\"text-align: right;\">\n",
       "      <th></th>\n",
       "      <th>customer_unique_id</th>\n",
       "      <th>purchase_date</th>\n",
       "      <th>price</th>\n",
       "      <th>current_day</th>\n",
       "      <th>days_since_last_purchase</th>\n",
       "    </tr>\n",
       "  </thead>\n",
       "  <tbody>\n",
       "    <tr>\n",
       "      <th>0</th>\n",
       "      <td>0000366f3b9a7992bf8c76cfdf3221e2</td>\n",
       "      <td>2018-05-10</td>\n",
       "      <td>129.90</td>\n",
       "      <td>2018-09-04</td>\n",
       "      <td>117</td>\n",
       "    </tr>\n",
       "    <tr>\n",
       "      <th>1</th>\n",
       "      <td>0000b849f77a49e4a4ce2b2a4ca5be3f</td>\n",
       "      <td>2018-05-07</td>\n",
       "      <td>18.90</td>\n",
       "      <td>2018-09-04</td>\n",
       "      <td>120</td>\n",
       "    </tr>\n",
       "    <tr>\n",
       "      <th>3</th>\n",
       "      <td>0000f6ccb0745a6a4b88665a16c9f078</td>\n",
       "      <td>2017-10-12</td>\n",
       "      <td>25.99</td>\n",
       "      <td>2018-09-04</td>\n",
       "      <td>327</td>\n",
       "    </tr>\n",
       "    <tr>\n",
       "      <th>4</th>\n",
       "      <td>0004aac84e0df4da2b147fca70cf8255</td>\n",
       "      <td>2017-11-14</td>\n",
       "      <td>180.00</td>\n",
       "      <td>2018-09-04</td>\n",
       "      <td>294</td>\n",
       "    </tr>\n",
       "    <tr>\n",
       "      <th>5</th>\n",
       "      <td>0004bd2a26a76fe21f786e4fbd80607f</td>\n",
       "      <td>2018-04-05</td>\n",
       "      <td>154.00</td>\n",
       "      <td>2018-09-04</td>\n",
       "      <td>152</td>\n",
       "    </tr>\n",
       "  </tbody>\n",
       "</table>\n",
       "</div>"
      ],
      "text/plain": [
       "                 customer_unique_id purchase_date   price current_day  \\\n",
       "0  0000366f3b9a7992bf8c76cfdf3221e2    2018-05-10  129.90  2018-09-04   \n",
       "1  0000b849f77a49e4a4ce2b2a4ca5be3f    2018-05-07   18.90  2018-09-04   \n",
       "3  0000f6ccb0745a6a4b88665a16c9f078    2017-10-12   25.99  2018-09-04   \n",
       "4  0004aac84e0df4da2b147fca70cf8255    2017-11-14  180.00  2018-09-04   \n",
       "5  0004bd2a26a76fe21f786e4fbd80607f    2018-04-05  154.00  2018-09-04   \n",
       "\n",
       "   days_since_last_purchase  \n",
       "0                       117  \n",
       "1                       120  \n",
       "3                       327  \n",
       "4                       294  \n",
       "5                       152  "
      ]
     },
     "execution_count": 105,
     "metadata": {},
     "output_type": "execute_result"
    }
   ],
   "source": [
    "purchases_rfm.head()"
   ]
  },
  {
   "cell_type": "markdown",
   "id": "f921612b",
   "metadata": {
    "id": "f921612b"
   },
   "source": [
    "Находим Recency, Frequency и Monetary"
   ]
  },
  {
   "cell_type": "code",
   "execution_count": 106,
   "id": "005ebc89",
   "metadata": {
    "id": "005ebc89"
   },
   "outputs": [],
   "source": [
    "rfm = purchases_rfm.groupby(['customer_unique_id'], as_index=False) \\\n",
    "    .agg({'days_since_last_purchase': 'min', 'purchase_date': 'count', 'price': 'sum'}) \\\n",
    "    .rename(columns={'days_since_last_purchase': 'recency', 'purchase_date': 'frequency', 'price': 'monetary'})"
   ]
  },
  {
   "cell_type": "code",
   "execution_count": 107,
   "id": "ea9dd79a",
   "metadata": {
    "id": "ea9dd79a",
    "outputId": "aa0a7e16-73a1-47d4-eb2f-e1c0e46d0112"
   },
   "outputs": [
    {
     "data": {
      "text/html": [
       "<div>\n",
       "<style scoped>\n",
       "    .dataframe tbody tr th:only-of-type {\n",
       "        vertical-align: middle;\n",
       "    }\n",
       "\n",
       "    .dataframe tbody tr th {\n",
       "        vertical-align: top;\n",
       "    }\n",
       "\n",
       "    .dataframe thead th {\n",
       "        text-align: right;\n",
       "    }\n",
       "</style>\n",
       "<table border=\"1\" class=\"dataframe\">\n",
       "  <thead>\n",
       "    <tr style=\"text-align: right;\">\n",
       "      <th></th>\n",
       "      <th>customer_unique_id</th>\n",
       "      <th>recency</th>\n",
       "      <th>frequency</th>\n",
       "      <th>monetary</th>\n",
       "    </tr>\n",
       "  </thead>\n",
       "  <tbody>\n",
       "    <tr>\n",
       "      <th>0</th>\n",
       "      <td>0000366f3b9a7992bf8c76cfdf3221e2</td>\n",
       "      <td>117</td>\n",
       "      <td>1</td>\n",
       "      <td>129.90</td>\n",
       "    </tr>\n",
       "    <tr>\n",
       "      <th>1</th>\n",
       "      <td>0000b849f77a49e4a4ce2b2a4ca5be3f</td>\n",
       "      <td>120</td>\n",
       "      <td>1</td>\n",
       "      <td>18.90</td>\n",
       "    </tr>\n",
       "    <tr>\n",
       "      <th>2</th>\n",
       "      <td>0000f6ccb0745a6a4b88665a16c9f078</td>\n",
       "      <td>327</td>\n",
       "      <td>1</td>\n",
       "      <td>25.99</td>\n",
       "    </tr>\n",
       "    <tr>\n",
       "      <th>3</th>\n",
       "      <td>0004aac84e0df4da2b147fca70cf8255</td>\n",
       "      <td>294</td>\n",
       "      <td>1</td>\n",
       "      <td>180.00</td>\n",
       "    </tr>\n",
       "    <tr>\n",
       "      <th>4</th>\n",
       "      <td>0004bd2a26a76fe21f786e4fbd80607f</td>\n",
       "      <td>152</td>\n",
       "      <td>1</td>\n",
       "      <td>154.00</td>\n",
       "    </tr>\n",
       "  </tbody>\n",
       "</table>\n",
       "</div>"
      ],
      "text/plain": [
       "                 customer_unique_id  recency  frequency  monetary\n",
       "0  0000366f3b9a7992bf8c76cfdf3221e2      117          1    129.90\n",
       "1  0000b849f77a49e4a4ce2b2a4ca5be3f      120          1     18.90\n",
       "2  0000f6ccb0745a6a4b88665a16c9f078      327          1     25.99\n",
       "3  0004aac84e0df4da2b147fca70cf8255      294          1    180.00\n",
       "4  0004bd2a26a76fe21f786e4fbd80607f      152          1    154.00"
      ]
     },
     "execution_count": 107,
     "metadata": {},
     "output_type": "execute_result"
    }
   ],
   "source": [
    "rfm.head()"
   ]
  },
  {
   "cell_type": "markdown",
   "id": "3e23d460",
   "metadata": {
    "id": "3e23d460"
   },
   "source": [
    "Теперь по каждой метрике Recency, Frequency и Monetary присвоим пользователям оценку в интервале от 1 до 4."
   ]
  },
  {
   "cell_type": "code",
   "execution_count": 108,
   "id": "9158fb65",
   "metadata": {
    "id": "9158fb65",
    "outputId": "58e8ba73-1fda-477f-e393-133564276cfe"
   },
   "outputs": [
    {
     "data": {
      "text/plain": [
       "count    73374.000000\n",
       "mean       177.689754\n",
       "std         98.889346\n",
       "min          1.000000\n",
       "25%         94.000000\n",
       "50%        177.000000\n",
       "75%        265.000000\n",
       "max        366.000000\n",
       "Name: recency, dtype: float64"
      ]
     },
     "execution_count": 108,
     "metadata": {},
     "output_type": "execute_result"
    }
   ],
   "source": [
    "rfm.recency.describe()"
   ]
  },
  {
   "cell_type": "code",
   "execution_count": 109,
   "id": "b16803d9",
   "metadata": {
    "id": "b16803d9",
    "outputId": "d5e987c1-ea78-49d0-ff3f-219d2f158a01"
   },
   "outputs": [
    {
     "data": {
      "text/plain": [
       "Text(0, 0.5, 'customers')"
      ]
     },
     "execution_count": 109,
     "metadata": {},
     "output_type": "execute_result"
    },
    {
     "data": {
      "image/png": "[encoded data removed]",
      "text/plain": [
       "<Figure size 640x480 with 1 Axes>"
      ]
     },
     "metadata": {},
     "output_type": "display_data"
    }
   ],
   "source": [
    "rfm.recency.hist()\n",
    "plt.title('Recency distribution')\n",
    "plt.xlabel('recency')\n",
    "plt.ylabel('customers')"
   ]
  },
  {
   "cell_type": "markdown",
   "id": "e5b9adaa",
   "metadata": {
    "id": "e5b9adaa"
   },
   "source": [
    "Метрика Recency распределена равномерно, поэтому просто разобьем ее на 4 примерно равные группы."
   ]
  },
  {
   "cell_type": "code",
   "execution_count": 110,
   "id": "ee759d7f",
   "metadata": {
    "colab": {
     "base_uri": "https://localhost:8080/",
     "height": 177
    },
    "executionInfo": {
     "elapsed": 32,
     "status": "error",
     "timestamp": 1694522202780,
     "user": {
      "displayName": "Oleg Deryabochkin",
      "userId": "16508416764757058275"
     },
     "user_tz": -180
    },
    "id": "ee759d7f",
    "outputId": "4594e6a3-788e-4c47-cb3a-6de17760ed63"
   },
   "outputs": [],
   "source": [
    "rfm['r'] = 5 - (pd.qcut(rfm['recency'], q=4, labels=False) + 1)"
   ]
  },
  {
   "cell_type": "code",
   "execution_count": 111,
   "id": "0e0df18b",
   "metadata": {
    "id": "0e0df18b",
    "outputId": "4238ab52-193a-4507-ec47-07bdaf32ff9e"
   },
   "outputs": [
    {
     "data": {
      "text/html": [
       "<div>\n",
       "<style scoped>\n",
       "    .dataframe tbody tr th:only-of-type {\n",
       "        vertical-align: middle;\n",
       "    }\n",
       "\n",
       "    .dataframe tbody tr th {\n",
       "        vertical-align: top;\n",
       "    }\n",
       "\n",
       "    .dataframe thead th {\n",
       "        text-align: right;\n",
       "    }\n",
       "</style>\n",
       "<table border=\"1\" class=\"dataframe\">\n",
       "  <thead>\n",
       "    <tr style=\"text-align: right;\">\n",
       "      <th></th>\n",
       "      <th>mean</th>\n",
       "      <th>count</th>\n",
       "      <th>min</th>\n",
       "      <th>max</th>\n",
       "    </tr>\n",
       "    <tr>\n",
       "      <th>r</th>\n",
       "      <th></th>\n",
       "      <th></th>\n",
       "      <th></th>\n",
       "      <th></th>\n",
       "    </tr>\n",
       "  </thead>\n",
       "  <tbody>\n",
       "    <tr>\n",
       "      <th>1</th>\n",
       "      <td>307.762062</td>\n",
       "      <td>18177</td>\n",
       "      <td>266</td>\n",
       "      <td>366</td>\n",
       "    </tr>\n",
       "    <tr>\n",
       "      <th>2</th>\n",
       "      <td>218.009039</td>\n",
       "      <td>18365</td>\n",
       "      <td>178</td>\n",
       "      <td>265</td>\n",
       "    </tr>\n",
       "    <tr>\n",
       "      <th>3</th>\n",
       "      <td>137.342779</td>\n",
       "      <td>18350</td>\n",
       "      <td>95</td>\n",
       "      <td>177</td>\n",
       "    </tr>\n",
       "    <tr>\n",
       "      <th>4</th>\n",
       "      <td>49.758738</td>\n",
       "      <td>18482</td>\n",
       "      <td>1</td>\n",
       "      <td>94</td>\n",
       "    </tr>\n",
       "  </tbody>\n",
       "</table>\n",
       "</div>"
      ],
      "text/plain": [
       "         mean  count  min  max\n",
       "r                             \n",
       "1  307.762062  18177  266  366\n",
       "2  218.009039  18365  178  265\n",
       "3  137.342779  18350   95  177\n",
       "4   49.758738  18482    1   94"
      ]
     },
     "execution_count": 111,
     "metadata": {},
     "output_type": "execute_result"
    }
   ],
   "source": [
    "# границы для метрики 'recency'\n",
    "rfm.groupby('r')['recency'].agg(['mean', 'count', 'min', 'max'])"
   ]
  },
  {
   "cell_type": "markdown",
   "id": "ee1dec05",
   "metadata": {
    "id": "ee1dec05"
   },
   "source": [
    "Таким образом видно, что мы поделили пользователей примерно на равные группы."
   ]
  },
  {
   "cell_type": "code",
   "execution_count": 112,
   "id": "f2946dfc",
   "metadata": {
    "id": "f2946dfc",
    "outputId": "3121bb4f-6e37-4781-a4e1-38903f41c0e9"
   },
   "outputs": [
    {
     "data": {
      "text/plain": [
       "frequency\n",
       "1     72073\n",
       "2      1216\n",
       "3        68\n",
       "4         8\n",
       "5         4\n",
       "7         2\n",
       "6         2\n",
       "11        1\n",
       "Name: count, dtype: int64"
      ]
     },
     "execution_count": 112,
     "metadata": {},
     "output_type": "execute_result"
    }
   ],
   "source": [
    "rfm.frequency.value_counts()"
   ]
  },
  {
   "cell_type": "code",
   "execution_count": 113,
   "id": "579c84fa",
   "metadata": {
    "id": "579c84fa",
    "outputId": "ec8dcac3-9452-4848-e42d-37f1e4253b99"
   },
   "outputs": [
    {
     "data": {
      "text/plain": [
       "Text(0, 0.5, 'customers')"
      ]
     },
     "execution_count": 113,
     "metadata": {},
     "output_type": "execute_result"
    },
    {
     "data": {
      "image/png": "[encoded data removed]",
      "text/plain": [
       "<Figure size 640x480 with 1 Axes>"
      ]
     },
     "metadata": {},
     "output_type": "display_data"
    }
   ],
   "source": [
    "rfm.frequency.hist()\n",
    "plt.title('Frequency distribution')\n",
    "plt.xlabel('frequency')\n",
    "plt.ylabel('customers')"
   ]
  },
  {
   "cell_type": "markdown",
   "id": "598b89d4",
   "metadata": {
    "id": "598b89d4"
   },
   "source": [
    "Видно, что подавляющая часть пользователей совершила только 1 покупку. Поэтому по метрике Frequency разобьем их на следующие группы:\n",
    "\n",
    "- 1 группа: 1 покупка\n",
    "- 2 группа: 2-3 покупки\n",
    "- 3 группа: 4-5 покупок\n",
    "- 4 группа: 6 и более покупок"
   ]
  },
  {
   "cell_type": "code",
   "execution_count": 114,
   "id": "ad69074e",
   "metadata": {
    "id": "ad69074e"
   },
   "outputs": [],
   "source": [
    "#функция для получения f скора\n",
    "def get_f_score(frequency):\n",
    "    if frequency == 1:\n",
    "        return 1\n",
    "    elif frequency in [2, 3]:\n",
    "        return 2\n",
    "    elif frequency in [4, 5]:\n",
    "        return 3\n",
    "    else:\n",
    "        return 4"
   ]
  },
  {
   "cell_type": "code",
   "execution_count": 115,
   "id": "fc29fd39",
   "metadata": {
    "id": "fc29fd39"
   },
   "outputs": [],
   "source": [
    "rfm['f'] = rfm['frequency'].apply(get_f_score)"
   ]
  },
  {
   "cell_type": "code",
   "execution_count": 116,
   "id": "6e8c34d3",
   "metadata": {
    "id": "6e8c34d3",
    "outputId": "fa624dc6-bfb1-47d3-bac5-f81f41634031"
   },
   "outputs": [
    {
     "data": {
      "text/plain": [
       "f\n",
       "1    72073\n",
       "2     1284\n",
       "3       12\n",
       "4        5\n",
       "Name: count, dtype: int64"
      ]
     },
     "execution_count": 116,
     "metadata": {},
     "output_type": "execute_result"
    }
   ],
   "source": [
    "rfm['f'].value_counts()"
   ]
  },
  {
   "cell_type": "code",
   "execution_count": 117,
   "id": "d6956342",
   "metadata": {
    "id": "d6956342",
    "outputId": "985bc9cb-adcb-4988-84a0-92b51dc4788a"
   },
   "outputs": [
    {
     "data": {
      "text/html": [
       "<div>\n",
       "<style scoped>\n",
       "    .dataframe tbody tr th:only-of-type {\n",
       "        vertical-align: middle;\n",
       "    }\n",
       "\n",
       "    .dataframe tbody tr th {\n",
       "        vertical-align: top;\n",
       "    }\n",
       "\n",
       "    .dataframe thead th {\n",
       "        text-align: right;\n",
       "    }\n",
       "</style>\n",
       "<table border=\"1\" class=\"dataframe\">\n",
       "  <thead>\n",
       "    <tr style=\"text-align: right;\">\n",
       "      <th></th>\n",
       "      <th>mean</th>\n",
       "      <th>count</th>\n",
       "      <th>min</th>\n",
       "      <th>max</th>\n",
       "    </tr>\n",
       "    <tr>\n",
       "      <th>f</th>\n",
       "      <th></th>\n",
       "      <th></th>\n",
       "      <th></th>\n",
       "      <th></th>\n",
       "    </tr>\n",
       "  </thead>\n",
       "  <tbody>\n",
       "    <tr>\n",
       "      <th>1</th>\n",
       "      <td>1.000000</td>\n",
       "      <td>72073</td>\n",
       "      <td>1</td>\n",
       "      <td>1</td>\n",
       "    </tr>\n",
       "    <tr>\n",
       "      <th>2</th>\n",
       "      <td>2.052960</td>\n",
       "      <td>1284</td>\n",
       "      <td>2</td>\n",
       "      <td>3</td>\n",
       "    </tr>\n",
       "    <tr>\n",
       "      <th>3</th>\n",
       "      <td>4.333333</td>\n",
       "      <td>12</td>\n",
       "      <td>4</td>\n",
       "      <td>5</td>\n",
       "    </tr>\n",
       "    <tr>\n",
       "      <th>4</th>\n",
       "      <td>7.400000</td>\n",
       "      <td>5</td>\n",
       "      <td>6</td>\n",
       "      <td>11</td>\n",
       "    </tr>\n",
       "  </tbody>\n",
       "</table>\n",
       "</div>"
      ],
      "text/plain": [
       "       mean  count  min  max\n",
       "f                           \n",
       "1  1.000000  72073    1    1\n",
       "2  2.052960   1284    2    3\n",
       "3  4.333333     12    4    5\n",
       "4  7.400000      5    6   11"
      ]
     },
     "execution_count": 117,
     "metadata": {},
     "output_type": "execute_result"
    }
   ],
   "source": [
    "# границы для метрики 'frequency'\n",
    "rfm.groupby('f')['frequency'].agg(['mean', 'count', 'min', 'max'])"
   ]
  },
  {
   "cell_type": "code",
   "execution_count": 118,
   "id": "bfd2954c",
   "metadata": {
    "id": "bfd2954c",
    "outputId": "22ce495e-77d1-46ba-87e2-6f20bf5e8a15"
   },
   "outputs": [
    {
     "data": {
      "text/plain": [
       "count    73374.000000\n",
       "mean       141.497747\n",
       "std        213.061899\n",
       "min          0.850000\n",
       "25%         47.900000\n",
       "50%         89.900000\n",
       "75%        153.000000\n",
       "max      13440.000000\n",
       "Name: monetary, dtype: float64"
      ]
     },
     "execution_count": 118,
     "metadata": {},
     "output_type": "execute_result"
    }
   ],
   "source": [
    "rfm.monetary.describe()"
   ]
  },
  {
   "cell_type": "code",
   "execution_count": 119,
   "id": "c025f984",
   "metadata": {
    "id": "c025f984",
    "outputId": "ae7069f6-7bde-4461-e3a7-235f4434f6c1"
   },
   "outputs": [
    {
     "data": {
      "text/plain": [
       "Text(0, 0.5, 'customers')"
      ]
     },
     "execution_count": 119,
     "metadata": {},
     "output_type": "execute_result"
    },
    {
     "data": {
      "image/png": "[encoded data removed]",
      "text/plain": [
       "<Figure size 640x480 with 1 Axes>"
      ]
     },
     "metadata": {},
     "output_type": "display_data"
    }
   ],
   "source": [
    "rfm.monetary.hist()\n",
    "plt.title('Monetary distribution')\n",
    "plt.xlabel('monetary')\n",
    "plt.ylabel('customers')"
   ]
  },
  {
   "cell_type": "markdown",
   "id": "797236dc",
   "metadata": {
    "id": "797236dc"
   },
   "source": [
    "Почти все пользователи совершили покупки на сумму не более 1000."
   ]
  },
  {
   "cell_type": "code",
   "execution_count": 120,
   "id": "3c035da2",
   "metadata": {
    "id": "3c035da2",
    "outputId": "8beae39f-6c9b-47f7-fafa-785d7e0528d7"
   },
   "outputs": [
    {
     "data": {
      "text/plain": [
       "Text(0, 0.5, 'customers')"
      ]
     },
     "execution_count": 120,
     "metadata": {},
     "output_type": "execute_result"
    },
    {
     "data": {
      "image/png": "[encoded data removed]",
      "text/plain": [
       "<Figure size 640x480 with 1 Axes>"
      ]
     },
     "metadata": {},
     "output_type": "display_data"
    }
   ],
   "source": [
    "rfm.monetary.loc[(rfm['monetary'] > 1000)].hist()\n",
    "plt.title('Monetary distribution (> 1000)')\n",
    "plt.xlabel('monetary')\n",
    "plt.ylabel('customers')"
   ]
  },
  {
   "cell_type": "code",
   "execution_count": 121,
   "id": "2f5ee96f",
   "metadata": {
    "id": "2f5ee96f",
    "outputId": "e54bfbaa-f735-4d80-ca3c-58a782e38e7e"
   },
   "outputs": [
    {
     "data": {
      "text/plain": [
       "1.0003543489519449"
      ]
     },
     "execution_count": 121,
     "metadata": {},
     "output_type": "execute_result"
    }
   ],
   "source": [
    "rfm.monetary.loc[(rfm['monetary'] > 1000)].count() / len(rfm) * 100"
   ]
  },
  {
   "cell_type": "code",
   "execution_count": 122,
   "id": "13d11d65",
   "metadata": {
    "id": "13d11d65",
    "outputId": "5d2c991f-bf62-425f-c0db-8bfc1f36dede"
   },
   "outputs": [
    {
     "data": {
      "text/plain": [
       "11.345970157562107"
      ]
     },
     "execution_count": 122,
     "metadata": {},
     "output_type": "execute_result"
    }
   ],
   "source": [
    "rfm.monetary.loc[(rfm['monetary'] > 1000)].sum() / rfm['monetary'].sum() * 100"
   ]
  },
  {
   "cell_type": "markdown",
   "id": "924e450c",
   "metadata": {
    "id": "924e450c"
   },
   "source": [
    "Всего 1% от всех покупателей потратили больше 1000. При этом они принесли 11.35% от всей выручи. Поэтому выделим их в отдельную группу, как тех, кто тратит больше всех."
   ]
  },
  {
   "cell_type": "markdown",
   "id": "94e51201",
   "metadata": {
    "id": "94e51201"
   },
   "source": [
    "Далее посмотрим на пользователей, кто потратил до 1000."
   ]
  },
  {
   "cell_type": "code",
   "execution_count": 123,
   "id": "a1f721a0",
   "metadata": {
    "id": "a1f721a0",
    "outputId": "dc1d5a52-65d0-46f4-f8c8-5cdafdf8fb08"
   },
   "outputs": [
    {
     "data": {
      "text/plain": [
       "Text(0, 0.5, 'customers')"
      ]
     },
     "execution_count": 123,
     "metadata": {},
     "output_type": "execute_result"
    },
    {
     "data": {
      "image/png": "[encoded data removed]",
      "text/plain": [
       "<Figure size 640x480 with 1 Axes>"
      ]
     },
     "metadata": {},
     "output_type": "display_data"
    }
   ],
   "source": [
    "rfm.monetary.loc[(rfm['monetary'] < 1000)].hist()\n",
    "plt.title('Monetary distribution (< 1000)')\n",
    "plt.xlabel('monetary')\n",
    "plt.ylabel('customers')"
   ]
  },
  {
   "cell_type": "markdown",
   "id": "97b28deb",
   "metadata": {
    "id": "97b28deb"
   },
   "source": [
    "Остальных пользователей можно разбить на следующие три группы:\n",
    "- 0 - 150\n",
    "- 151 - 300\n",
    "- 301 - 1000"
   ]
  },
  {
   "cell_type": "code",
   "execution_count": 124,
   "id": "67e26872",
   "metadata": {
    "id": "67e26872",
    "outputId": "3f9c87f3-9e53-4305-9131-4297ca6434a7"
   },
   "outputs": [
    {
     "data": {
      "image/png": "[encoded data removed]",
      "text/plain": [
       "<Figure size 1000x500 with 3 Axes>"
      ]
     },
     "metadata": {},
     "output_type": "display_data"
    }
   ],
   "source": [
    "fig, ax = plt.subplots(1, 3, figsize=(10,5))\n",
    "rfm.monetary.loc[(rfm['monetary'] <= 150)].hist(ax=ax[0])\n",
    "ax[0].set_title('0-150')\n",
    "ax[0].set_ylabel('customers')\n",
    "rfm.monetary.loc[(rfm['monetary'] > 150) & (rfm['monetary'] <= 300)].hist(ax=ax[1])\n",
    "ax[1].set_xlabel('monetary')\n",
    "ax[1].set_title('Monetary distribution\\n\\n151-300')\n",
    "rfm.monetary.loc[(rfm['monetary'] > 300) & (rfm['monetary'] <= 1000)].hist(ax=ax[2])\n",
    "ax[2].set_title('301-1000')\n",
    "plt.tight_layout()"
   ]
  },
  {
   "cell_type": "code",
   "execution_count": 125,
   "id": "76caf2b8",
   "metadata": {
    "id": "76caf2b8"
   },
   "outputs": [],
   "source": [
    "#функция для получения m скора\n",
    "def get_m_score(monetary):\n",
    "    if monetary <= 150:\n",
    "        return 1\n",
    "    elif 150 < monetary <= 400:\n",
    "        return 2\n",
    "    elif 400 < monetary <= 1000:\n",
    "        return 3\n",
    "    else:\n",
    "        return 4"
   ]
  },
  {
   "cell_type": "code",
   "execution_count": 126,
   "id": "535f0a32",
   "metadata": {
    "id": "535f0a32"
   },
   "outputs": [],
   "source": [
    "rfm['m'] = rfm['monetary'].apply(get_m_score)"
   ]
  },
  {
   "cell_type": "code",
   "execution_count": 127,
   "id": "221dc1a5",
   "metadata": {
    "id": "221dc1a5",
    "outputId": "0b466357-c9ca-4fd0-c45c-a24798b481f0"
   },
   "outputs": [
    {
     "data": {
      "text/html": [
       "<div>\n",
       "<style scoped>\n",
       "    .dataframe tbody tr th:only-of-type {\n",
       "        vertical-align: middle;\n",
       "    }\n",
       "\n",
       "    .dataframe tbody tr th {\n",
       "        vertical-align: top;\n",
       "    }\n",
       "\n",
       "    .dataframe thead th {\n",
       "        text-align: right;\n",
       "    }\n",
       "</style>\n",
       "<table border=\"1\" class=\"dataframe\">\n",
       "  <thead>\n",
       "    <tr style=\"text-align: right;\">\n",
       "      <th></th>\n",
       "      <th>mean</th>\n",
       "      <th>count</th>\n",
       "      <th>min</th>\n",
       "      <th>max</th>\n",
       "    </tr>\n",
       "    <tr>\n",
       "      <th>m</th>\n",
       "      <th></th>\n",
       "      <th></th>\n",
       "      <th></th>\n",
       "      <th></th>\n",
       "    </tr>\n",
       "  </thead>\n",
       "  <tbody>\n",
       "    <tr>\n",
       "      <th>1</th>\n",
       "      <td>70.876274</td>\n",
       "      <td>54830</td>\n",
       "      <td>0.85</td>\n",
       "      <td>150.0</td>\n",
       "    </tr>\n",
       "    <tr>\n",
       "      <th>2</th>\n",
       "      <td>232.718873</td>\n",
       "      <td>14728</td>\n",
       "      <td>150.19</td>\n",
       "      <td>400.0</td>\n",
       "    </tr>\n",
       "    <tr>\n",
       "      <th>3</th>\n",
       "      <td>613.451781</td>\n",
       "      <td>3082</td>\n",
       "      <td>400.15</td>\n",
       "      <td>1000.0</td>\n",
       "    </tr>\n",
       "    <tr>\n",
       "      <th>4</th>\n",
       "      <td>1604.860531</td>\n",
       "      <td>734</td>\n",
       "      <td>1000.85</td>\n",
       "      <td>13440.0</td>\n",
       "    </tr>\n",
       "  </tbody>\n",
       "</table>\n",
       "</div>"
      ],
      "text/plain": [
       "          mean  count      min      max\n",
       "m                                      \n",
       "1    70.876274  54830     0.85    150.0\n",
       "2   232.718873  14728   150.19    400.0\n",
       "3   613.451781   3082   400.15   1000.0\n",
       "4  1604.860531    734  1000.85  13440.0"
      ]
     },
     "execution_count": 127,
     "metadata": {},
     "output_type": "execute_result"
    }
   ],
   "source": [
    "# границы для метрики 'monetary'\n",
    "rfm.groupby('m')['monetary'].agg(['mean', 'count', 'min', 'max'])"
   ]
  },
  {
   "cell_type": "markdown",
   "id": "28c0a3de",
   "metadata": {
    "id": "28c0a3de"
   },
   "source": [
    "Теперь можем сегментировать пользователей по rfm скору."
   ]
  },
  {
   "cell_type": "code",
   "execution_count": 128,
   "id": "16624e6d",
   "metadata": {
    "id": "16624e6d"
   },
   "outputs": [],
   "source": [
    "rfm['rfm'] = rfm.r.astype('str') + rfm.f.astype('str') + rfm.m.astype('str')"
   ]
  },
  {
   "cell_type": "code",
   "execution_count": 129,
   "id": "73e4130e",
   "metadata": {
    "id": "73e4130e",
    "outputId": "c3f2cd6a-a283-4f76-b5a6-c461e49ffd03"
   },
   "outputs": [
    {
     "data": {
      "text/html": [
       "<div>\n",
       "<style scoped>\n",
       "    .dataframe tbody tr th:only-of-type {\n",
       "        vertical-align: middle;\n",
       "    }\n",
       "\n",
       "    .dataframe tbody tr th {\n",
       "        vertical-align: top;\n",
       "    }\n",
       "\n",
       "    .dataframe thead th {\n",
       "        text-align: right;\n",
       "    }\n",
       "</style>\n",
       "<table border=\"1\" class=\"dataframe\">\n",
       "  <thead>\n",
       "    <tr style=\"text-align: right;\">\n",
       "      <th></th>\n",
       "      <th>customer_unique_id</th>\n",
       "      <th>recency</th>\n",
       "      <th>frequency</th>\n",
       "      <th>monetary</th>\n",
       "      <th>r</th>\n",
       "      <th>f</th>\n",
       "      <th>m</th>\n",
       "      <th>rfm</th>\n",
       "    </tr>\n",
       "  </thead>\n",
       "  <tbody>\n",
       "    <tr>\n",
       "      <th>0</th>\n",
       "      <td>0000366f3b9a7992bf8c76cfdf3221e2</td>\n",
       "      <td>117</td>\n",
       "      <td>1</td>\n",
       "      <td>129.90</td>\n",
       "      <td>3</td>\n",
       "      <td>1</td>\n",
       "      <td>1</td>\n",
       "      <td>311</td>\n",
       "    </tr>\n",
       "    <tr>\n",
       "      <th>1</th>\n",
       "      <td>0000b849f77a49e4a4ce2b2a4ca5be3f</td>\n",
       "      <td>120</td>\n",
       "      <td>1</td>\n",
       "      <td>18.90</td>\n",
       "      <td>3</td>\n",
       "      <td>1</td>\n",
       "      <td>1</td>\n",
       "      <td>311</td>\n",
       "    </tr>\n",
       "    <tr>\n",
       "      <th>2</th>\n",
       "      <td>0000f6ccb0745a6a4b88665a16c9f078</td>\n",
       "      <td>327</td>\n",
       "      <td>1</td>\n",
       "      <td>25.99</td>\n",
       "      <td>1</td>\n",
       "      <td>1</td>\n",
       "      <td>1</td>\n",
       "      <td>111</td>\n",
       "    </tr>\n",
       "    <tr>\n",
       "      <th>3</th>\n",
       "      <td>0004aac84e0df4da2b147fca70cf8255</td>\n",
       "      <td>294</td>\n",
       "      <td>1</td>\n",
       "      <td>180.00</td>\n",
       "      <td>1</td>\n",
       "      <td>1</td>\n",
       "      <td>2</td>\n",
       "      <td>112</td>\n",
       "    </tr>\n",
       "    <tr>\n",
       "      <th>4</th>\n",
       "      <td>0004bd2a26a76fe21f786e4fbd80607f</td>\n",
       "      <td>152</td>\n",
       "      <td>1</td>\n",
       "      <td>154.00</td>\n",
       "      <td>3</td>\n",
       "      <td>1</td>\n",
       "      <td>2</td>\n",
       "      <td>312</td>\n",
       "    </tr>\n",
       "  </tbody>\n",
       "</table>\n",
       "</div>"
      ],
      "text/plain": [
       "                 customer_unique_id  recency  frequency  monetary  r  f  m  \\\n",
       "0  0000366f3b9a7992bf8c76cfdf3221e2      117          1    129.90  3  1  1   \n",
       "1  0000b849f77a49e4a4ce2b2a4ca5be3f      120          1     18.90  3  1  1   \n",
       "2  0000f6ccb0745a6a4b88665a16c9f078      327          1     25.99  1  1  1   \n",
       "3  0004aac84e0df4da2b147fca70cf8255      294          1    180.00  1  1  2   \n",
       "4  0004bd2a26a76fe21f786e4fbd80607f      152          1    154.00  3  1  2   \n",
       "\n",
       "   rfm  \n",
       "0  311  \n",
       "1  311  \n",
       "2  111  \n",
       "3  112  \n",
       "4  312  "
      ]
     },
     "execution_count": 129,
     "metadata": {},
     "output_type": "execute_result"
    }
   ],
   "source": [
    "rfm.head()"
   ]
  },
  {
   "cell_type": "markdown",
   "id": "ac53e7ba",
   "metadata": {
    "id": "ac53e7ba"
   },
   "source": [
    "Для каждого RFM сегмента найдем границы метрик recency, frequency и monetary"
   ]
  },
  {
   "cell_type": "code",
   "execution_count": 130,
   "id": "835b91dd",
   "metadata": {
    "id": "835b91dd",
    "outputId": "b0a11dbf-151f-4d3a-c2d4-fe46ebf5b9cf"
   },
   "outputs": [
    {
     "data": {
      "text/html": [
       "<div>\n",
       "<style scoped>\n",
       "    .dataframe tbody tr th:only-of-type {\n",
       "        vertical-align: middle;\n",
       "    }\n",
       "\n",
       "    .dataframe tbody tr th {\n",
       "        vertical-align: top;\n",
       "    }\n",
       "\n",
       "    .dataframe thead tr th {\n",
       "        text-align: left;\n",
       "    }\n",
       "\n",
       "    .dataframe thead tr:last-of-type th {\n",
       "        text-align: right;\n",
       "    }\n",
       "</style>\n",
       "<table border=\"1\" class=\"dataframe\">\n",
       "  <thead>\n",
       "    <tr>\n",
       "      <th></th>\n",
       "      <th colspan=\"2\" halign=\"left\">recency</th>\n",
       "      <th colspan=\"2\" halign=\"left\">frequency</th>\n",
       "      <th colspan=\"2\" halign=\"left\">monetary</th>\n",
       "    </tr>\n",
       "    <tr>\n",
       "      <th></th>\n",
       "      <th>min</th>\n",
       "      <th>max</th>\n",
       "      <th>min</th>\n",
       "      <th>max</th>\n",
       "      <th>min</th>\n",
       "      <th>max</th>\n",
       "    </tr>\n",
       "    <tr>\n",
       "      <th>rfm</th>\n",
       "      <th></th>\n",
       "      <th></th>\n",
       "      <th></th>\n",
       "      <th></th>\n",
       "      <th></th>\n",
       "      <th></th>\n",
       "    </tr>\n",
       "  </thead>\n",
       "  <tbody>\n",
       "    <tr>\n",
       "      <th>443</th>\n",
       "      <td>15</td>\n",
       "      <td>68</td>\n",
       "      <td>6</td>\n",
       "      <td>11</td>\n",
       "      <td>440.94</td>\n",
       "      <td>664.20</td>\n",
       "    </tr>\n",
       "    <tr>\n",
       "      <th>434</th>\n",
       "      <td>75</td>\n",
       "      <td>79</td>\n",
       "      <td>4</td>\n",
       "      <td>5</td>\n",
       "      <td>1535.40</td>\n",
       "      <td>1650.00</td>\n",
       "    </tr>\n",
       "    <tr>\n",
       "      <th>433</th>\n",
       "      <td>12</td>\n",
       "      <td>80</td>\n",
       "      <td>4</td>\n",
       "      <td>5</td>\n",
       "      <td>439.40</td>\n",
       "      <td>633.16</td>\n",
       "    </tr>\n",
       "    <tr>\n",
       "      <th>424</th>\n",
       "      <td>22</td>\n",
       "      <td>92</td>\n",
       "      <td>2</td>\n",
       "      <td>3</td>\n",
       "      <td>1021.50</td>\n",
       "      <td>4080.00</td>\n",
       "    </tr>\n",
       "    <tr>\n",
       "      <th>423</th>\n",
       "      <td>9</td>\n",
       "      <td>93</td>\n",
       "      <td>2</td>\n",
       "      <td>3</td>\n",
       "      <td>401.20</td>\n",
       "      <td>999.90</td>\n",
       "    </tr>\n",
       "    <tr>\n",
       "      <th>422</th>\n",
       "      <td>1</td>\n",
       "      <td>94</td>\n",
       "      <td>2</td>\n",
       "      <td>3</td>\n",
       "      <td>150.19</td>\n",
       "      <td>397.80</td>\n",
       "    </tr>\n",
       "    <tr>\n",
       "      <th>421</th>\n",
       "      <td>7</td>\n",
       "      <td>93</td>\n",
       "      <td>2</td>\n",
       "      <td>3</td>\n",
       "      <td>22.49</td>\n",
       "      <td>149.99</td>\n",
       "    </tr>\n",
       "    <tr>\n",
       "      <th>414</th>\n",
       "      <td>9</td>\n",
       "      <td>94</td>\n",
       "      <td>1</td>\n",
       "      <td>1</td>\n",
       "      <td>1005.55</td>\n",
       "      <td>7160.00</td>\n",
       "    </tr>\n",
       "    <tr>\n",
       "      <th>413</th>\n",
       "      <td>6</td>\n",
       "      <td>94</td>\n",
       "      <td>1</td>\n",
       "      <td>1</td>\n",
       "      <td>402.35</td>\n",
       "      <td>999.99</td>\n",
       "    </tr>\n",
       "    <tr>\n",
       "      <th>412</th>\n",
       "      <td>6</td>\n",
       "      <td>94</td>\n",
       "      <td>1</td>\n",
       "      <td>1</td>\n",
       "      <td>150.40</td>\n",
       "      <td>399.99</td>\n",
       "    </tr>\n",
       "    <tr>\n",
       "      <th>411</th>\n",
       "      <td>6</td>\n",
       "      <td>94</td>\n",
       "      <td>1</td>\n",
       "      <td>1</td>\n",
       "      <td>2.20</td>\n",
       "      <td>150.00</td>\n",
       "    </tr>\n",
       "    <tr>\n",
       "      <th>343</th>\n",
       "      <td>95</td>\n",
       "      <td>95</td>\n",
       "      <td>7</td>\n",
       "      <td>7</td>\n",
       "      <td>806.61</td>\n",
       "      <td>806.61</td>\n",
       "    </tr>\n",
       "    <tr>\n",
       "      <th>333</th>\n",
       "      <td>153</td>\n",
       "      <td>153</td>\n",
       "      <td>4</td>\n",
       "      <td>4</td>\n",
       "      <td>422.35</td>\n",
       "      <td>422.35</td>\n",
       "    </tr>\n",
       "    <tr>\n",
       "      <th>332</th>\n",
       "      <td>152</td>\n",
       "      <td>152</td>\n",
       "      <td>4</td>\n",
       "      <td>4</td>\n",
       "      <td>175.19</td>\n",
       "      <td>175.19</td>\n",
       "    </tr>\n",
       "    <tr>\n",
       "      <th>324</th>\n",
       "      <td>95</td>\n",
       "      <td>162</td>\n",
       "      <td>2</td>\n",
       "      <td>3</td>\n",
       "      <td>1004.99</td>\n",
       "      <td>1828.44</td>\n",
       "    </tr>\n",
       "    <tr>\n",
       "      <th>323</th>\n",
       "      <td>101</td>\n",
       "      <td>176</td>\n",
       "      <td>2</td>\n",
       "      <td>3</td>\n",
       "      <td>401.64</td>\n",
       "      <td>983.99</td>\n",
       "    </tr>\n",
       "    <tr>\n",
       "      <th>322</th>\n",
       "      <td>96</td>\n",
       "      <td>177</td>\n",
       "      <td>2</td>\n",
       "      <td>3</td>\n",
       "      <td>150.90</td>\n",
       "      <td>399.80</td>\n",
       "    </tr>\n",
       "    <tr>\n",
       "      <th>321</th>\n",
       "      <td>96</td>\n",
       "      <td>176</td>\n",
       "      <td>2</td>\n",
       "      <td>3</td>\n",
       "      <td>19.80</td>\n",
       "      <td>148.00</td>\n",
       "    </tr>\n",
       "    <tr>\n",
       "      <th>314</th>\n",
       "      <td>95</td>\n",
       "      <td>177</td>\n",
       "      <td>1</td>\n",
       "      <td>1</td>\n",
       "      <td>1001.00</td>\n",
       "      <td>4400.00</td>\n",
       "    </tr>\n",
       "    <tr>\n",
       "      <th>313</th>\n",
       "      <td>95</td>\n",
       "      <td>177</td>\n",
       "      <td>1</td>\n",
       "      <td>1</td>\n",
       "      <td>403.90</td>\n",
       "      <td>1000.00</td>\n",
       "    </tr>\n",
       "    <tr>\n",
       "      <th>312</th>\n",
       "      <td>95</td>\n",
       "      <td>177</td>\n",
       "      <td>1</td>\n",
       "      <td>1</td>\n",
       "      <td>150.88</td>\n",
       "      <td>400.00</td>\n",
       "    </tr>\n",
       "    <tr>\n",
       "      <th>311</th>\n",
       "      <td>95</td>\n",
       "      <td>177</td>\n",
       "      <td>1</td>\n",
       "      <td>1</td>\n",
       "      <td>0.85</td>\n",
       "      <td>150.00</td>\n",
       "    </tr>\n",
       "    <tr>\n",
       "      <th>244</th>\n",
       "      <td>189</td>\n",
       "      <td>189</td>\n",
       "      <td>6</td>\n",
       "      <td>6</td>\n",
       "      <td>1000.85</td>\n",
       "      <td>1000.85</td>\n",
       "    </tr>\n",
       "    <tr>\n",
       "      <th>243</th>\n",
       "      <td>202</td>\n",
       "      <td>202</td>\n",
       "      <td>7</td>\n",
       "      <td>7</td>\n",
       "      <td>809.21</td>\n",
       "      <td>809.21</td>\n",
       "    </tr>\n",
       "    <tr>\n",
       "      <th>233</th>\n",
       "      <td>182</td>\n",
       "      <td>259</td>\n",
       "      <td>4</td>\n",
       "      <td>5</td>\n",
       "      <td>486.00</td>\n",
       "      <td>745.80</td>\n",
       "    </tr>\n",
       "    <tr>\n",
       "      <th>224</th>\n",
       "      <td>181</td>\n",
       "      <td>261</td>\n",
       "      <td>2</td>\n",
       "      <td>2</td>\n",
       "      <td>1109.80</td>\n",
       "      <td>1663.00</td>\n",
       "    </tr>\n",
       "    <tr>\n",
       "      <th>223</th>\n",
       "      <td>178</td>\n",
       "      <td>245</td>\n",
       "      <td>2</td>\n",
       "      <td>3</td>\n",
       "      <td>408.00</td>\n",
       "      <td>965.80</td>\n",
       "    </tr>\n",
       "    <tr>\n",
       "      <th>222</th>\n",
       "      <td>178</td>\n",
       "      <td>264</td>\n",
       "      <td>2</td>\n",
       "      <td>3</td>\n",
       "      <td>152.55</td>\n",
       "      <td>399.80</td>\n",
       "    </tr>\n",
       "    <tr>\n",
       "      <th>221</th>\n",
       "      <td>178</td>\n",
       "      <td>264</td>\n",
       "      <td>2</td>\n",
       "      <td>3</td>\n",
       "      <td>11.98</td>\n",
       "      <td>149.98</td>\n",
       "    </tr>\n",
       "    <tr>\n",
       "      <th>214</th>\n",
       "      <td>179</td>\n",
       "      <td>265</td>\n",
       "      <td>1</td>\n",
       "      <td>1</td>\n",
       "      <td>1005.63</td>\n",
       "      <td>3690.00</td>\n",
       "    </tr>\n",
       "    <tr>\n",
       "      <th>213</th>\n",
       "      <td>178</td>\n",
       "      <td>265</td>\n",
       "      <td>1</td>\n",
       "      <td>1</td>\n",
       "      <td>400.15</td>\n",
       "      <td>999.90</td>\n",
       "    </tr>\n",
       "    <tr>\n",
       "      <th>212</th>\n",
       "      <td>178</td>\n",
       "      <td>265</td>\n",
       "      <td>1</td>\n",
       "      <td>1</td>\n",
       "      <td>150.90</td>\n",
       "      <td>400.00</td>\n",
       "    </tr>\n",
       "    <tr>\n",
       "      <th>211</th>\n",
       "      <td>178</td>\n",
       "      <td>265</td>\n",
       "      <td>1</td>\n",
       "      <td>1</td>\n",
       "      <td>2.99</td>\n",
       "      <td>150.00</td>\n",
       "    </tr>\n",
       "    <tr>\n",
       "      <th>132</th>\n",
       "      <td>287</td>\n",
       "      <td>287</td>\n",
       "      <td>4</td>\n",
       "      <td>4</td>\n",
       "      <td>288.00</td>\n",
       "      <td>288.00</td>\n",
       "    </tr>\n",
       "    <tr>\n",
       "      <th>124</th>\n",
       "      <td>270</td>\n",
       "      <td>353</td>\n",
       "      <td>2</td>\n",
       "      <td>2</td>\n",
       "      <td>1044.90</td>\n",
       "      <td>2999.98</td>\n",
       "    </tr>\n",
       "    <tr>\n",
       "      <th>123</th>\n",
       "      <td>266</td>\n",
       "      <td>350</td>\n",
       "      <td>2</td>\n",
       "      <td>3</td>\n",
       "      <td>404.80</td>\n",
       "      <td>944.60</td>\n",
       "    </tr>\n",
       "    <tr>\n",
       "      <th>122</th>\n",
       "      <td>266</td>\n",
       "      <td>364</td>\n",
       "      <td>2</td>\n",
       "      <td>2</td>\n",
       "      <td>159.98</td>\n",
       "      <td>399.56</td>\n",
       "    </tr>\n",
       "    <tr>\n",
       "      <th>121</th>\n",
       "      <td>266</td>\n",
       "      <td>361</td>\n",
       "      <td>2</td>\n",
       "      <td>2</td>\n",
       "      <td>25.80</td>\n",
       "      <td>144.90</td>\n",
       "    </tr>\n",
       "    <tr>\n",
       "      <th>114</th>\n",
       "      <td>266</td>\n",
       "      <td>366</td>\n",
       "      <td>1</td>\n",
       "      <td>1</td>\n",
       "      <td>1004.99</td>\n",
       "      <td>13440.00</td>\n",
       "    </tr>\n",
       "    <tr>\n",
       "      <th>113</th>\n",
       "      <td>266</td>\n",
       "      <td>366</td>\n",
       "      <td>1</td>\n",
       "      <td>1</td>\n",
       "      <td>402.90</td>\n",
       "      <td>999.99</td>\n",
       "    </tr>\n",
       "    <tr>\n",
       "      <th>112</th>\n",
       "      <td>266</td>\n",
       "      <td>366</td>\n",
       "      <td>1</td>\n",
       "      <td>1</td>\n",
       "      <td>150.54</td>\n",
       "      <td>400.00</td>\n",
       "    </tr>\n",
       "    <tr>\n",
       "      <th>111</th>\n",
       "      <td>266</td>\n",
       "      <td>366</td>\n",
       "      <td>1</td>\n",
       "      <td>1</td>\n",
       "      <td>2.29</td>\n",
       "      <td>150.00</td>\n",
       "    </tr>\n",
       "  </tbody>\n",
       "</table>\n",
       "</div>"
      ],
      "text/plain": [
       "    recency      frequency     monetary          \n",
       "        min  max       min max      min       max\n",
       "rfm                                              \n",
       "443      15   68         6  11   440.94    664.20\n",
       "434      75   79         4   5  1535.40   1650.00\n",
       "433      12   80         4   5   439.40    633.16\n",
       "424      22   92         2   3  1021.50   4080.00\n",
       "423       9   93         2   3   401.20    999.90\n",
       "422       1   94         2   3   150.19    397.80\n",
       "421       7   93         2   3    22.49    149.99\n",
       "414       9   94         1   1  1005.55   7160.00\n",
       "413       6   94         1   1   402.35    999.99\n",
       "412       6   94         1   1   150.40    399.99\n",
       "411       6   94         1   1     2.20    150.00\n",
       "343      95   95         7   7   806.61    806.61\n",
       "333     153  153         4   4   422.35    422.35\n",
       "332     152  152         4   4   175.19    175.19\n",
       "324      95  162         2   3  1004.99   1828.44\n",
       "323     101  176         2   3   401.64    983.99\n",
       "322      96  177         2   3   150.90    399.80\n",
       "321      96  176         2   3    19.80    148.00\n",
       "314      95  177         1   1  1001.00   4400.00\n",
       "313      95  177         1   1   403.90   1000.00\n",
       "312      95  177         1   1   150.88    400.00\n",
       "311      95  177         1   1     0.85    150.00\n",
       "244     189  189         6   6  1000.85   1000.85\n",
       "243     202  202         7   7   809.21    809.21\n",
       "233     182  259         4   5   486.00    745.80\n",
       "224     181  261         2   2  1109.80   1663.00\n",
       "223     178  245         2   3   408.00    965.80\n",
       "222     178  264         2   3   152.55    399.80\n",
       "221     178  264         2   3    11.98    149.98\n",
       "214     179  265         1   1  1005.63   3690.00\n",
       "213     178  265         1   1   400.15    999.90\n",
       "212     178  265         1   1   150.90    400.00\n",
       "211     178  265         1   1     2.99    150.00\n",
       "132     287  287         4   4   288.00    288.00\n",
       "124     270  353         2   2  1044.90   2999.98\n",
       "123     266  350         2   3   404.80    944.60\n",
       "122     266  364         2   2   159.98    399.56\n",
       "121     266  361         2   2    25.80    144.90\n",
       "114     266  366         1   1  1004.99  13440.00\n",
       "113     266  366         1   1   402.90    999.99\n",
       "112     266  366         1   1   150.54    400.00\n",
       "111     266  366         1   1     2.29    150.00"
      ]
     },
     "execution_count": 130,
     "metadata": {},
     "output_type": "execute_result"
    }
   ],
   "source": [
    "rfm.groupby('rfm').agg({'recency':['min', 'max'],\n",
    "                                        'frequency': ['min', 'max'],\n",
    "                                        'monetary': ['min', 'max']}).sort_index(ascending=False)"
   ]
  },
  {
   "cell_type": "markdown",
   "id": "890fb1da",
   "metadata": {
    "id": "890fb1da"
   },
   "source": [
    "Также найдем общий rfm скор и на его основе добавим название сегментов"
   ]
  },
  {
   "cell_type": "code",
   "execution_count": 131,
   "id": "838b10b9",
   "metadata": {
    "id": "838b10b9"
   },
   "outputs": [],
   "source": [
    "rfm['rfm_score'] = rfm.r + rfm.f + rfm.m"
   ]
  },
  {
   "cell_type": "code",
   "execution_count": 132,
   "id": "d2706a4e",
   "metadata": {
    "id": "d2706a4e"
   },
   "outputs": [],
   "source": [
    "def rfm_segments(df):\n",
    "    if df['rfm_score'] >= 9:\n",
    "        return 'Can\\'t Loose Them'\n",
    "    elif ((df['rfm_score'] >= 8) and (df['rfm_score'] < 9)):\n",
    "        return 'Champions'\n",
    "    elif ((df['rfm_score'] >= 7) and (df['rfm_score'] < 8)):\n",
    "        return 'Loyal'\n",
    "    elif ((df['rfm_score'] >= 6) and (df['rfm_score'] < 7)):\n",
    "        return 'Potential'\n",
    "    elif ((df['rfm_score'] >= 5) and (df['rfm_score'] < 6)):\n",
    "        return 'Promising'\n",
    "    elif ((df['rfm_score'] >= 4) and (df['rfm_score'] < 5)):\n",
    "        return 'Needs Attention'\n",
    "    else:\n",
    "        return 'Require Activation'\n"
   ]
  },
  {
   "cell_type": "code",
   "execution_count": 133,
   "id": "7f77e5f5",
   "metadata": {
    "id": "7f77e5f5"
   },
   "outputs": [],
   "source": [
    "rfm['segment'] = rfm.apply(rfm_segments, axis=1)"
   ]
  },
  {
   "cell_type": "code",
   "execution_count": 134,
   "id": "be06dbb8",
   "metadata": {
    "id": "be06dbb8",
    "outputId": "f04db1df-a18b-4fb2-b693-1234d8a6a440"
   },
   "outputs": [
    {
     "data": {
      "text/html": [
       "<div>\n",
       "<style scoped>\n",
       "    .dataframe tbody tr th:only-of-type {\n",
       "        vertical-align: middle;\n",
       "    }\n",
       "\n",
       "    .dataframe tbody tr th {\n",
       "        vertical-align: top;\n",
       "    }\n",
       "\n",
       "    .dataframe thead th {\n",
       "        text-align: right;\n",
       "    }\n",
       "</style>\n",
       "<table border=\"1\" class=\"dataframe\">\n",
       "  <thead>\n",
       "    <tr style=\"text-align: right;\">\n",
       "      <th></th>\n",
       "      <th>customer_unique_id</th>\n",
       "      <th>recency</th>\n",
       "      <th>frequency</th>\n",
       "      <th>monetary</th>\n",
       "      <th>r</th>\n",
       "      <th>f</th>\n",
       "      <th>m</th>\n",
       "      <th>rfm</th>\n",
       "      <th>rfm_score</th>\n",
       "      <th>segment</th>\n",
       "    </tr>\n",
       "  </thead>\n",
       "  <tbody>\n",
       "    <tr>\n",
       "      <th>0</th>\n",
       "      <td>0000366f3b9a7992bf8c76cfdf3221e2</td>\n",
       "      <td>117</td>\n",
       "      <td>1</td>\n",
       "      <td>129.90</td>\n",
       "      <td>3</td>\n",
       "      <td>1</td>\n",
       "      <td>1</td>\n",
       "      <td>311</td>\n",
       "      <td>5</td>\n",
       "      <td>Promising</td>\n",
       "    </tr>\n",
       "    <tr>\n",
       "      <th>1</th>\n",
       "      <td>0000b849f77a49e4a4ce2b2a4ca5be3f</td>\n",
       "      <td>120</td>\n",
       "      <td>1</td>\n",
       "      <td>18.90</td>\n",
       "      <td>3</td>\n",
       "      <td>1</td>\n",
       "      <td>1</td>\n",
       "      <td>311</td>\n",
       "      <td>5</td>\n",
       "      <td>Promising</td>\n",
       "    </tr>\n",
       "    <tr>\n",
       "      <th>2</th>\n",
       "      <td>0000f6ccb0745a6a4b88665a16c9f078</td>\n",
       "      <td>327</td>\n",
       "      <td>1</td>\n",
       "      <td>25.99</td>\n",
       "      <td>1</td>\n",
       "      <td>1</td>\n",
       "      <td>1</td>\n",
       "      <td>111</td>\n",
       "      <td>3</td>\n",
       "      <td>Require Activation</td>\n",
       "    </tr>\n",
       "    <tr>\n",
       "      <th>3</th>\n",
       "      <td>0004aac84e0df4da2b147fca70cf8255</td>\n",
       "      <td>294</td>\n",
       "      <td>1</td>\n",
       "      <td>180.00</td>\n",
       "      <td>1</td>\n",
       "      <td>1</td>\n",
       "      <td>2</td>\n",
       "      <td>112</td>\n",
       "      <td>4</td>\n",
       "      <td>Needs Attention</td>\n",
       "    </tr>\n",
       "    <tr>\n",
       "      <th>4</th>\n",
       "      <td>0004bd2a26a76fe21f786e4fbd80607f</td>\n",
       "      <td>152</td>\n",
       "      <td>1</td>\n",
       "      <td>154.00</td>\n",
       "      <td>3</td>\n",
       "      <td>1</td>\n",
       "      <td>2</td>\n",
       "      <td>312</td>\n",
       "      <td>6</td>\n",
       "      <td>Potential</td>\n",
       "    </tr>\n",
       "  </tbody>\n",
       "</table>\n",
       "</div>"
      ],
      "text/plain": [
       "                 customer_unique_id  recency  frequency  monetary  r  f  m  \\\n",
       "0  0000366f3b9a7992bf8c76cfdf3221e2      117          1    129.90  3  1  1   \n",
       "1  0000b849f77a49e4a4ce2b2a4ca5be3f      120          1     18.90  3  1  1   \n",
       "2  0000f6ccb0745a6a4b88665a16c9f078      327          1     25.99  1  1  1   \n",
       "3  0004aac84e0df4da2b147fca70cf8255      294          1    180.00  1  1  2   \n",
       "4  0004bd2a26a76fe21f786e4fbd80607f      152          1    154.00  3  1  2   \n",
       "\n",
       "   rfm  rfm_score             segment  \n",
       "0  311          5           Promising  \n",
       "1  311          5           Promising  \n",
       "2  111          3  Require Activation  \n",
       "3  112          4     Needs Attention  \n",
       "4  312          6           Potential  "
      ]
     },
     "execution_count": 134,
     "metadata": {},
     "output_type": "execute_result"
    }
   ],
   "source": [
    "rfm.head()"
   ]
  },
  {
   "cell_type": "code",
   "execution_count": 135,
   "id": "03fbf50a",
   "metadata": {
    "id": "03fbf50a"
   },
   "outputs": [],
   "source": [
    "pd.set_option('display.max_colwidth', None)"
   ]
  },
  {
   "cell_type": "code",
   "execution_count": 136,
   "id": "198716e7",
   "metadata": {
    "id": "198716e7",
    "outputId": "06e47806-5aaa-46a0-ff9d-a64a0dae48f7"
   },
   "outputs": [
    {
     "data": {
      "text/html": [
       "<div>\n",
       "<style scoped>\n",
       "    .dataframe tbody tr th:only-of-type {\n",
       "        vertical-align: middle;\n",
       "    }\n",
       "\n",
       "    .dataframe tbody tr th {\n",
       "        vertical-align: top;\n",
       "    }\n",
       "\n",
       "    .dataframe thead th {\n",
       "        text-align: right;\n",
       "    }\n",
       "</style>\n",
       "<table border=\"1\" class=\"dataframe\">\n",
       "  <thead>\n",
       "    <tr style=\"text-align: right;\">\n",
       "      <th></th>\n",
       "      <th>segment</th>\n",
       "      <th>rfm</th>\n",
       "    </tr>\n",
       "  </thead>\n",
       "  <tbody>\n",
       "    <tr>\n",
       "      <th>0</th>\n",
       "      <td>Can't Loose Them</td>\n",
       "      <td>[414, 424, 324, 423, 243, 333, 433, 434, 244, 443, 343]</td>\n",
       "    </tr>\n",
       "    <tr>\n",
       "      <th>1</th>\n",
       "      <td>Champions</td>\n",
       "      <td>[413, 314, 422, 323, 224, 233, 332]</td>\n",
       "    </tr>\n",
       "    <tr>\n",
       "      <th>2</th>\n",
       "      <td>Loyal</td>\n",
       "      <td>[412, 313, 421, 322, 214, 223, 124]</td>\n",
       "    </tr>\n",
       "    <tr>\n",
       "      <th>3</th>\n",
       "      <td>Needs Attention</td>\n",
       "      <td>[112, 211, 121]</td>\n",
       "    </tr>\n",
       "    <tr>\n",
       "      <th>4</th>\n",
       "      <td>Potential</td>\n",
       "      <td>[312, 411, 213, 321, 114, 222, 123, 132]</td>\n",
       "    </tr>\n",
       "    <tr>\n",
       "      <th>5</th>\n",
       "      <td>Promising</td>\n",
       "      <td>[311, 212, 113, 122, 221]</td>\n",
       "    </tr>\n",
       "    <tr>\n",
       "      <th>6</th>\n",
       "      <td>Require Activation</td>\n",
       "      <td>[111]</td>\n",
       "    </tr>\n",
       "  </tbody>\n",
       "</table>\n",
       "</div>"
      ],
      "text/plain": [
       "              segment                                                      rfm\n",
       "0    Can't Loose Them  [414, 424, 324, 423, 243, 333, 433, 434, 244, 443, 343]\n",
       "1           Champions                      [413, 314, 422, 323, 224, 233, 332]\n",
       "2               Loyal                      [412, 313, 421, 322, 214, 223, 124]\n",
       "3     Needs Attention                                          [112, 211, 121]\n",
       "4           Potential                 [312, 411, 213, 321, 114, 222, 123, 132]\n",
       "5           Promising                                [311, 212, 113, 122, 221]\n",
       "6  Require Activation                                                    [111]"
      ]
     },
     "execution_count": 136,
     "metadata": {},
     "output_type": "execute_result"
    }
   ],
   "source": [
    "# разбиение на сегменты по rfm скору\n",
    "rfm.groupby('segment', as_index=False)['rfm'].unique()"
   ]
  },
  {
   "cell_type": "code",
   "execution_count": 137,
   "id": "799f43f7",
   "metadata": {
    "id": "799f43f7",
    "outputId": "651ab58b-5d1a-4e4f-ecd2-a16528313510"
   },
   "outputs": [
    {
     "data": {
      "image/png": "[encoded data removed]",
      "text/plain": [
       "<Figure size 1000x600 with 1 Axes>"
      ]
     },
     "metadata": {},
     "output_type": "display_data"
    }
   ],
   "source": [
    "fig, ax = plt.subplots(figsize=(10,6))\n",
    "sns.countplot(data=rfm, x='segment', order=rfm.segment.value_counts().index, palette='Blues')\n",
    "ax.bar_label(ax.containers[0], labels=rfm.segment.value_counts(normalize=True).mul(100).round(2).astype('str') + '%')\n",
    "ax.set_title('Customers segmentation\\n')\n",
    "ax.set_xlabel('\\nsegments')\n",
    "ax.set_ylabel('number of customers\\n')\n",
    "ax.tick_params(axis='x', rotation=45)\n",
    "ax.yaxis.set_major_formatter(ticker.FuncFormatter(lambda y, pos: '{:,.2f}'.format(y/1000) + 'k'))\n",
    "plt.tight_layout()\n",
    "sns.despine()"
   ]
  },
  {
   "cell_type": "markdown",
   "id": "a3fdedef",
   "metadata": {
    "id": "a3fdedef"
   },
   "source": [
    "Сегменты:\n",
    "- **Require Activation** - Скорее всего, эти клиенты уже ушли от нас, и потребуют новой стратегии для их привлечения. Можно автоматическую цепочку реактивации.\n",
    "\n",
    "\n",
    "- **Needs Attetion** - Эти клиенты сделали у нас несколько покупок, а потом перестали покупать. Их можно попытаться вернуть и обязательно получить обратную связь, почему они от нас ушли. Можно отправить реактивационную рассылку с опросом.\n",
    "\n",
    "- **Promising** - Этих клиентов обязательно нужно попытаться вернуть. Отправляем им реактивационные письма, запрашиваем обратную связь, предлагаем бонусы, программы лояльности.\n",
    "\n",
    "- **Potential** - Предложить членство / программу лояльности. Стараться держать их вовлеченными. Предлагать персональные рекомендации.\n",
    "\n",
    "- **Loyal** - Можно попытаться увеличить сумму чека допродажей. Отправить им рассылки с сопутствующими товарами.\n",
    "\n",
    "- **Champions** - Можно как то поощрить. Предложить новые продукты. Могут поспособствовать продвижению бренда. Наиболее вероятно приведут новых клиентов.\n",
    "\n",
    "- **Can't Loose Them** - Не в коем случае нельзя терять этих клиентов. Можно отправить им особые предложения, например, участие в программе лояльности — приглашение в клуб любимых клиентов."
   ]
  },
  {
   "cell_type": "markdown",
   "id": "abc41139",
   "metadata": {
    "id": "abc41139"
   },
   "source": [
    "### Выводы:"
   ]
  },
  {
   "cell_type": "markdown",
   "id": "389e0b73",
   "metadata": {
    "id": "389e0b73"
   },
   "source": [
    "Для решения поставленных задач было принято решение считать покупкой все заказы со статусом 'delivered', а также все заказы, в которых есть подтверждение оплаты заказа (наличие даты в колонке 'order_approved_at'), кроме заказов со статусом 'created' (не имеют подтверждения оплаты заказа) и заказов со статусом 'canceled', в которых отсутствует подтверждение оплаты."
   ]
  },
  {
   "cell_type": "markdown",
   "id": "376496e4",
   "metadata": {
    "id": "376496e4"
   },
   "source": [
    "Всего внаших данных содержится информация об 96096 уникальных пользователях, которые суммарно совершили 99295 покупок."
   ]
  },
  {
   "cell_type": "markdown",
   "id": "add12d80",
   "metadata": {
    "id": "add12d80"
   },
   "source": [
    "Было опредено,что 93061 пользователь совершил только одну покупку."
   ]
  },
  {
   "cell_type": "markdown",
   "id": "6ed01377",
   "metadata": {
    "id": "6ed01377"
   },
   "source": [
    "В месяц в среднем по разным причинам не доставляется следующее количесвто заказов:\n",
    "1. 'shipped' - 48.13\n",
    "2. 'unavailable' - 29\n",
    "3. 'canceled' - 20.78\n",
    "4. 'processing' - 15.85\n",
    "5. 'invoiced' - 14.95\n",
    "6. 'approved' - 1"
   ]
  },
  {
   "cell_type": "markdown",
   "id": "6c0a0f58",
   "metadata": {
    "id": "6c0a0f58"
   },
   "source": [
    "Для каждого товара был определен день, когда товар покупался чаще всего. Есть товары, которые одинаково часто покупались в разные дни недели."
   ]
  },
  {
   "cell_type": "markdown",
   "id": "f6ed6187",
   "metadata": {
    "id": "f6ed6187"
   },
   "source": [
    "В среденм пользователи по месяцам совершают 0.233404 покупки в неделю, что примерно соответствует 1 покупке в месяц."
   ]
  },
  {
   "cell_type": "markdown",
   "id": "1f07728b",
   "metadata": {
    "id": "1f07728b"
   },
   "source": [
    "Был проведен когортный анализ пользоваетелей. Самый высокий Retention Rate за 3 месяц у когорты '2017-03' - 0.42%."
   ]
  },
  {
   "cell_type": "markdown",
   "id": "130f0bec",
   "metadata": {
    "id": "130f0bec"
   },
   "source": [
    "Для качественной оценки аудитории была построена RFM-сегментация пользователей."
   ]
  },
  {
   "cell_type": "markdown",
   "id": "b44139d9",
   "metadata": {
    "id": "b44139d9"
   },
   "source": [
    "Треть пользователей находится в оттоковом состоянии. Можно попытаться их вернуть, не тратя при этом много средств. Почти половину пользователей составляют либо новички, либо те кто совершил несколько покупок, но при этом тратит не так много и часто, нужно попытаться их перевести в более лояльный сегмент. Чуть больше 8% составляют наши лучшие покупатели, которые тратят часто и много. Необходимо работать над их удержанием."
   ]
  },
  {
   "cell_type": "code",
   "execution_count": null,
   "id": "f2ef2e4b",
   "metadata": {
    "id": "f2ef2e4b"
   },
   "outputs": [],
   "source": []
  },
  {
   "cell_type": "code",
   "execution_count": null,
   "id": "f5e6ef2a-9094-4fbd-aece-294a3fd1dd47",
   "metadata": {},
   "outputs": [],
   "source": []
  },
  {
   "cell_type": "code",
   "execution_count": null,
   "id": "bbfc054b-27f5-4284-b6a6-d8e173be3d2d",
   "metadata": {},
   "outputs": [],
   "source": []
  },
  {
   "cell_type": "code",
   "execution_count": null,
   "id": "8afb540f-a91c-4034-8154-afe1c719a8df",
   "metadata": {},
   "outputs": [],
   "source": []
  },
  {
   "cell_type": "code",
   "execution_count": null,
   "id": "3f967272-7101-4ef2-8039-ac62fdb4bc7c",
   "metadata": {},
   "outputs": [],
   "source": []
  }
 ],
 "metadata": {
  "colab": {
   "provenance": []
  },
  "kernelspec": {
   "display_name": "Python 3 (ipykernel)",
   "language": "python",
   "name": "python3"
  },
  "language_info": {
   "codemirror_mode": {
    "name": "ipython",
    "version": 3
   },
   "file_extension": ".py",
   "mimetype": "text/x-python",
   "name": "python",
   "nbconvert_exporter": "python",
   "pygments_lexer": "ipython3",
   "version": "3.9.6"
  }
 },
 "nbformat": 4,
 "nbformat_minor": 5
}
